{
 "cells": [
  {
   "cell_type": "markdown",
   "id": "afb18d61",
   "metadata": {},
   "source": [
    "# Import packages and dataset"
   ]
  },
  {
   "cell_type": "code",
   "execution_count": 1,
   "id": "42f8ea92",
   "metadata": {},
   "outputs": [],
   "source": [
    "## Data manipulation\n",
    "import pandas as pd\n",
    "import numpy as np\n",
    "import pyrsm as rsm\n",
    "import os\n",
    "import glob\n",
    "import re\n",
    "import warnings\n",
    "warnings.filterwarnings(\"ignore\")\n",
    "import sys\n",
    "sys.path.append('../../')\n",
    "\n",
    "\n",
    "## Sklearn module\n",
    "from sklearn.model_selection import (\n",
    "    GridSearchCV, \n",
    "    train_test_split,\n",
    "    ShuffleSplit\n",
    ")\n",
    "from sklearn import (\n",
    "    svm, \n",
    "    naive_bayes, \n",
    "    metrics, \n",
    "    preprocessing\n",
    ") \n",
    "from sklearn.ensemble import RandomForestClassifier\n",
    "from sklearn.feature_extraction.text import TfidfTransformer, TfidfVectorizer\n",
    "\n",
    "\n",
    "## XGBoost module\n",
    "import xgboost as xgb\n",
    "\n",
    "\n",
    "## SimpleTransformers module\n",
    "import torch\n",
    "from simpletransformers.classification import ClassificationModel\n",
    "os.environ['WANDB_SILENT']=\"true\"\n",
    "\n",
    "\n",
    "## Language Processing\n",
    "# NLTK module\n",
    "import nltk\n",
    "from nltk.tokenize import word_tokenize as wt\n",
    "from nltk.tokenize import sent_tokenize as st\n",
    "from nltk.stem import PorterStemmer \n",
    "from nltk.corpus import stopwords\n",
    "# Jieba module\n",
    "import jieba\n",
    "\n",
    "\n",
    "## Graphing\n",
    "import matplotlib.pyplot as plt\n",
    "import matplotlib.font_manager\n",
    "import seaborn as sns\n",
    "# increase plot resolution and set font\n",
    "matplotlib.font_manager.fontManager.addfont('STHeitiSC-Medium-02.ttf')\n",
    "%matplotlib inline\n",
    "plt.rcParams[\"figure.dpi\"] = 130\n",
    "plt.rcParams['font.family'] = ['Heiti SC']\n",
    "plt.rcParams['axes.unicode_minus'] = False"
   ]
  },
  {
   "cell_type": "code",
   "execution_count": 4,
   "id": "29ae6a20",
   "metadata": {},
   "outputs": [
    {
     "data": {
      "text/html": [
       "<div>\n",
       "<style scoped>\n",
       "    .dataframe tbody tr th:only-of-type {\n",
       "        vertical-align: middle;\n",
       "    }\n",
       "\n",
       "    .dataframe tbody tr th {\n",
       "        vertical-align: top;\n",
       "    }\n",
       "\n",
       "    .dataframe thead th {\n",
       "        text-align: right;\n",
       "    }\n",
       "</style>\n",
       "<table border=\"1\" class=\"dataframe\">\n",
       "  <thead>\n",
       "    <tr style=\"text-align: right;\">\n",
       "      <th></th>\n",
       "      <th>0</th>\n",
       "      <th>1</th>\n",
       "      <th>2</th>\n",
       "      <th>3</th>\n",
       "      <th>4</th>\n",
       "    </tr>\n",
       "  </thead>\n",
       "  <tbody>\n",
       "    <tr>\n",
       "      <th>PUBTYPE</th>\n",
       "      <td>app</td>\n",
       "      <td>NaN</td>\n",
       "      <td>app</td>\n",
       "      <td>NaN</td>\n",
       "      <td>NaN</td>\n",
       "    </tr>\n",
       "    <tr>\n",
       "      <th>SOURCE</th>\n",
       "      <td>看点快报 APP</td>\n",
       "      <td>NaN</td>\n",
       "      <td>看点快报 APP</td>\n",
       "      <td>NaN</td>\n",
       "      <td>NaN</td>\n",
       "    </tr>\n",
       "    <tr>\n",
       "      <th>PUBLISHDATE</th>\n",
       "      <td>21/3/2020 16:00:00</td>\n",
       "      <td>NaN</td>\n",
       "      <td>21/3/2020 16:00:00</td>\n",
       "      <td>NaN</td>\n",
       "      <td>NaN</td>\n",
       "    </tr>\n",
       "    <tr>\n",
       "      <th>AUTHOR</th>\n",
       "      <td>科比系列</td>\n",
       "      <td>NaN</td>\n",
       "      <td>科比系列</td>\n",
       "      <td>NaN</td>\n",
       "      <td>NaN</td>\n",
       "    </tr>\n",
       "    <tr>\n",
       "      <th>SECTION</th>\n",
       "      <td>天天快报</td>\n",
       "      <td>NaN</td>\n",
       "      <td>天天快报</td>\n",
       "      <td>NaN</td>\n",
       "      <td>NaN</td>\n",
       "    </tr>\n",
       "    <tr>\n",
       "      <th>WORDCOUNT</th>\n",
       "      <td>193.0</td>\n",
       "      <td>NaN</td>\n",
       "      <td>193.0</td>\n",
       "      <td>NaN</td>\n",
       "      <td>NaN</td>\n",
       "    </tr>\n",
       "    <tr>\n",
       "      <th>HEADLINE</th>\n",
       "      <td>NIKE LEBRON 17 \"COMMAND FORCE\" 实物首度曝光</td>\n",
       "      <td>NaN</td>\n",
       "      <td>NIKE LEBRON 17 \"COMMAND FORCE\" 实物首度曝光</td>\n",
       "      <td>NaN</td>\n",
       "      <td>NaN</td>\n",
       "    </tr>\n",
       "    <tr>\n",
       "      <th>SENTENCE</th>\n",
       "      <td>'LeBron 系列再度致敬 Nike 旗下经典鞋款我们可以经常看到 Nike 在近年的 L...</td>\n",
       "      <td>NaN</td>\n",
       "      <td>'据悉，这双Nike LeBron 17 \"Command Force\"将会在今年晚些时候...</td>\n",
       "      <td>NaN</td>\n",
       "      <td>NaN</td>\n",
       "    </tr>\n",
       "    <tr>\n",
       "      <th>RELEVANT</th>\n",
       "      <td>1.0</td>\n",
       "      <td>NaN</td>\n",
       "      <td>1.0</td>\n",
       "      <td>NaN</td>\n",
       "      <td>NaN</td>\n",
       "    </tr>\n",
       "    <tr>\n",
       "      <th>INDICATORWORD</th>\n",
       "      <td>LeBron</td>\n",
       "      <td>NaN</td>\n",
       "      <td>LeBron</td>\n",
       "      <td>NaN</td>\n",
       "      <td>NaN</td>\n",
       "    </tr>\n",
       "  </tbody>\n",
       "</table>\n",
       "</div>"
      ],
      "text/plain": [
       "                                                               0    1  \\\n",
       "PUBTYPE                                                      app  NaN   \n",
       "SOURCE                                                  看点快报 APP  NaN   \n",
       "PUBLISHDATE                                   21/3/2020 16:00:00  NaN   \n",
       "AUTHOR                                                      科比系列  NaN   \n",
       "SECTION                                                     天天快报  NaN   \n",
       "WORDCOUNT                                                  193.0  NaN   \n",
       "HEADLINE                   NIKE LEBRON 17 \"COMMAND FORCE\" 实物首度曝光  NaN   \n",
       "SENTENCE       'LeBron 系列再度致敬 Nike 旗下经典鞋款我们可以经常看到 Nike 在近年的 L...  NaN   \n",
       "RELEVANT                                                     1.0  NaN   \n",
       "INDICATORWORD                                             LeBron  NaN   \n",
       "\n",
       "                                                               2    3    4  \n",
       "PUBTYPE                                                      app  NaN  NaN  \n",
       "SOURCE                                                  看点快报 APP  NaN  NaN  \n",
       "PUBLISHDATE                                   21/3/2020 16:00:00  NaN  NaN  \n",
       "AUTHOR                                                      科比系列  NaN  NaN  \n",
       "SECTION                                                     天天快报  NaN  NaN  \n",
       "WORDCOUNT                                                  193.0  NaN  NaN  \n",
       "HEADLINE                   NIKE LEBRON 17 \"COMMAND FORCE\" 实物首度曝光  NaN  NaN  \n",
       "SENTENCE        '据悉，这双Nike LeBron 17 \"Command Force\"将会在今年晚些时候...  NaN  NaN  \n",
       "RELEVANT                                                     1.0  NaN  NaN  \n",
       "INDICATORWORD                                             LeBron  NaN  NaN  "
      ]
     },
     "execution_count": 4,
     "metadata": {},
     "output_type": "execute_result"
    }
   ],
   "source": [
    "df = pd.read_excel('nike_basketball.xlsx', sheet_name = 0)\n",
    "df.head(5).transpose().drop('DOCID')"
   ]
  },
  {
   "cell_type": "code",
   "execution_count": 5,
   "id": "1ef3a79d",
   "metadata": {},
   "outputs": [
    {
     "data": {
      "text/html": [
       "<div>\n",
       "<style scoped>\n",
       "    .dataframe tbody tr th:only-of-type {\n",
       "        vertical-align: middle;\n",
       "    }\n",
       "\n",
       "    .dataframe tbody tr th {\n",
       "        vertical-align: top;\n",
       "    }\n",
       "\n",
       "    .dataframe thead th {\n",
       "        text-align: right;\n",
       "    }\n",
       "</style>\n",
       "<table border=\"1\" class=\"dataframe\">\n",
       "  <thead>\n",
       "    <tr style=\"text-align: right;\">\n",
       "      <th></th>\n",
       "      <th>4137</th>\n",
       "      <th>4138</th>\n",
       "      <th>4139</th>\n",
       "      <th>4140</th>\n",
       "      <th>4141</th>\n",
       "    </tr>\n",
       "  </thead>\n",
       "  <tbody>\n",
       "    <tr>\n",
       "      <th>PUBTYPE</th>\n",
       "      <td>NaN</td>\n",
       "      <td>NaN</td>\n",
       "      <td>NaN</td>\n",
       "      <td>app</td>\n",
       "      <td>app</td>\n",
       "    </tr>\n",
       "    <tr>\n",
       "      <th>SOURCE</th>\n",
       "      <td>NaN</td>\n",
       "      <td>NaN</td>\n",
       "      <td>NaN</td>\n",
       "      <td>看点快报 APP</td>\n",
       "      <td>看点快报 APP</td>\n",
       "    </tr>\n",
       "    <tr>\n",
       "      <th>PUBLISHDATE</th>\n",
       "      <td>NaN</td>\n",
       "      <td>NaN</td>\n",
       "      <td>NaN</td>\n",
       "      <td>16/4/2020 16:00:00</td>\n",
       "      <td>16/4/2020 16:00:00</td>\n",
       "    </tr>\n",
       "    <tr>\n",
       "      <th>AUTHOR</th>\n",
       "      <td>NaN</td>\n",
       "      <td>NaN</td>\n",
       "      <td>NaN</td>\n",
       "      <td>豹造</td>\n",
       "      <td>豹造</td>\n",
       "    </tr>\n",
       "    <tr>\n",
       "      <th>SECTION</th>\n",
       "      <td>NaN</td>\n",
       "      <td>NaN</td>\n",
       "      <td>NaN</td>\n",
       "      <td>看点快报</td>\n",
       "      <td>看点快报</td>\n",
       "    </tr>\n",
       "    <tr>\n",
       "      <th>WORDCOUNT</th>\n",
       "      <td>NaN</td>\n",
       "      <td>NaN</td>\n",
       "      <td>NaN</td>\n",
       "      <td>969.0</td>\n",
       "      <td>969.0</td>\n",
       "    </tr>\n",
       "    <tr>\n",
       "      <th>HEADLINE</th>\n",
       "      <td>NaN</td>\n",
       "      <td>NaN</td>\n",
       "      <td>NaN</td>\n",
       "      <td>今日有嚯 l OW x Nike Dunk实物图曝光 KD13再曝新配色</td>\n",
       "      <td>今日有嚯 l OW x Nike Dunk实物图曝光 KD13再曝新配色</td>\n",
       "    </tr>\n",
       "    <tr>\n",
       "      <th>SENTENCE</th>\n",
       "      <td>NaN</td>\n",
       "      <td>NaN</td>\n",
       "      <td>NaN</td>\n",
       "      <td>'5.KD13再曝新配色刚刚发售不久的Nike KD13以其优良的性能配置、不俗的造型表现...</td>\n",
       "      <td>'近日，有一款全新配色的Nike KD13 EP \"Chill\"上架国内 SNKRS AP...</td>\n",
       "    </tr>\n",
       "    <tr>\n",
       "      <th>RELEVANT</th>\n",
       "      <td>NaN</td>\n",
       "      <td>NaN</td>\n",
       "      <td>NaN</td>\n",
       "      <td>1.0</td>\n",
       "      <td>1.0</td>\n",
       "    </tr>\n",
       "    <tr>\n",
       "      <th>INDICATORWORD</th>\n",
       "      <td>NaN</td>\n",
       "      <td>NaN</td>\n",
       "      <td>NaN</td>\n",
       "      <td>KD</td>\n",
       "      <td>KD</td>\n",
       "    </tr>\n",
       "  </tbody>\n",
       "</table>\n",
       "</div>"
      ],
      "text/plain": [
       "              4137 4138 4139  \\\n",
       "PUBTYPE        NaN  NaN  NaN   \n",
       "SOURCE         NaN  NaN  NaN   \n",
       "PUBLISHDATE    NaN  NaN  NaN   \n",
       "AUTHOR         NaN  NaN  NaN   \n",
       "SECTION        NaN  NaN  NaN   \n",
       "WORDCOUNT      NaN  NaN  NaN   \n",
       "HEADLINE       NaN  NaN  NaN   \n",
       "SENTENCE       NaN  NaN  NaN   \n",
       "RELEVANT       NaN  NaN  NaN   \n",
       "INDICATORWORD  NaN  NaN  NaN   \n",
       "\n",
       "                                                            4140  \\\n",
       "PUBTYPE                                                      app   \n",
       "SOURCE                                                  看点快报 APP   \n",
       "PUBLISHDATE                                   16/4/2020 16:00:00   \n",
       "AUTHOR                                                        豹造   \n",
       "SECTION                                                     看点快报   \n",
       "WORDCOUNT                                                  969.0   \n",
       "HEADLINE                    今日有嚯 l OW x Nike Dunk实物图曝光 KD13再曝新配色   \n",
       "SENTENCE        '5.KD13再曝新配色刚刚发售不久的Nike KD13以其优良的性能配置、不俗的造型表现...   \n",
       "RELEVANT                                                     1.0   \n",
       "INDICATORWORD                                                 KD   \n",
       "\n",
       "                                                            4141  \n",
       "PUBTYPE                                                      app  \n",
       "SOURCE                                                  看点快报 APP  \n",
       "PUBLISHDATE                                   16/4/2020 16:00:00  \n",
       "AUTHOR                                                        豹造  \n",
       "SECTION                                                     看点快报  \n",
       "WORDCOUNT                                                  969.0  \n",
       "HEADLINE                    今日有嚯 l OW x Nike Dunk实物图曝光 KD13再曝新配色  \n",
       "SENTENCE        '近日，有一款全新配色的Nike KD13 EP \"Chill\"上架国内 SNKRS AP...  \n",
       "RELEVANT                                                     1.0  \n",
       "INDICATORWORD                                                 KD  "
      ]
     },
     "execution_count": 5,
     "metadata": {},
     "output_type": "execute_result"
    }
   ],
   "source": [
    "df.tail(5).transpose().drop('DOCID')"
   ]
  },
  {
   "cell_type": "markdown",
   "id": "03426a2e",
   "metadata": {},
   "source": [
    "# EDA"
   ]
  },
  {
   "cell_type": "code",
   "execution_count": 6,
   "id": "847e371a",
   "metadata": {},
   "outputs": [
    {
     "name": "stdout",
     "output_type": "stream",
     "text": [
      "<class 'pandas.core.frame.DataFrame'>\n",
      "RangeIndex: 4142 entries, 0 to 4141\n",
      "Data columns (total 11 columns):\n",
      " #   Column         Non-Null Count  Dtype  \n",
      "---  ------         --------------  -----  \n",
      " 0   DOCID          1087 non-null   object \n",
      " 1   PUBTYPE        1087 non-null   object \n",
      " 2   SOURCE         1087 non-null   object \n",
      " 3   PUBLISHDATE    1087 non-null   object \n",
      " 4   AUTHOR         1022 non-null   object \n",
      " 5   SECTION        1070 non-null   object \n",
      " 6   WORDCOUNT      1087 non-null   float64\n",
      " 7   HEADLINE       1087 non-null   object \n",
      " 8   SENTENCE       1087 non-null   object \n",
      " 9   RELEVANT       1087 non-null   float64\n",
      " 10  INDICATORWORD  658 non-null    object \n",
      "dtypes: float64(2), object(9)\n",
      "memory usage: 356.1+ KB\n"
     ]
    }
   ],
   "source": [
    "## take a look of the whole data set's information\n",
    "df.info()"
   ]
  },
  {
   "cell_type": "markdown",
   "id": "a5e3424c",
   "metadata": {},
   "source": [
    "##### We can see the data set has missing values, and some column's datatype is not correct. Before heading into the EDA, we need to filter some useless rows, fill N/A value, and change some column's data type"
   ]
  },
  {
   "cell_type": "code",
   "execution_count": 7,
   "id": "5ea6fc2f",
   "metadata": {},
   "outputs": [
    {
     "name": "stdout",
     "output_type": "stream",
     "text": [
      "<class 'pandas.core.frame.DataFrame'>\n",
      "Int64Index: 1087 entries, 0 to 4141\n",
      "Data columns (total 11 columns):\n",
      " #   Column         Non-Null Count  Dtype         \n",
      "---  ------         --------------  -----         \n",
      " 0   DOCID          1087 non-null   object        \n",
      " 1   PUBTYPE        1087 non-null   object        \n",
      " 2   SOURCE         1087 non-null   object        \n",
      " 3   PUBLISHDATE    1087 non-null   datetime64[ns]\n",
      " 4   AUTHOR         1087 non-null   object        \n",
      " 5   SECTION        1087 non-null   object        \n",
      " 6   WORDCOUNT      1087 non-null   float64       \n",
      " 7   HEADLINE       1087 non-null   object        \n",
      " 8   SENTENCE       1087 non-null   object        \n",
      " 9   RELEVANT       1087 non-null   object        \n",
      " 10  INDICATORWORD  1087 non-null   object        \n",
      "dtypes: datetime64[ns](1), float64(1), object(9)\n",
      "memory usage: 101.9+ KB\n"
     ]
    }
   ],
   "source": [
    "## Filter rows with DOCID is NaN\n",
    "df_clean = df[df.DOCID.notnull()]\n",
    "\n",
    "## Fill NaN for each Column\n",
    "df_clean.loc[:, 'AUTHOR'] = df_clean.loc[:, 'AUTHOR'].fillna('Missing Author')\n",
    "df_clean.loc[:, 'SECTION'] = df_clean.loc[:, 'SECTION'].fillna('Missing Section')\n",
    "df_clean.loc[:, 'INDICATORWORD'] = df_clean.loc[:, 'INDICATORWORD'].fillna('Missing Indicator')\n",
    "\n",
    "## Define column to correct data type\n",
    "df_clean['PUBLISHDATE'] = pd.to_datetime(df_clean['PUBLISHDATE'])\n",
    "df_clean['PUBTYPE'] = df_clean['PUBTYPE'].astype(str)\n",
    "df_clean['RELEVANT'] = df_clean['RELEVANT'].astype(str)\n",
    "\n",
    "## Chcek data set's information again\n",
    "df_clean.info()"
   ]
  },
  {
   "cell_type": "code",
   "execution_count": 12,
   "id": "eadb01a7",
   "metadata": {},
   "outputs": [
    {
     "data": {
      "text/html": [
       "<div>\n",
       "<style scoped>\n",
       "    .dataframe tbody tr th:only-of-type {\n",
       "        vertical-align: middle;\n",
       "    }\n",
       "\n",
       "    .dataframe tbody tr th {\n",
       "        vertical-align: top;\n",
       "    }\n",
       "\n",
       "    .dataframe thead th {\n",
       "        text-align: right;\n",
       "    }\n",
       "</style>\n",
       "<table border=\"1\" class=\"dataframe\">\n",
       "  <thead>\n",
       "    <tr style=\"text-align: right;\">\n",
       "      <th></th>\n",
       "      <th>count</th>\n",
       "      <th>unique</th>\n",
       "      <th>top</th>\n",
       "      <th>freq</th>\n",
       "    </tr>\n",
       "  </thead>\n",
       "  <tbody>\n",
       "    <tr>\n",
       "      <th>PUBTYPE</th>\n",
       "      <td>1087</td>\n",
       "      <td>1</td>\n",
       "      <td>app</td>\n",
       "      <td>1087</td>\n",
       "    </tr>\n",
       "    <tr>\n",
       "      <th>SOURCE</th>\n",
       "      <td>1087</td>\n",
       "      <td>17</td>\n",
       "      <td>看点快报 APP</td>\n",
       "      <td>304</td>\n",
       "    </tr>\n",
       "    <tr>\n",
       "      <th>AUTHOR</th>\n",
       "      <td>1087</td>\n",
       "      <td>162</td>\n",
       "      <td>Missing Author</td>\n",
       "      <td>65</td>\n",
       "    </tr>\n",
       "    <tr>\n",
       "      <th>SECTION</th>\n",
       "      <td>1087</td>\n",
       "      <td>108</td>\n",
       "      <td>看点快报</td>\n",
       "      <td>147</td>\n",
       "    </tr>\n",
       "    <tr>\n",
       "      <th>HEADLINE</th>\n",
       "      <td>1087</td>\n",
       "      <td>255</td>\n",
       "      <td>耐克一天蒸发13亿美元NBA准状元一脚球鞋对半裂开</td>\n",
       "      <td>47</td>\n",
       "    </tr>\n",
       "    <tr>\n",
       "      <th>SENTENCE</th>\n",
       "      <td>1087</td>\n",
       "      <td>1051</td>\n",
       "      <td>Air Jordan</td>\n",
       "      <td>7</td>\n",
       "    </tr>\n",
       "    <tr>\n",
       "      <th>RELEVANT</th>\n",
       "      <td>1087</td>\n",
       "      <td>2</td>\n",
       "      <td>1.0</td>\n",
       "      <td>669</td>\n",
       "    </tr>\n",
       "    <tr>\n",
       "      <th>INDICATORWORD</th>\n",
       "      <td>1087</td>\n",
       "      <td>30</td>\n",
       "      <td>Missing Indicator</td>\n",
       "      <td>429</td>\n",
       "    </tr>\n",
       "  </tbody>\n",
       "</table>\n",
       "</div>"
      ],
      "text/plain": [
       "              count unique                        top  freq\n",
       "PUBTYPE        1087      1                        app  1087\n",
       "SOURCE         1087     17                   看点快报 APP   304\n",
       "AUTHOR         1087    162             Missing Author    65\n",
       "SECTION        1087    108                       看点快报   147\n",
       "HEADLINE       1087    255  耐克一天蒸发13亿美元NBA准状元一脚球鞋对半裂开    47\n",
       "SENTENCE       1087   1051                 Air Jordan     7\n",
       "RELEVANT       1087      2                        1.0   669\n",
       "INDICATORWORD  1087     30          Missing Indicator   429"
      ]
     },
     "execution_count": 12,
     "metadata": {},
     "output_type": "execute_result"
    }
   ],
   "source": [
    "## Check data set's basic statistics\n",
    "df_clean.describe(include=object).transpose().drop('DOCID')"
   ]
  },
  {
   "cell_type": "markdown",
   "id": "9bb51205",
   "metadata": {},
   "source": [
    "##### From the basic statistical information, we can see only one publish type and 257 different articles. The most frequent showing app is 看点快报 APP, and it has a frequency of 17 times. <br/><br/> Besides that, we can see the unique value between DOCID and HEADLINE variables is not equal. Then, we assume there is probably something wrong with the data collection, or there are some duplicated rows. "
   ]
  },
  {
   "cell_type": "code",
   "execution_count": 29,
   "id": "52c37bb4",
   "metadata": {},
   "outputs": [
    {
     "data": {
      "text/html": [
       "<div>\n",
       "<style scoped>\n",
       "    .dataframe tbody tr th:only-of-type {\n",
       "        vertical-align: middle;\n",
       "    }\n",
       "\n",
       "    .dataframe tbody tr th {\n",
       "        vertical-align: top;\n",
       "    }\n",
       "\n",
       "    .dataframe thead th {\n",
       "        text-align: right;\n",
       "    }\n",
       "</style>\n",
       "<table border=\"1\" class=\"dataframe\">\n",
       "  <thead>\n",
       "    <tr style=\"text-align: right;\">\n",
       "      <th></th>\n",
       "      <th>HEADLINE</th>\n",
       "    </tr>\n",
       "  </thead>\n",
       "  <tbody>\n",
       "    <tr>\n",
       "      <th>41</th>\n",
       "      <td>Nike Air Force 1添了点绿</td>\n",
       "    </tr>\n",
       "    <tr>\n",
       "      <th>217</th>\n",
       "      <td>耐克一天蒸发13亿美元NBA准状元一脚球鞋对半裂开</td>\n",
       "    </tr>\n",
       "  </tbody>\n",
       "</table>\n",
       "</div>"
      ],
      "text/plain": [
       "                      HEADLINE\n",
       "41        Nike Air Force 1添了点绿\n",
       "217  耐克一天蒸发13亿美元NBA准状元一脚球鞋对半裂开"
      ]
     },
     "execution_count": 29,
     "metadata": {},
     "output_type": "execute_result"
    }
   ],
   "source": [
    "## Find DOCID and HEADLINE combination and duplicated content\n",
    "dup_row = df_clean.groupby(['DOCID', 'HEADLINE']).count().reset_index()[['DOCID', 'HEADLINE']]\n",
    "dup_row[dup_row.duplicated('HEADLINE')].drop(\"DOCID\", axis = 1)"
   ]
  },
  {
   "cell_type": "code",
   "execution_count": 16,
   "id": "0334ef01",
   "metadata": {},
   "outputs": [
    {
     "data": {
      "text/html": [
       "<div>\n",
       "<style scoped>\n",
       "    .dataframe tbody tr th:only-of-type {\n",
       "        vertical-align: middle;\n",
       "    }\n",
       "\n",
       "    .dataframe tbody tr th {\n",
       "        vertical-align: top;\n",
       "    }\n",
       "\n",
       "    .dataframe thead th {\n",
       "        text-align: right;\n",
       "    }\n",
       "</style>\n",
       "<table border=\"1\" class=\"dataframe\">\n",
       "  <thead>\n",
       "    <tr style=\"text-align: right;\">\n",
       "      <th></th>\n",
       "      <th>0</th>\n",
       "      <th>1</th>\n",
       "    </tr>\n",
       "  </thead>\n",
       "  <tbody>\n",
       "    <tr>\n",
       "      <th>HEADLINE</th>\n",
       "      <td>Nike Air Force 1添了点绿</td>\n",
       "      <td>Nike Air Force 1添了点绿</td>\n",
       "    </tr>\n",
       "    <tr>\n",
       "      <th>PUBTYPE</th>\n",
       "      <td>app</td>\n",
       "      <td>app</td>\n",
       "    </tr>\n",
       "    <tr>\n",
       "      <th>SOURCE</th>\n",
       "      <td>凤凰新闻 APP</td>\n",
       "      <td>看点快报 APP</td>\n",
       "    </tr>\n",
       "    <tr>\n",
       "      <th>PUBLISHDATE</th>\n",
       "      <td>2020-12-05 16:00:00</td>\n",
       "      <td>2020-12-05 16:00:00</td>\n",
       "    </tr>\n",
       "    <tr>\n",
       "      <th>AUTHOR</th>\n",
       "      <td>传说中的大波浪</td>\n",
       "      <td>型男养成记</td>\n",
       "    </tr>\n",
       "    <tr>\n",
       "      <th>SECTION</th>\n",
       "      <td>凤凰新闻</td>\n",
       "      <td>看点快报</td>\n",
       "    </tr>\n",
       "    <tr>\n",
       "      <th>WORDCOUNT</th>\n",
       "      <td>307.0</td>\n",
       "      <td>339.0</td>\n",
       "    </tr>\n",
       "    <tr>\n",
       "      <th>SENTENCE</th>\n",
       "      <td>'不用多说，穿着白色的AF1走在大街上总会让人多瞩目一眼，价格相比普通的运动鞋还是稍显贵了...</td>\n",
       "      <td>'不用多说，穿着白色的AF1走在大街上总会让人多瞩目一眼，价格相比普通的运动鞋还是稍显贵了...</td>\n",
       "    </tr>\n",
       "    <tr>\n",
       "      <th>RELEVANT</th>\n",
       "      <td>1.0</td>\n",
       "      <td>1.0</td>\n",
       "    </tr>\n",
       "    <tr>\n",
       "      <th>INDICATORWORD</th>\n",
       "      <td>AJ</td>\n",
       "      <td>AJ</td>\n",
       "    </tr>\n",
       "  </tbody>\n",
       "</table>\n",
       "</div>"
      ],
      "text/plain": [
       "                                                               0  \\\n",
       "HEADLINE                                    Nike Air Force 1添了点绿   \n",
       "PUBTYPE                                                      app   \n",
       "SOURCE                                                  凤凰新闻 APP   \n",
       "PUBLISHDATE                                  2020-12-05 16:00:00   \n",
       "AUTHOR                                                   传说中的大波浪   \n",
       "SECTION                                                     凤凰新闻   \n",
       "WORDCOUNT                                                  307.0   \n",
       "SENTENCE        '不用多说，穿着白色的AF1走在大街上总会让人多瞩目一眼，价格相比普通的运动鞋还是稍显贵了...   \n",
       "RELEVANT                                                     1.0   \n",
       "INDICATORWORD                                                 AJ   \n",
       "\n",
       "                                                               1  \n",
       "HEADLINE                                    Nike Air Force 1添了点绿  \n",
       "PUBTYPE                                                      app  \n",
       "SOURCE                                                  看点快报 APP  \n",
       "PUBLISHDATE                                  2020-12-05 16:00:00  \n",
       "AUTHOR                                                     型男养成记  \n",
       "SECTION                                                     看点快报  \n",
       "WORDCOUNT                                                  339.0  \n",
       "SENTENCE        '不用多说，穿着白色的AF1走在大街上总会让人多瞩目一眼，价格相比普通的运动鞋还是稍显贵了...  \n",
       "RELEVANT                                                     1.0  \n",
       "INDICATORWORD                                                 AJ  "
      ]
     },
     "execution_count": 16,
     "metadata": {},
     "output_type": "execute_result"
    }
   ],
   "source": [
    "## Find duplicated headline one\n",
    "dup_row_1 = dup_row.query(\"HEADLINE == 'Nike Air Force 1添了点绿'\").merge(\n",
    "    df_clean, \n",
    "    on = ['DOCID', 'HEADLINE'],\n",
    "    how = 'inner'\n",
    ")\n",
    "\n",
    "## we can see they are same article posted on a different platform\n",
    "dup_row_1.transpose().drop('DOCID')"
   ]
  },
  {
   "cell_type": "code",
   "execution_count": 17,
   "id": "08f618bf",
   "metadata": {},
   "outputs": [
    {
     "data": {
      "text/html": [
       "<div>\n",
       "<style scoped>\n",
       "    .dataframe tbody tr th:only-of-type {\n",
       "        vertical-align: middle;\n",
       "    }\n",
       "\n",
       "    .dataframe tbody tr th {\n",
       "        vertical-align: top;\n",
       "    }\n",
       "\n",
       "    .dataframe thead th {\n",
       "        text-align: right;\n",
       "    }\n",
       "</style>\n",
       "<table border=\"1\" class=\"dataframe\">\n",
       "  <thead>\n",
       "    <tr style=\"text-align: right;\">\n",
       "      <th></th>\n",
       "      <th>0</th>\n",
       "      <th>46</th>\n",
       "    </tr>\n",
       "  </thead>\n",
       "  <tbody>\n",
       "    <tr>\n",
       "      <th>HEADLINE</th>\n",
       "      <td>耐克一天蒸发13亿美元NBA准状元一脚球鞋对半裂开</td>\n",
       "      <td>耐克一天蒸发13亿美元NBA准状元一脚球鞋对半裂开</td>\n",
       "    </tr>\n",
       "    <tr>\n",
       "      <th>PUBTYPE</th>\n",
       "      <td>app</td>\n",
       "      <td>app</td>\n",
       "    </tr>\n",
       "    <tr>\n",
       "      <th>SOURCE</th>\n",
       "      <td>新浪财经 APP</td>\n",
       "      <td>新浪财经 APP</td>\n",
       "    </tr>\n",
       "    <tr>\n",
       "      <th>PUBLISHDATE</th>\n",
       "      <td>2019-02-24 16:00:00</td>\n",
       "      <td>2019-02-24 16:00:00</td>\n",
       "    </tr>\n",
       "    <tr>\n",
       "      <th>AUTHOR</th>\n",
       "      <td>鲍一凡</td>\n",
       "      <td>鲍一凡</td>\n",
       "    </tr>\n",
       "    <tr>\n",
       "      <th>SECTION</th>\n",
       "      <td>新浪财经-产经</td>\n",
       "      <td>新浪财经-产经</td>\n",
       "    </tr>\n",
       "    <tr>\n",
       "      <th>WORDCOUNT</th>\n",
       "      <td>1477.0</td>\n",
       "      <td>1477.0</td>\n",
       "    </tr>\n",
       "    <tr>\n",
       "      <th>SENTENCE</th>\n",
       "      <td>'耐克尴尬了'</td>\n",
       "      <td>'cre=tianyi&amp;mod=finappt&amp;loc=5&amp;r=25&amp;rfunc=27&amp;t...</td>\n",
       "    </tr>\n",
       "    <tr>\n",
       "      <th>RELEVANT</th>\n",
       "      <td>0.0</td>\n",
       "      <td>0.0</td>\n",
       "    </tr>\n",
       "    <tr>\n",
       "      <th>INDICATORWORD</th>\n",
       "      <td>Missing Indicator</td>\n",
       "      <td>Missing Indicator</td>\n",
       "    </tr>\n",
       "  </tbody>\n",
       "</table>\n",
       "</div>"
      ],
      "text/plain": [
       "                                      0   \\\n",
       "HEADLINE       耐克一天蒸发13亿美元NBA准状元一脚球鞋对半裂开   \n",
       "PUBTYPE                              app   \n",
       "SOURCE                          新浪财经 APP   \n",
       "PUBLISHDATE          2019-02-24 16:00:00   \n",
       "AUTHOR                               鲍一凡   \n",
       "SECTION                          新浪财经-产经   \n",
       "WORDCOUNT                         1477.0   \n",
       "SENTENCE                         '耐克尴尬了'   \n",
       "RELEVANT                             0.0   \n",
       "INDICATORWORD          Missing Indicator   \n",
       "\n",
       "                                                              46  \n",
       "HEADLINE                               耐克一天蒸发13亿美元NBA准状元一脚球鞋对半裂开  \n",
       "PUBTYPE                                                      app  \n",
       "SOURCE                                                  新浪财经 APP  \n",
       "PUBLISHDATE                                  2019-02-24 16:00:00  \n",
       "AUTHOR                                                       鲍一凡  \n",
       "SECTION                                                  新浪财经-产经  \n",
       "WORDCOUNT                                                 1477.0  \n",
       "SENTENCE        'cre=tianyi&mod=finappt&loc=5&r=25&rfunc=27&t...  \n",
       "RELEVANT                                                     0.0  \n",
       "INDICATORWORD                                  Missing Indicator  "
      ]
     },
     "execution_count": 17,
     "metadata": {},
     "output_type": "execute_result"
    }
   ],
   "source": [
    "## Find headline two\n",
    "dup_row_2 = dup_row.query(\"HEADLINE == '耐克一天蒸发13亿美元NBA准状元一脚球鞋对半裂开'\").merge(\n",
    "    df_clean, \n",
    "    on = ['DOCID', 'HEADLINE'], \n",
    "    how = 'inner'\n",
    ")\n",
    "\n",
    "## We can see they are the same article on the same platform, and there could be something wrong during the data collection\n",
    "dup_row_2.iloc[[0, -1]].transpose().drop('DOCID')"
   ]
  },
  {
   "cell_type": "code",
   "execution_count": 10,
   "id": "dc42242d",
   "metadata": {},
   "outputs": [
    {
     "data": {
      "text/html": [
       "<div>\n",
       "<style scoped>\n",
       "    .dataframe tbody tr th:only-of-type {\n",
       "        vertical-align: middle;\n",
       "    }\n",
       "\n",
       "    .dataframe tbody tr th {\n",
       "        vertical-align: top;\n",
       "    }\n",
       "\n",
       "    .dataframe thead th {\n",
       "        text-align: right;\n",
       "    }\n",
       "</style>\n",
       "<table border=\"1\" class=\"dataframe\">\n",
       "  <thead>\n",
       "    <tr style=\"text-align: right;\">\n",
       "      <th>col_0</th>\n",
       "      <th>Percentage</th>\n",
       "    </tr>\n",
       "    <tr>\n",
       "      <th>DOCID</th>\n",
       "      <th></th>\n",
       "    </tr>\n",
       "  </thead>\n",
       "  <tbody>\n",
       "    <tr>\n",
       "      <th>news:040g^201902255786312(S:435019146)</th>\n",
       "      <td>63.8%</td>\n",
       "    </tr>\n",
       "    <tr>\n",
       "      <th>news:258l^201902255565029(S:435019146)</th>\n",
       "      <td>36.2%</td>\n",
       "    </tr>\n",
       "  </tbody>\n",
       "</table>\n",
       "</div>"
      ],
      "text/plain": [
       "col_0                                  Percentage\n",
       "DOCID                                            \n",
       "news:040g^201902255786312(S:435019146)      63.8%\n",
       "news:258l^201902255565029(S:435019146)      36.2%"
      ]
     },
     "execution_count": 10,
     "metadata": {},
     "output_type": "execute_result"
    }
   ],
   "source": [
    "## We can see the two different DOCID's percentage\n",
    "pd.crosstab(\n",
    "    index=dup_row_2[\"DOCID\"], \n",
    "    columns=\"Percentage\",\n",
    "    normalize = 'columns'\n",
    ").apply(rsm.format_nr, dec = 1, perc = True)"
   ]
  },
  {
   "cell_type": "code",
   "execution_count": 11,
   "id": "73d08491",
   "metadata": {},
   "outputs": [],
   "source": [
    "## Then, we change the DOCID to the one with higer percentage\n",
    "df_clean.loc[df_clean['DOCID'] == 'news:258l^201902255565029(S:435019146)', 'DOCID'] = \"news:040g^201902255786312(S:435019146)\""
   ]
  },
  {
   "cell_type": "markdown",
   "id": "ba1ad7e3",
   "metadata": {},
   "source": [
    "##### After exploring the dataset's basic statistical information, we want to use graphs to show each variable's property further. <br/> <br/> However, each entry on the data set is a sentence split from a different article. We need to aggregate and sum them together by DOCID before we draw graphs."
   ]
  },
  {
   "cell_type": "code",
   "execution_count": 19,
   "id": "8889bee8",
   "metadata": {},
   "outputs": [
    {
     "data": {
      "text/html": [
       "<div>\n",
       "<style scoped>\n",
       "    .dataframe tbody tr th:only-of-type {\n",
       "        vertical-align: middle;\n",
       "    }\n",
       "\n",
       "    .dataframe tbody tr th {\n",
       "        vertical-align: top;\n",
       "    }\n",
       "\n",
       "    .dataframe thead th {\n",
       "        text-align: right;\n",
       "    }\n",
       "</style>\n",
       "<table border=\"1\" class=\"dataframe\">\n",
       "  <thead>\n",
       "    <tr style=\"text-align: right;\">\n",
       "      <th></th>\n",
       "      <th>SOURCE</th>\n",
       "      <th>PUBLISHDATE</th>\n",
       "      <th>AUTHOR</th>\n",
       "      <th>SECTION</th>\n",
       "    </tr>\n",
       "  </thead>\n",
       "  <tbody>\n",
       "    <tr>\n",
       "      <th>0</th>\n",
       "      <td>一点资讯 APP</td>\n",
       "      <td>2018-01-20 16:00:00</td>\n",
       "      <td>Missing Author</td>\n",
       "      <td>一点资讯-时尚</td>\n",
       "    </tr>\n",
       "    <tr>\n",
       "      <th>1</th>\n",
       "      <td>看点快报 APP</td>\n",
       "      <td>2020-05-22 16:00:00</td>\n",
       "      <td>潮流私搭</td>\n",
       "      <td>腾讯网</td>\n",
       "    </tr>\n",
       "    <tr>\n",
       "      <th>2</th>\n",
       "      <td>百度 APP</td>\n",
       "      <td>2019-07-19 16:00:00</td>\n",
       "      <td>潮流叫兽罗全对</td>\n",
       "      <td>潮流叫兽罗全对</td>\n",
       "    </tr>\n",
       "    <tr>\n",
       "      <th>3</th>\n",
       "      <td>腾讯新闻 APP</td>\n",
       "      <td>2020-02-24 16:00:00</td>\n",
       "      <td>Supreme情报网</td>\n",
       "      <td>腾讯网</td>\n",
       "    </tr>\n",
       "    <tr>\n",
       "      <th>4</th>\n",
       "      <td>看点快报 APP</td>\n",
       "      <td>2020-08-27 16:00:00</td>\n",
       "      <td>斗牛APP</td>\n",
       "      <td>斗牛APP</td>\n",
       "    </tr>\n",
       "    <tr>\n",
       "      <th>...</th>\n",
       "      <td>...</td>\n",
       "      <td>...</td>\n",
       "      <td>...</td>\n",
       "      <td>...</td>\n",
       "    </tr>\n",
       "    <tr>\n",
       "      <th>252</th>\n",
       "      <td>UC头条 APP</td>\n",
       "      <td>2019-01-16 16:00:00</td>\n",
       "      <td>zaker</td>\n",
       "      <td>UC头条-体育</td>\n",
       "    </tr>\n",
       "    <tr>\n",
       "      <th>253</th>\n",
       "      <td>看点快报 APP</td>\n",
       "      <td>2020-08-28 16:00:00</td>\n",
       "      <td>洋芋侃鞋</td>\n",
       "      <td>洋芋侃鞋</td>\n",
       "    </tr>\n",
       "    <tr>\n",
       "      <th>254</th>\n",
       "      <td>看点快报 APP</td>\n",
       "      <td>2020-05-15 16:00:00</td>\n",
       "      <td>孖伍</td>\n",
       "      <td>看点快报</td>\n",
       "    </tr>\n",
       "    <tr>\n",
       "      <th>255</th>\n",
       "      <td>今日头条 APP</td>\n",
       "      <td>2020-03-11 16:00:00</td>\n",
       "      <td>DUNKHOME</td>\n",
       "      <td>欧文7 creator</td>\n",
       "    </tr>\n",
       "    <tr>\n",
       "      <th>256</th>\n",
       "      <td>看点快报 APP</td>\n",
       "      <td>2020-05-13 16:00:00</td>\n",
       "      <td>茶余饭后话篮球</td>\n",
       "      <td>腾讯网</td>\n",
       "    </tr>\n",
       "  </tbody>\n",
       "</table>\n",
       "<p>257 rows × 4 columns</p>\n",
       "</div>"
      ],
      "text/plain": [
       "       SOURCE         PUBLISHDATE          AUTHOR      SECTION\n",
       "0    一点资讯 APP 2018-01-20 16:00:00  Missing Author      一点资讯-时尚\n",
       "1    看点快报 APP 2020-05-22 16:00:00            潮流私搭          腾讯网\n",
       "2      百度 APP 2019-07-19 16:00:00         潮流叫兽罗全对      潮流叫兽罗全对\n",
       "3    腾讯新闻 APP 2020-02-24 16:00:00      Supreme情报网          腾讯网\n",
       "4    看点快报 APP 2020-08-27 16:00:00           斗牛APP        斗牛APP\n",
       "..        ...                 ...             ...          ...\n",
       "252  UC头条 APP 2019-01-16 16:00:00           zaker      UC头条-体育\n",
       "253  看点快报 APP 2020-08-28 16:00:00            洋芋侃鞋         洋芋侃鞋\n",
       "254  看点快报 APP 2020-05-15 16:00:00              孖伍         看点快报\n",
       "255  今日头条 APP 2020-03-11 16:00:00        DUNKHOME  欧文7 creator\n",
       "256  看点快报 APP 2020-05-13 16:00:00         茶余饭后话篮球          腾讯网\n",
       "\n",
       "[257 rows x 4 columns]"
      ]
     },
     "execution_count": 19,
     "metadata": {},
     "output_type": "execute_result"
    }
   ],
   "source": [
    "## Collecting varaibles that we want to explore\n",
    "var = [\n",
    "    \"DOCID\", \n",
    "    \"SOURCE\", \n",
    "    \"PUBLISHDATE\",\n",
    "    \"AUTHOR\", \n",
    "    \"SECTION\"   \n",
    "]\n",
    "\n",
    "## Aggregate them together\n",
    "df_EDA = df_clean.groupby(var)\\\n",
    ".count()\\\n",
    ".reset_index()\\\n",
    ".iloc[:, :5]\n",
    "\n",
    "df_EDA.drop('DOCID', axis = 1)"
   ]
  },
  {
   "cell_type": "markdown",
   "id": "82cd0fd7",
   "metadata": {},
   "source": [
    "##### SOURCE Variable"
   ]
  },
  {
   "cell_type": "code",
   "execution_count": 24,
   "id": "bc17c589",
   "metadata": {},
   "outputs": [
    {
     "data": {
      "image/png": "[encoded data removed]",
      "text/plain": [
       "<Figure size 780x520 with 1 Axes>"
      ]
     },
     "metadata": {
      "needs_background": "light"
     },
     "output_type": "display_data"
    }
   ],
   "source": [
    "## Show all sources by count of publications\n",
    "plot = sns.countplot(\n",
    "    y = \"SOURCE\", \n",
    "    data = df_EDA,\n",
    "    order = df_EDA['SOURCE'].value_counts().index\n",
    ")\n",
    "\n",
    "# add percentage\n",
    "total = len(df_EDA['SOURCE'])\n",
    "for p in plot.patches:\n",
    "    percentage = '{:.1f}%'.format(100 * p.get_width()/total)\n",
    "    x = p.get_x() + p.get_width() + 0.5\n",
    "    y = p.get_y() + p.get_height() - 0.3\n",
    "    plot.annotate(percentage, (x, y), fontsize = 7)\n",
    "\n",
    "# remove right spines from graph\n",
    "sns.despine()\n",
    "plot.axes.get_yaxis().set_visible(False)\n",
    "plt.show()"
   ]
  },
  {
   "cell_type": "markdown",
   "id": "4a07bc34",
   "metadata": {},
   "source": [
    "##### PUBLISHDATE Variable "
   ]
  },
  {
   "cell_type": "code",
   "execution_count": 14,
   "id": "667e6727",
   "metadata": {},
   "outputs": [
    {
     "data": {
      "image/png": "[encoded data removed]",
      "text/plain": [
       "<Figure size 780x520 with 1 Axes>"
      ]
     },
     "metadata": {
      "needs_background": "light"
     },
     "output_type": "display_data"
    }
   ],
   "source": [
    "## Show publication counts per month \n",
    "df_EDA.groupby(\n",
    "    [\n",
    "        df_EDA[\"PUBLISHDATE\"].dt.year, \n",
    "        df_EDA[\"PUBLISHDATE\"].dt.month\n",
    "    ]\n",
    ")[['PUBLISHDATE']].count().plot(kind=\"bar\")\n",
    "\n",
    "plt.ylabel('Count')\n",
    "plt.xlabel('Year and Month') \n",
    "plt.legend().set_visible(False)"
   ]
  },
  {
   "cell_type": "markdown",
   "id": "33003073",
   "metadata": {},
   "source": [
    "##### AUTHOR Variable"
   ]
  },
  {
   "cell_type": "code",
   "execution_count": 27,
   "id": "3b3cc7eb",
   "metadata": {},
   "outputs": [
    {
     "data": {
      "image/png": "[encoded data removed]",
      "text/plain": [
       "<Figure size 780x520 with 1 Axes>"
      ]
     },
     "metadata": {
      "needs_background": "light"
     },
     "output_type": "display_data"
    }
   ],
   "source": [
    "## Only show the top 23 authors by count of publications\n",
    "plot = df_EDA.query(\"AUTHOR != 'Missing Author'\")[\"AUTHOR\"]\\\n",
    ".value_counts()[:23]\\\n",
    ".sort_values()\\\n",
    ".plot(kind='barh')\n",
    "\n",
    "plot.axes.get_yaxis().set_visible(False)\n",
    "plt.xlabel('Count')\n",
    "plt.ylabel('AUTHOR') \n",
    "plt.show()"
   ]
  },
  {
   "cell_type": "markdown",
   "id": "4a300000",
   "metadata": {},
   "source": [
    "##### SECTION"
   ]
  },
  {
   "cell_type": "code",
   "execution_count": 28,
   "id": "c52a34fa",
   "metadata": {},
   "outputs": [
    {
     "data": {
      "image/png": "[encoded data removed]",
      "text/plain": [
       "<Figure size 780x520 with 1 Axes>"
      ]
     },
     "metadata": {
      "needs_background": "light"
     },
     "output_type": "display_data"
    }
   ],
   "source": [
    "## Only show the top 23 sections by count of publications\n",
    "plot = df_EDA.query(\n",
    "    \"SECTION != 'Missing Section'\"\n",
    ")[\"SECTION\"].value_counts()[:23].sort_values().plot(kind='barh')\n",
    "\n",
    "# add percentage\n",
    "total = len(df_EDA['SECTION'])\n",
    "for p in plot.patches:\n",
    "    percentage = '{:.1f}%'.format(100 * p.get_width()/total)\n",
    "    x = p.get_x() + p.get_width() + 0.5\n",
    "    y = p.get_y() + p.get_height() - 0.5\n",
    "    plot.annotate(percentage, (x, y), fontsize = 7)\n",
    "\n",
    "sns.despine()\n",
    "plot.axes.get_yaxis().set_visible(False)\n",
    "plt.xlabel('Count')\n",
    "plt.ylabel('SECTION') \n",
    "plt.show()"
   ]
  },
  {
   "cell_type": "markdown",
   "id": "87983c7a",
   "metadata": {},
   "source": [
    "##### RELEVANT"
   ]
  },
  {
   "cell_type": "code",
   "execution_count": 17,
   "id": "e2e46b73",
   "metadata": {},
   "outputs": [
    {
     "data": {
      "image/png": "[encoded data removed]",
      "text/plain": [
       "<Figure size 780x520 with 1 Axes>"
      ]
     },
     "metadata": {
      "needs_background": "light"
     },
     "output_type": "display_data"
    }
   ],
   "source": [
    "## we can see the distribution of RELEVANT variable is not well balanced\n",
    "plot = sns.countplot(\n",
    "    x = \"RELEVANT\", \n",
    "    data = df_clean,\n",
    "    order = df_clean['RELEVANT'].value_counts().index,\n",
    "    dodge = True\n",
    ")\n",
    "\n",
    "# add percentage\n",
    "total = len(df_clean['RELEVANT'])\n",
    "for p in plot.patches:\n",
    "    percentage = '{:.1f}%'.format(100 * p.get_height()/total)\n",
    "    x = p.get_x() + p.get_width() - 0.5\n",
    "    y = p.get_y() + p.get_height() + 4\n",
    "    plot.annotate(percentage, (x, y), fontsize = 9)\n",
    "\n",
    "sns.despine()\n",
    "plt.show()"
   ]
  },
  {
   "cell_type": "markdown",
   "id": "ae1749eb",
   "metadata": {},
   "source": [
    "# Build Models"
   ]
  },
  {
   "cell_type": "markdown",
   "id": "b1887abb",
   "metadata": {},
   "source": [
    "### Split Datasets and define variables"
   ]
  },
  {
   "cell_type": "markdown",
   "id": "79590641",
   "metadata": {},
   "source": [
    "##### Since the size of our data set is not so big, splitting a part of the data set as validation data set would not be helpful for the model performance. Thus, I will choose to use cross-validation and grid search instead of using a validation datasets during training the model and hyper-parameter tuning. <br/><br/> However, I still will split the datasets into training, testing, and validation to fulfill the requirements."
   ]
  },
  {
   "cell_type": "markdown",
   "id": "ba3764d8",
   "metadata": {},
   "source": [
    "1. ##### Only Testing and Training "
   ]
  },
  {
   "cell_type": "code",
   "execution_count": 18,
   "id": "9c9ae4ae",
   "metadata": {},
   "outputs": [],
   "source": [
    "## Define explanatory variable, response variable, and ID variable\n",
    "evar = ['SENTENCE', 'INDICATORWORD']\n",
    "rvar = 'RELEVANT'\n",
    "idvar = 'DOCID'\n",
    "\n",
    "## Copy X and y from df_clean and use it for model training\n",
    "df_clean['RELEVANT'] = df_clean['RELEVANT'].astype(float)\n",
    "df_clean['RELEVANT'] = df_clean['RELEVANT'].astype(int)\n",
    "X = df_clean[evar].copy()\n",
    "y = df_clean[rvar]\n",
    "\n",
    "## Using ShuffleSplit to help us split the dataset\n",
    "ssplit = ShuffleSplit(n_splits=5, test_size=0.3, random_state=77)\n",
    "for train_index, test_index in ssplit.split(X):\n",
    "    pass\n",
    "\n",
    "## Distinguish training and testing\n",
    "X[\"training\"] = 0\n",
    "X.iloc[train_index, X.columns == \"training\"] = 1"
   ]
  },
  {
   "cell_type": "markdown",
   "id": "f66ad43c",
   "metadata": {},
   "source": [
    "2. ##### Testing, Training, and Validation"
   ]
  },
  {
   "cell_type": "code",
   "execution_count": 19,
   "id": "d4a553f5",
   "metadata": {},
   "outputs": [],
   "source": [
    "## Split data set into training, testing, and Validation\n",
    "X_train, X_test, y_train, y_test = train_test_split(\n",
    "    X, \n",
    "    y, \n",
    "    test_size=0.3, \n",
    "    random_state=42, \n",
    "    shuffle = True\n",
    ")\n",
    "\n",
    "X_test, X_val, y_test, y_val = train_test_split(\n",
    "    X_test, \n",
    "    y_test, \n",
    "    test_size=0.5,\n",
    "    random_state=42, \n",
    "    shuffle = True\n",
    ")"
   ]
  },
  {
   "cell_type": "code",
   "execution_count": 20,
   "id": "69acf19f",
   "metadata": {},
   "outputs": [
    {
     "name": "stdout",
     "output_type": "stream",
     "text": [
      "Data Set Size Without Validation \n",
      "Training: 760\n",
      "Testing: 327\n",
      "\n",
      "------------------------------------------------------\n",
      "Data Set Size With Validation\n",
      "Training: 760 \n",
      "Testing: 163\n",
      "Validation: 164\n",
      "\n"
     ]
    }
   ],
   "source": [
    "## Check the data set size after splitting\n",
    "print(\n",
    "f\"\"\"Data Set Size Without Validation \n",
    "Training: {X[X.training == 1].shape[0]}\n",
    "Testing: {X[X.training == 0].shape[0]}\n",
    "\"\"\"\n",
    ")\n",
    "\n",
    "print(\"------------------------------------------------------\")\n",
    "\n",
    "print(\n",
    "f\"\"\"Data Set Size With Validation\n",
    "Training: {X_train.shape[0]} \n",
    "Testing: {X_test.shape[0]}\n",
    "Validation: {X_val.shape[0]}\n",
    "\"\"\"\n",
    ")"
   ]
  },
  {
   "cell_type": "markdown",
   "id": "f1cecadf",
   "metadata": {},
   "source": [
    "### Build tokenizer for SENTENCE variable"
   ]
  },
  {
   "cell_type": "code",
   "execution_count": 21,
   "id": "40b454ef",
   "metadata": {},
   "outputs": [],
   "source": [
    "## Load chinese stop words file\n",
    "# set path to data and grab file names\n",
    "path = \"stopwords-master/\"\n",
    "all_files = glob.glob(os.path.join(path, \"*.txt\"))\n",
    "\n",
    "# read in each file and create chinese stop words list\n",
    "stop_ch = pd.concat([pd.read_csv(f, header = None) for f in all_files], ignore_index=True)\n",
    "stop_ch = stop_ch.values.tolist()\n",
    "# add some extra stop words\n",
    "stop_ch_list = ['客服', '添加', '扫码', '扫', '满勿加']\n",
    "stop_ch.extend(stop_ch_list)\n",
    "\n",
    "\n",
    "## set english stop words and stemming \n",
    "stop_en = set(stopwords.words('english'))\n",
    "ps = PorterStemmer()\n",
    "\n",
    "## set special chracters need to remove\n",
    "removetable = str.maketrans('', '', '\\-=~!@#%^&*()_+\\[\\]{};\\'\\\\:\"|<,./<>?（）：¥，`')"
   ]
  },
  {
   "cell_type": "code",
   "execution_count": 22,
   "id": "62fab710",
   "metadata": {},
   "outputs": [],
   "source": [
    "## write function to preprocess sentence \n",
    "def pre_pro(doc, stemming = True, need_sent = False):\n",
    "   \n",
    "    sentences = st(doc) #get sentence at first if there is a paragraph \n",
    "    tokens_1 = []\n",
    "    tokens_2 = []\n",
    "    \n",
    "    ## Process English characters  \n",
    "    for sent in sentences:\n",
    "        words = wt(sent) #get words for each sentence\n",
    "        if stemming:\n",
    "            words = [ps.stem(word) for word in words]\n",
    "        if need_sent:\n",
    "            tokens.append(words)\n",
    "        else:\n",
    "            tokens_1 += [w.lower() for w in words if w not in stop_en]\n",
    "    \n",
    "    ## Process Chinese charcters\n",
    "    for ele in tokens_1:\n",
    "        tokens_2 += jieba.lcut(ele)\n",
    "        tokens_2_rem = [s.translate(removetable) for s in tokens_2]\n",
    "        tokens_2_pro = [w for w in tokens_2_rem if w not in stop_ch]\n",
    "    \n",
    "    return tokens_2_pro"
   ]
  },
  {
   "cell_type": "markdown",
   "id": "21111c22",
   "metadata": {},
   "source": [
    "### Using TF-IDF method and tokenizer to represent sentence before build model"
   ]
  },
  {
   "cell_type": "code",
   "execution_count": 23,
   "id": "6687c6ef",
   "metadata": {},
   "outputs": [
    {
     "name": "stderr",
     "output_type": "stream",
     "text": [
      "Building prefix dict from the default dictionary ...\n",
      "Loading model from cache /tmp/jieba.cache\n",
      "Loading model cost 0.549 seconds.\n",
      "Prefix dict has been built successfully.\n"
     ]
    }
   ],
   "source": [
    "## Vectorize our document with TF-IDF value\n",
    "tfidf = TfidfVectorizer(\n",
    "    strip_accents=None,\n",
    "    lowercase=True,\n",
    "    preprocessor=None, \n",
    "    tokenizer=pre_pro,\n",
    "    use_idf=True,\n",
    "    norm='l2',\n",
    "    smooth_idf=True\n",
    ")\n",
    "\n",
    "X_tf = tfidf.fit_transform(X['SENTENCE'])"
   ]
  },
  {
   "cell_type": "markdown",
   "id": "9699acc0",
   "metadata": {},
   "source": [
    "### Creating evaluation date set to collect information used to compare model performance"
   ]
  },
  {
   "cell_type": "code",
   "execution_count": 24,
   "id": "8c7e8b8d",
   "metadata": {},
   "outputs": [],
   "source": [
    "## Create an evaluation date set used to compare model performance in the end\n",
    "training = X[\"training\"]\n",
    "eval_dat = df_clean.copy()\n",
    "eval_dat[\"training\"] = training\n",
    "eval_dat = eval_dat[[idvar, rvar, \"training\"]]"
   ]
  },
  {
   "cell_type": "markdown",
   "id": "e481371a",
   "metadata": {},
   "source": [
    "### Next, we are going to use the sparse matrix with TF-IDF feature to train different models. And we will use the AUC as the criterion to choose the best hyperparameters during the grid search process. In the end, we will gather all models together and compare them with different metrics."
   ]
  },
  {
   "cell_type": "markdown",
   "id": "15f79677",
   "metadata": {},
   "source": [
    "##### Model 1: Random Forest Model"
   ]
  },
  {
   "cell_type": "code",
   "execution_count": 25,
   "id": "96b00782",
   "metadata": {},
   "outputs": [
    {
     "name": "stdout",
     "output_type": "stream",
     "text": [
      "Fitting 5 folds for each of 56 candidates, totalling 280 fits\n"
     ]
    }
   ],
   "source": [
    "## define hyperparameters and metrics used for grid search\n",
    "clf_rf = RandomForestClassifier()\n",
    "param_grid_rf = {\n",
    "    \"n_estimators\": list(range(100, 800, 100)),\n",
    "    \"max_features\": range(2, 10)\n",
    "}\n",
    "scoring = {\"AUC\": \"roc_auc\"}\n",
    "\n",
    "## apply grid search\n",
    "clf_cv_rf = GridSearchCV(\n",
    "    clf_rf, \n",
    "    param_grid_rf, \n",
    "    scoring=scoring, \n",
    "    cv=5, \n",
    "    n_jobs=-1, \n",
    "    refit=\"AUC\", \n",
    "    verbose=5\n",
    ").fit(X_tf[training == 1], y[training == 1])"
   ]
  },
  {
   "cell_type": "code",
   "execution_count": 26,
   "id": "11ca30c2",
   "metadata": {},
   "outputs": [
    {
     "name": "stdout",
     "output_type": "stream",
     "text": [
      "Best AUC Socre: 0.89\n",
      "---------------------------------------------------------------------\n",
      "Best Hyperparamters: {'max_features': 9, 'n_estimators': 700}\n"
     ]
    }
   ],
   "source": [
    "## Check the best AUC score and hyperparameters at grid search\n",
    "print(\"Best AUC Socre:\", clf_cv_rf.best_score_.round(2))\n",
    "print(\"---------------------------------------------------------------------\")\n",
    "print(\"Best Hyperparamters:\",clf_cv_rf.best_params_)"
   ]
  },
  {
   "cell_type": "code",
   "execution_count": 27,
   "id": "8438e8df",
   "metadata": {},
   "outputs": [],
   "source": [
    "## Use best hyperparameters found on grid search to build our Random Forest Model\n",
    "clf_rf = RandomForestClassifier(\n",
    "    n_estimators=clf_cv_rf.best_params_[\"n_estimators\"],\n",
    "    max_features=clf_cv_rf.best_params_[\"max_features\"],\n",
    "    oob_score=True,\n",
    "    random_state=1234,\n",
    ").fit(X_tf[training == 1], y[training == 1])"
   ]
  },
  {
   "cell_type": "code",
   "execution_count": 28,
   "id": "8f19328c",
   "metadata": {},
   "outputs": [],
   "source": [
    "# using the oob predictions for the training sample\n",
    "eval_dat[\"y_rf\"] = 0  # set some initial value\n",
    "eval_dat.loc[training == 1, \"y_rf\"] = clf_rf.oob_decision_function_[:, 1]\n",
    "eval_dat.loc[training == 0, \"y_rf\"] = clf_rf.predict_proba(X_tf[training == 0])[:, 1]"
   ]
  },
  {
   "cell_type": "code",
   "execution_count": 29,
   "id": "0c181d61",
   "metadata": {},
   "outputs": [
    {
     "data": {
      "image/png": "[encoded data removed]",
      "text/plain": [
       "<Figure size 780x520 with 1 Axes>"
      ]
     },
     "metadata": {
      "needs_background": "light"
     },
     "output_type": "display_data"
    }
   ],
   "source": [
    "## Make prediction\n",
    "pred_rf = clf_rf.predict(X_tf[training == 0])\n",
    "\n",
    "## Build Confusion Marix heat map\n",
    "classes = np.unique(y)\n",
    "cm = metrics.confusion_matrix(y[training == 0], pred_rf)\n",
    "fig, ax = plt.subplots()\n",
    "sns.heatmap(cm, annot=True, fmt='d', ax=ax, cmap=plt.cm.Blues, \n",
    "            cbar=False)\n",
    "ax.set(xlabel=\"Pred\", ylabel=\"True\", xticklabels=classes, \n",
    "       yticklabels=classes, title=\"Confusion matrix\")\n",
    "plt.yticks(rotation=0)\n",
    "plt.show()"
   ]
  },
  {
   "cell_type": "markdown",
   "id": "333b4057",
   "metadata": {},
   "source": [
    "##### Model 2: SVM Model"
   ]
  },
  {
   "cell_type": "code",
   "execution_count": 30,
   "id": "3f9d78e3",
   "metadata": {},
   "outputs": [
    {
     "name": "stdout",
     "output_type": "stream",
     "text": [
      "Fitting 5 folds for each of 140 candidates, totalling 700 fits\n"
     ]
    }
   ],
   "source": [
    "## define hyperparameters and metrics used for grid search\n",
    "SVM = svm.SVC(probability=True)\n",
    "param_grid_svm = {\n",
    "    'C': [0.1, 1, 10, 100, 1000], \n",
    "    'gamma': [1, 0.1, 0.01, 0.001, 0.0001, 'scale', 'auto'],\n",
    "    'kernel': ['linear', 'sigmoid', 'gaussian', 'rbf']\n",
    "}\n",
    "scoring = {\"AUC\": \"roc_auc\"}\n",
    "\n",
    "## apply grid search\n",
    "clf_cv_svm = GridSearchCV(\n",
    "    SVM, \n",
    "    param_grid_svm, \n",
    "    scoring=scoring,\n",
    "    cv=5, \n",
    "    n_jobs=-1, \n",
    "    refit=\"AUC\", \n",
    "    verbose=5\n",
    ").fit(X_tf[training == 1], y[training == 1])"
   ]
  },
  {
   "cell_type": "code",
   "execution_count": 31,
   "id": "ab42704c",
   "metadata": {},
   "outputs": [
    {
     "name": "stdout",
     "output_type": "stream",
     "text": [
      "Best AUC Socre: 0.9\n",
      "---------------------------------------------------------------------\n",
      "Best Hyperparamters: {'C': 10, 'gamma': 0.1, 'kernel': 'rbf'}\n"
     ]
    }
   ],
   "source": [
    "## Check the best AUC score and hyperparameters at grid search\n",
    "print(\"Best AUC Socre:\", clf_cv_svm.best_score_.round(2))\n",
    "print(\"---------------------------------------------------------------------\")\n",
    "print(\"Best Hyperparamters:\",clf_cv_svm.best_params_)"
   ]
  },
  {
   "cell_type": "code",
   "execution_count": 32,
   "id": "dca5e8de",
   "metadata": {},
   "outputs": [],
   "source": [
    "## Make prediction on probablities\n",
    "eval_dat[\"y_svm\"] = 0  # set some initial value\n",
    "eval_dat[\"y_svm\"] = clf_cv_svm.predict_proba(X_tf)[:, 1]"
   ]
  },
  {
   "cell_type": "code",
   "execution_count": 33,
   "id": "6355b719",
   "metadata": {},
   "outputs": [
    {
     "data": {
      "image/png": "[encoded data removed]",
      "text/plain": [
       "<Figure size 780x520 with 1 Axes>"
      ]
     },
     "metadata": {
      "needs_background": "light"
     },
     "output_type": "display_data"
    }
   ],
   "source": [
    "## Make prediction\n",
    "pred_svm = clf_cv_svm.predict(X_tf[training == 0])\n",
    "\n",
    "## Build Confusion Marix heat map\n",
    "classes = np.unique(y)\n",
    "cm = metrics.confusion_matrix(y[training == 0], pred_svm)\n",
    "fig, ax = plt.subplots()\n",
    "sns.heatmap(cm, annot=True, fmt='d', ax=ax, cmap=plt.cm.Blues, \n",
    "            cbar=False)\n",
    "ax.set(xlabel=\"Pred\", ylabel=\"True\", xticklabels=classes, \n",
    "       yticklabels=classes, title=\"Confusion matrix\")\n",
    "plt.yticks(rotation=0)\n",
    "plt.show()"
   ]
  },
  {
   "cell_type": "markdown",
   "id": "3ee33317",
   "metadata": {},
   "source": [
    "##### Model 3: Naive Bayes Model"
   ]
  },
  {
   "cell_type": "code",
   "execution_count": 34,
   "id": "a9c076ff",
   "metadata": {},
   "outputs": [
    {
     "name": "stdout",
     "output_type": "stream",
     "text": [
      "Fitting 5 folds for each of 4 candidates, totalling 20 fits\n"
     ]
    }
   ],
   "source": [
    "## Define hyperparameters\n",
    "clf_nb = naive_bayes.MultinomialNB()\n",
    "param_grid_nb = {\n",
    "    \"alpha\": [0.0001, 0.001, 0.01, 0.1]\n",
    "}\n",
    "scoring = {\"AUC\": \"roc_auc\"}\n",
    "\n",
    "## apply grid search\n",
    "clf_cv_nb = GridSearchCV(\n",
    "    clf_nb, \n",
    "    param_grid_nb,\n",
    "    scoring=scoring,\n",
    "    cv=5, \n",
    "    n_jobs=-1, \n",
    "    refit=\"AUC\", \n",
    "    verbose=5\n",
    ").fit(X_tf[training == 1].toarray(), y[training == 1])"
   ]
  },
  {
   "cell_type": "code",
   "execution_count": 35,
   "id": "ac19e3d8",
   "metadata": {},
   "outputs": [
    {
     "name": "stdout",
     "output_type": "stream",
     "text": [
      "Best AUC Socre: 0.81\n",
      "---------------------------------------------------------------------\n",
      "Best Hyperparamters: {'alpha': 0.1}\n"
     ]
    }
   ],
   "source": [
    "## Check the best AUC score and hyperparameters at grid search\n",
    "print(\"Best AUC Socre:\", clf_cv_nb.best_score_.round(2))\n",
    "print(\"---------------------------------------------------------------------\")\n",
    "print(\"Best Hyperparamters:\",clf_cv_nb.best_params_)"
   ]
  },
  {
   "cell_type": "code",
   "execution_count": 36,
   "id": "b3d74ca6",
   "metadata": {},
   "outputs": [],
   "source": [
    "## Make prediction on probablities\n",
    "eval_dat[\"y_nb\"] = 0  # set some initial value\n",
    "eval_dat[\"y_nb\"] = clf_cv_nb.predict_proba(X_tf.toarray())[:, 1]"
   ]
  },
  {
   "cell_type": "code",
   "execution_count": 37,
   "id": "3f89edd4",
   "metadata": {},
   "outputs": [
    {
     "data": {
      "image/png": "[encoded data removed]",
      "text/plain": [
       "<Figure size 780x520 with 1 Axes>"
      ]
     },
     "metadata": {
      "needs_background": "light"
     },
     "output_type": "display_data"
    }
   ],
   "source": [
    "## Make prediction\n",
    "pred_nb = clf_cv_nb.predict(X_tf[training == 0].toarray())\n",
    "\n",
    "## Build Confusion Marix heat map\n",
    "classes = np.unique(y)\n",
    "cm = metrics.confusion_matrix(y[training == 0], pred_nb)\n",
    "fig, ax = plt.subplots()\n",
    "sns.heatmap(cm, annot=True, fmt='d', ax=ax, cmap=plt.cm.Blues, \n",
    "            cbar=False)\n",
    "ax.set(xlabel=\"Pred\", ylabel=\"True\", xticklabels=classes, \n",
    "       yticklabels=classes, title=\"Confusion matrix\")\n",
    "plt.yticks(rotation=0)\n",
    "plt.show()"
   ]
  },
  {
   "cell_type": "markdown",
   "id": "ed2ccd73",
   "metadata": {},
   "source": [
    "##### Model 4: XGBoost Model"
   ]
  },
  {
   "cell_type": "markdown",
   "id": "b47f5de7",
   "metadata": {},
   "source": [
    "##### From my experience doing binary classification problems, the gradient boosting method always has an outstanding performance. Thus, I use XGBoost module built another model here and will compare performance with other models in the end."
   ]
  },
  {
   "cell_type": "code",
   "execution_count": 38,
   "id": "91fff267",
   "metadata": {},
   "outputs": [
    {
     "name": "stdout",
     "output_type": "stream",
     "text": [
      "Fitting 5 folds for each of 60 candidates, totalling 300 fits\n"
     ]
    }
   ],
   "source": [
    "clf_xgb = xgb.XGBClassifier(\n",
    "    objective=\"binary:logistic\",\n",
    "    use_label_encoder=False,\n",
    "    eval_metric=\"auc\",\n",
    "    tree_method='gpu_hist'\n",
    ")\n",
    "\n",
    "## Setting hyperparamters and scroing\n",
    "param_grid = {\n",
    "    \"n_estimators\": list(range(100, 501, 100)),\n",
    "    \"max_depth\": list(range(2, 6, 1)),\n",
    "    'learning_rate' : [0.001, 0.01, 1],\n",
    "}\n",
    "scoring = {\"AUC\": \"roc_auc\"}\n",
    "\n",
    "## Apply grid search method\n",
    "clf_cv_xgb = GridSearchCV(\n",
    "    estimator = clf_xgb, \n",
    "    param_grid = param_grid, \n",
    "    scoring = scoring, \n",
    "    cv = 5, \n",
    "    n_jobs = -1, \n",
    "    refit = \"AUC\", \n",
    "    verbose=5,\n",
    ").fit(X_tf[training == 1], y[training == 1])"
   ]
  },
  {
   "cell_type": "code",
   "execution_count": 39,
   "id": "091ec65f",
   "metadata": {},
   "outputs": [
    {
     "name": "stdout",
     "output_type": "stream",
     "text": [
      "Best AUC Socre: 0.94\n",
      "---------------------------------------------------------------------\n",
      "Best Hyperparamters: {'learning_rate': 0.01, 'max_depth': 5, 'n_estimators': 500}\n"
     ]
    }
   ],
   "source": [
    "## Check the best AUC score and hyperparameters at grid search\n",
    "print(\"Best AUC Socre:\", clf_cv_xgb.best_score_.round(2))\n",
    "print(\"---------------------------------------------------------------------\")\n",
    "print(\"Best Hyperparamters:\",clf_cv_xgb.best_params_)"
   ]
  },
  {
   "cell_type": "code",
   "execution_count": 40,
   "id": "e329cc03",
   "metadata": {},
   "outputs": [],
   "source": [
    "# use best parameters to build model\n",
    "clf_xgb = xgb.XGBClassifier(\n",
    "    objective=\"binary:logistic\",\n",
    "    n_estimators=clf_cv_xgb.best_params_[\"n_estimators\"],\n",
    "    max_depth=clf_cv_xgb.best_params_[\"max_depth\"],\n",
    "    learning_rate=clf_cv_xgb.best_params_[\"learning_rate\"],\n",
    "    use_label_encoder=False,\n",
    "    eval_metric=\"auc\",\n",
    "    tree_method='gpu_hist'\n",
    ").fit(X_tf[training == 1], y[training == 1])"
   ]
  },
  {
   "cell_type": "code",
   "execution_count": 41,
   "id": "faa39ec4",
   "metadata": {},
   "outputs": [],
   "source": [
    "## Make prediction on probablities\n",
    "eval_dat[\"y_xgb\"] = 0  # set some initial value\n",
    "eval_dat[\"y_xgb\"] = clf_xgb.predict_proba(X_tf)[:, 1]"
   ]
  },
  {
   "cell_type": "code",
   "execution_count": 42,
   "id": "f4c6fca4",
   "metadata": {},
   "outputs": [
    {
     "data": {
      "image/png": "[encoded data removed]",
      "text/plain": [
       "<Figure size 780x520 with 1 Axes>"
      ]
     },
     "metadata": {
      "needs_background": "light"
     },
     "output_type": "display_data"
    }
   ],
   "source": [
    "## Make prediction\n",
    "pred_xgb = clf_xgb.predict(X_tf[training == 0])\n",
    "\n",
    "## Build Confusion Marix heat map\n",
    "classes = np.unique(y)\n",
    "cm = metrics.confusion_matrix(y[training == 0], pred_xgb)\n",
    "fig, ax = plt.subplots()\n",
    "sns.heatmap(cm, annot=True, fmt='d', ax=ax, cmap=plt.cm.Blues, \n",
    "            cbar=False)\n",
    "ax.set(xlabel=\"Pred\", ylabel=\"True\", xticklabels=classes, \n",
    "       yticklabels=classes, title=\"Confusion matrix\")\n",
    "plt.yticks(rotation=0)\n",
    "plt.show()"
   ]
  },
  {
   "cell_type": "markdown",
   "id": "019da735",
   "metadata": {},
   "source": [
    "##### Model 5: Bert Model"
   ]
  },
  {
   "cell_type": "markdown",
   "id": "c0a801b9",
   "metadata": {},
   "source": [
    "##### Here, I used the Simple Transformers package, a more user-friendly package than Transformers, Tensorflow, and others, to build Bert Model. However, I still used the Transformers package to construct a Bert Model with more setups in a separate python file, and the performance is almost the same. Thus, I decided to keep the easiest setup one."
   ]
  },
  {
   "cell_type": "code",
   "execution_count": 49,
   "id": "8dc4e584",
   "metadata": {},
   "outputs": [],
   "source": [
    "## Build data frame used for bert model\n",
    "df_bert = pd.concat(\n",
    "    [\n",
    "        X.drop([\"INDICATORWORD\", \"training\"], axis = 1),\n",
    "        y\n",
    "    ], axis = 1\n",
    ").rename(columns = {'SENTENCE': 'text', 'RELEVANT': 'label'})\n",
    "\n",
    "## Split dataframe into training, testing, and validation\n",
    "#bert_train = df_bert[training == 1]\n",
    "#bert_test = df_bert[training == 0]\n",
    "bert_train, bert_test = train_test_split(df_bert, test_size=0.3, shuffle=True)\n",
    "bert_test, bert_val = train_test_split(bert_test, test_size=0.5, shuffle=True)"
   ]
  },
  {
   "cell_type": "code",
   "execution_count": 50,
   "id": "5b37299d",
   "metadata": {},
   "outputs": [
    {
     "name": "stderr",
     "output_type": "stream",
     "text": [
      "Some weights of the model checkpoint at bert-base-chinese were not used when initializing BertForSequenceClassification: ['cls.predictions.bias', 'cls.predictions.transform.dense.weight', 'cls.predictions.transform.dense.bias', 'cls.predictions.decoder.weight', 'cls.seq_relationship.weight', 'cls.seq_relationship.bias', 'cls.predictions.transform.LayerNorm.weight', 'cls.predictions.transform.LayerNorm.bias']\n",
      "- This IS expected if you are initializing BertForSequenceClassification from the checkpoint of a model trained on another task or with another architecture (e.g. initializing a BertForSequenceClassification model from a BertForPreTraining model).\n",
      "- This IS NOT expected if you are initializing BertForSequenceClassification from the checkpoint of a model that you expect to be exactly identical (initializing a BertForSequenceClassification model from a BertForSequenceClassification model).\n",
      "Some weights of BertForSequenceClassification were not initialized from the model checkpoint at bert-base-chinese and are newly initialized: ['classifier.weight', 'classifier.bias']\n",
      "You should probably TRAIN this model on a down-stream task to be able to use it for predictions and inference.\n"
     ]
    }
   ],
   "source": [
    "## Specify GPU \n",
    "cuda_available = torch.cuda.is_available()\n",
    "\n",
    "## Define arguments used for model training\n",
    "args = {\n",
    "    'optimzer':'AdamW',\n",
    "    'output_dir':'nike_bert',\n",
    "    'best_model_dir':'nike_bert/best_model',\n",
    "    'overwrite_output_dir':True,\n",
    "    'fp16':True,\n",
    "    'num_train_epochs': 10,\n",
    "    'learning_rate': 1e-5,\n",
    "    'do_lower_case': True\n",
    "}\n",
    "\n",
    "## Deifine model type and arguments\n",
    "clf_bert = ClassificationModel(\n",
    "    model_type = 'bert', \n",
    "    model_name = 'bert-base-chinese', # specify pretrained bert model\n",
    "    use_cuda=cuda_available, \n",
    "    args=args\n",
    ") "
   ]
  },
  {
   "cell_type": "code",
   "execution_count": 51,
   "id": "bc2a8a25",
   "metadata": {},
   "outputs": [
    {
     "data": {
      "application/vnd.jupyter.widget-view+json": {
       "model_id": "04fe9cd6c0ec4fe3a8fd6386baff9725",
       "version_major": 2,
       "version_minor": 0
      },
      "text/plain": [
       "  0%|          | 0/760 [00:00<?, ?it/s]"
      ]
     },
     "metadata": {},
     "output_type": "display_data"
    },
    {
     "data": {
      "application/vnd.jupyter.widget-view+json": {
       "model_id": "8f044e5de84a4678a4276aa049f7a7bf",
       "version_major": 2,
       "version_minor": 0
      },
      "text/plain": [
       "Epoch:   0%|          | 0/10 [00:00<?, ?it/s]"
      ]
     },
     "metadata": {},
     "output_type": "display_data"
    },
    {
     "data": {
      "application/vnd.jupyter.widget-view+json": {
       "model_id": "a9835a59b91540f191ae102a1aada383",
       "version_major": 2,
       "version_minor": 0
      },
      "text/plain": [
       "Running Epoch 0 of 10:   0%|          | 0/95 [00:00<?, ?it/s]"
      ]
     },
     "metadata": {},
     "output_type": "display_data"
    },
    {
     "data": {
      "application/vnd.jupyter.widget-view+json": {
       "model_id": "cc8e522b085742c99925c35f270234bd",
       "version_major": 2,
       "version_minor": 0
      },
      "text/plain": [
       "Running Epoch 1 of 10:   0%|          | 0/95 [00:00<?, ?it/s]"
      ]
     },
     "metadata": {},
     "output_type": "display_data"
    },
    {
     "data": {
      "application/vnd.jupyter.widget-view+json": {
       "model_id": "a89b73f389464e929d392e2b2e3feb39",
       "version_major": 2,
       "version_minor": 0
      },
      "text/plain": [
       "Running Epoch 2 of 10:   0%|          | 0/95 [00:00<?, ?it/s]"
      ]
     },
     "metadata": {},
     "output_type": "display_data"
    },
    {
     "data": {
      "application/vnd.jupyter.widget-view+json": {
       "model_id": "3be5c11e184246f8973447e581609850",
       "version_major": 2,
       "version_minor": 0
      },
      "text/plain": [
       "Running Epoch 3 of 10:   0%|          | 0/95 [00:00<?, ?it/s]"
      ]
     },
     "metadata": {},
     "output_type": "display_data"
    },
    {
     "data": {
      "application/vnd.jupyter.widget-view+json": {
       "model_id": "cba3e98b9dd54e6d944b07df52f20e48",
       "version_major": 2,
       "version_minor": 0
      },
      "text/plain": [
       "Running Epoch 4 of 10:   0%|          | 0/95 [00:00<?, ?it/s]"
      ]
     },
     "metadata": {},
     "output_type": "display_data"
    },
    {
     "data": {
      "application/vnd.jupyter.widget-view+json": {
       "model_id": "23f1da1f8d7b43d796a31cec94ae6063",
       "version_major": 2,
       "version_minor": 0
      },
      "text/plain": [
       "Running Epoch 5 of 10:   0%|          | 0/95 [00:00<?, ?it/s]"
      ]
     },
     "metadata": {},
     "output_type": "display_data"
    },
    {
     "data": {
      "application/vnd.jupyter.widget-view+json": {
       "model_id": "a50e622bf8c743a5830f61c21de62b6c",
       "version_major": 2,
       "version_minor": 0
      },
      "text/plain": [
       "Running Epoch 6 of 10:   0%|          | 0/95 [00:00<?, ?it/s]"
      ]
     },
     "metadata": {},
     "output_type": "display_data"
    },
    {
     "data": {
      "application/vnd.jupyter.widget-view+json": {
       "model_id": "1f5f8ac8274a478486b3d462b4428d83",
       "version_major": 2,
       "version_minor": 0
      },
      "text/plain": [
       "Running Epoch 7 of 10:   0%|          | 0/95 [00:00<?, ?it/s]"
      ]
     },
     "metadata": {},
     "output_type": "display_data"
    },
    {
     "data": {
      "application/vnd.jupyter.widget-view+json": {
       "model_id": "a8d6fd437e4942309cff34bc7f7a1a2b",
       "version_major": 2,
       "version_minor": 0
      },
      "text/plain": [
       "Running Epoch 8 of 10:   0%|          | 0/95 [00:00<?, ?it/s]"
      ]
     },
     "metadata": {},
     "output_type": "display_data"
    },
    {
     "data": {
      "application/vnd.jupyter.widget-view+json": {
       "model_id": "7aa0f7645b634f62890ce8f163f38f47",
       "version_major": 2,
       "version_minor": 0
      },
      "text/plain": [
       "Running Epoch 9 of 10:   0%|          | 0/95 [00:00<?, ?it/s]"
      ]
     },
     "metadata": {},
     "output_type": "display_data"
    },
    {
     "data": {
      "text/plain": [
       "(950, 0.10943528311648773)"
      ]
     },
     "execution_count": 51,
     "metadata": {},
     "output_type": "execute_result"
    }
   ],
   "source": [
    "## Training and fine-tuning pretrained bert model\n",
    "clf_bert.train_model(bert_train)"
   ]
  },
  {
   "cell_type": "code",
   "execution_count": 52,
   "id": "c60f9928",
   "metadata": {},
   "outputs": [
    {
     "data": {
      "application/vnd.jupyter.widget-view+json": {
       "model_id": "b296aafa9fbf417e90751689d94ade32",
       "version_major": 2,
       "version_minor": 0
      },
      "text/plain": [
       "  0%|          | 0/164 [00:00<?, ?it/s]"
      ]
     },
     "metadata": {},
     "output_type": "display_data"
    },
    {
     "data": {
      "application/vnd.jupyter.widget-view+json": {
       "model_id": "787537a5a9b94299b4aa206734ab7ddb",
       "version_major": 2,
       "version_minor": 0
      },
      "text/plain": [
       "Running Evaluation:   0%|          | 0/21 [00:00<?, ?it/s]"
      ]
     },
     "metadata": {},
     "output_type": "display_data"
    },
    {
     "data": {
      "text/plain": [
       "{'mcc': 0.9083962830277706,\n",
       " 'tp': 103,\n",
       " 'tn': 54,\n",
       " 'fp': 6,\n",
       " 'fn': 1,\n",
       " 'auroc': 0.9953525641025641,\n",
       " 'auprc': 0.9975586448202576,\n",
       " 'eval_loss': 0.25749136119321475}"
      ]
     },
     "execution_count": 52,
     "metadata": {},
     "output_type": "execute_result"
    }
   ],
   "source": [
    "## Showing restuls on the validation data set and use it to adjust learning rate\n",
    "result, model_outputs, wrong_predictions = clf_bert.eval_model(bert_val)\n",
    "result"
   ]
  },
  {
   "cell_type": "code",
   "execution_count": 53,
   "id": "a5e0a617",
   "metadata": {},
   "outputs": [
    {
     "data": {
      "application/vnd.jupyter.widget-view+json": {
       "model_id": "3c63e694fc62481fac7b1b7d3f652ee3",
       "version_major": 2,
       "version_minor": 0
      },
      "text/plain": [
       "  0%|          | 0/163 [00:00<?, ?it/s]"
      ]
     },
     "metadata": {},
     "output_type": "display_data"
    },
    {
     "data": {
      "application/vnd.jupyter.widget-view+json": {
       "model_id": "182def8e7056478bae932365c12363bf",
       "version_major": 2,
       "version_minor": 0
      },
      "text/plain": [
       "  0%|          | 0/21 [00:00<?, ?it/s]"
      ]
     },
     "metadata": {},
     "output_type": "display_data"
    },
    {
     "data": {
      "application/vnd.jupyter.widget-view+json": {
       "model_id": "bc714a76460d45669dc6de022615f227",
       "version_major": 2,
       "version_minor": 0
      },
      "text/plain": [
       "  0%|          | 0/163 [00:00<?, ?it/s]"
      ]
     },
     "metadata": {},
     "output_type": "display_data"
    },
    {
     "data": {
      "application/vnd.jupyter.widget-view+json": {
       "model_id": "3d5cbb19de564b57a4566127a71f76d9",
       "version_major": 2,
       "version_minor": 0
      },
      "text/plain": [
       "Running Evaluation:   0%|          | 0/21 [00:00<?, ?it/s]"
      ]
     },
     "metadata": {},
     "output_type": "display_data"
    }
   ],
   "source": [
    "## Make prediction\n",
    "pred_bert, raw_outputs = clf_bert.predict(bert_test['text'].tolist())\n",
    "result, model_outputs, wrong_predictions = clf_bert.eval_model(bert_test)"
   ]
  },
  {
   "cell_type": "code",
   "execution_count": 54,
   "id": "3f0c34a1",
   "metadata": {},
   "outputs": [
    {
     "data": {
      "image/png": "[encoded data removed]",
      "text/plain": [
       "<Figure size 780x520 with 1 Axes>"
      ]
     },
     "metadata": {
      "needs_background": "light"
     },
     "output_type": "display_data"
    }
   ],
   "source": [
    "## Build Confusion Marix heat map\n",
    "classes = np.unique(y)\n",
    "cm = metrics.confusion_matrix(bert_test['label'], pred_bert)\n",
    "fig, ax = plt.subplots()\n",
    "sns.heatmap(cm, annot=True, fmt='d', ax=ax, cmap=plt.cm.Blues, \n",
    "            cbar=False)\n",
    "ax.set(xlabel=\"Pred\", ylabel=\"True\", xticklabels=classes, \n",
    "       yticklabels=classes, title=\"Confusion matrix\")\n",
    "plt.yticks(rotation=0)\n",
    "plt.show()"
   ]
  },
  {
   "cell_type": "code",
   "execution_count": 55,
   "id": "0a345d7a",
   "metadata": {},
   "outputs": [],
   "source": [
    "## Make prediction on probablities\n",
    "#from scipy.special import softmax\n",
    "#eval_dat[\"y_bert\"] = 0  # set some initial value\n",
    "#eval_dat.loc[training == 0, eval_dat.columns == \"y_bert\"] = softmax(raw_outputs, axis=1)[:, 1]\n",
    "\n",
    "## Build a data frame to collect bert model's performance and showing how to calcualte each metrics\n",
    "eval_bert = pd.DataFrame(\n",
    "    {\n",
    "        \"Type\": 'Test',\n",
    "        \"predictor\": 'y_bert',\n",
    "        \"TP\":result['tp'],\n",
    "        \"FP\":result['fp'],\n",
    "        \"TN\":result['tn'],\n",
    "        \"FN\":result['fn'],\n",
    "        \"total\":result['tp'] + result['tn'] + result['fp'] + result['fn'],\n",
    "        \"TPR\":result['tp'] / (result['tp'] + result['fn']),\n",
    "        \"TNR\":result['tn'] / (result['tn'] + result['fp']),\n",
    "        \"precision\":result['tp'] / (result['tp'] + result['fp']),\n",
    "        \"Fscore\":[2 * ((result['tp'] / (result['tp'] + result['fp'])) * (result['tp'] / (result['tp'] + result['fn']))) / \\\n",
    "                  ((result['tp'] / (result['tp'] + result['fp'])) + (result['tp'] / (result['tp'] + result['fn'])))],\n",
    "        \"accuracy\":(result['tp']+result['tn']) / (result['tp']+result['tn']+result['fp']+result['fn']),\n",
    "        \"kappa\":'N/A',\n",
    "        \"AUC\":result['auroc']\n",
    "    }\n",
    ")"
   ]
  },
  {
   "cell_type": "markdown",
   "id": "fbdf9754",
   "metadata": {},
   "source": [
    "## Compare Model's Performance"
   ]
  },
  {
   "cell_type": "code",
   "execution_count": 56,
   "id": "c4a62266",
   "metadata": {},
   "outputs": [
    {
     "data": {
      "text/html": [
       "<div>\n",
       "<style scoped>\n",
       "    .dataframe tbody tr th:only-of-type {\n",
       "        vertical-align: middle;\n",
       "    }\n",
       "\n",
       "    .dataframe tbody tr th {\n",
       "        vertical-align: top;\n",
       "    }\n",
       "\n",
       "    .dataframe thead th {\n",
       "        text-align: right;\n",
       "    }\n",
       "</style>\n",
       "<table border=\"1\" class=\"dataframe\">\n",
       "  <thead>\n",
       "    <tr style=\"text-align: right;\">\n",
       "      <th></th>\n",
       "      <th>Type</th>\n",
       "      <th>predictor</th>\n",
       "      <th>TP</th>\n",
       "      <th>FP</th>\n",
       "      <th>TN</th>\n",
       "      <th>FN</th>\n",
       "      <th>total</th>\n",
       "      <th>TPR</th>\n",
       "      <th>TNR</th>\n",
       "      <th>precision</th>\n",
       "      <th>Fscore</th>\n",
       "      <th>accuracy</th>\n",
       "      <th>kappa</th>\n",
       "      <th>AUC</th>\n",
       "    </tr>\n",
       "  </thead>\n",
       "  <tbody>\n",
       "    <tr>\n",
       "      <th>0</th>\n",
       "      <td>Test</td>\n",
       "      <td>y_bert</td>\n",
       "      <td>89</td>\n",
       "      <td>6</td>\n",
       "      <td>65</td>\n",
       "      <td>3</td>\n",
       "      <td>163</td>\n",
       "      <td>0.967391</td>\n",
       "      <td>0.915493</td>\n",
       "      <td>0.936842</td>\n",
       "      <td>0.951872</td>\n",
       "      <td>0.944785</td>\n",
       "      <td>N/A</td>\n",
       "      <td>0.991427</td>\n",
       "    </tr>\n",
       "    <tr>\n",
       "      <th>1</th>\n",
       "      <td>test</td>\n",
       "      <td>y_xgb</td>\n",
       "      <td>175</td>\n",
       "      <td>12</td>\n",
       "      <td>111</td>\n",
       "      <td>29</td>\n",
       "      <td>327</td>\n",
       "      <td>0.858000</td>\n",
       "      <td>0.902000</td>\n",
       "      <td>0.936000</td>\n",
       "      <td>0.895000</td>\n",
       "      <td>0.875000</td>\n",
       "      <td>0.74</td>\n",
       "      <td>0.946000</td>\n",
       "    </tr>\n",
       "    <tr>\n",
       "      <th>2</th>\n",
       "      <td>test</td>\n",
       "      <td>y_svm</td>\n",
       "      <td>178</td>\n",
       "      <td>22</td>\n",
       "      <td>101</td>\n",
       "      <td>26</td>\n",
       "      <td>327</td>\n",
       "      <td>0.873000</td>\n",
       "      <td>0.821000</td>\n",
       "      <td>0.890000</td>\n",
       "      <td>0.881000</td>\n",
       "      <td>0.853000</td>\n",
       "      <td>0.689</td>\n",
       "      <td>0.933000</td>\n",
       "    </tr>\n",
       "    <tr>\n",
       "      <th>3</th>\n",
       "      <td>test</td>\n",
       "      <td>y_rf</td>\n",
       "      <td>187</td>\n",
       "      <td>40</td>\n",
       "      <td>83</td>\n",
       "      <td>17</td>\n",
       "      <td>327</td>\n",
       "      <td>0.917000</td>\n",
       "      <td>0.675000</td>\n",
       "      <td>0.824000</td>\n",
       "      <td>0.868000</td>\n",
       "      <td>0.826000</td>\n",
       "      <td>0.614</td>\n",
       "      <td>0.919000</td>\n",
       "    </tr>\n",
       "    <tr>\n",
       "      <th>4</th>\n",
       "      <td>test</td>\n",
       "      <td>y_nb</td>\n",
       "      <td>190</td>\n",
       "      <td>52</td>\n",
       "      <td>71</td>\n",
       "      <td>14</td>\n",
       "      <td>327</td>\n",
       "      <td>0.931000</td>\n",
       "      <td>0.577000</td>\n",
       "      <td>0.785000</td>\n",
       "      <td>0.852000</td>\n",
       "      <td>0.798000</td>\n",
       "      <td>0.542</td>\n",
       "      <td>0.887000</td>\n",
       "    </tr>\n",
       "  </tbody>\n",
       "</table>\n",
       "</div>"
      ],
      "text/plain": [
       "   Type predictor   TP  FP   TN  FN  total       TPR       TNR  precision  \\\n",
       "0  Test    y_bert   89   6   65   3    163  0.967391  0.915493   0.936842   \n",
       "1  test     y_xgb  175  12  111  29    327  0.858000  0.902000   0.936000   \n",
       "2  test     y_svm  178  22  101  26    327  0.873000  0.821000   0.890000   \n",
       "3  test      y_rf  187  40   83  17    327  0.917000  0.675000   0.824000   \n",
       "4  test      y_nb  190  52   71  14    327  0.931000  0.577000   0.785000   \n",
       "\n",
       "     Fscore  accuracy  kappa       AUC  \n",
       "0  0.951872  0.944785    N/A  0.991427  \n",
       "1  0.895000  0.875000   0.74  0.946000  \n",
       "2  0.881000  0.853000  0.689  0.933000  \n",
       "3  0.868000  0.826000  0.614  0.919000  \n",
       "4  0.852000  0.798000  0.542  0.887000  "
      ]
     },
     "execution_count": 56,
     "metadata": {},
     "output_type": "execute_result"
    }
   ],
   "source": [
    "## collect model names that we want to make comparision\n",
    "model_name = [\n",
    "    \"y_svm\",\n",
    "    \"y_rf\",\n",
    "    \"y_nb\",\n",
    "    \"y_xgb\"\n",
    "    #\"y_bert\"\n",
    "]\n",
    "\n",
    "## build dictionary to collect data\n",
    "dct = {\n",
    "    \"training\": eval_dat[eval_dat.training == 1],\n",
    "    \"test\": eval_dat[eval_dat.training == 0],\n",
    "}\n",
    "\n",
    "rsm.evalbin(\n",
    "    df=dct, \n",
    "    rvar=rvar, \n",
    "    lev=1, \n",
    "    pred=model_name\n",
    ").drop(['profit', 'index', 'ROME', 'contact'], axis = 1)\\\n",
    ".query(\"Type == 'test'\")\\\n",
    ".append(eval_bert)\\\n",
    ".sort_values(by=\"AUC\", ascending=False)\\\n",
    ".reset_index(drop=True)"
   ]
  },
  {
   "cell_type": "markdown",
   "id": "9dac3ee0",
   "metadata": {},
   "source": [
    "## Conclusion"
   ]
  },
  {
   "cell_type": "markdown",
   "id": "186615d4",
   "metadata": {},
   "source": [
    "1. From the above table, we can see the bert model has the best performance among other models based on the AUC metric. Besides the AUC score, it has 0.94 accuracy, 0.94 precision, and 0.95 f-1 score. \n",
    "2. Before we built and trained models, I used my own built tokenizer to pre-processed the SENTENCE variable. If I have more time and a more extensive dataset, I can add more stop words to the tokenizer to improve the token's quality and improve the model's performance. Meanwhile, we only used the TF-IDF method to transfer the SENTENCE variable to a sparse matrix. And my past experience showed me, simple techniques like the Word Count method could have a better performance in a short and straightforward text. \n",
    "3. The last one is the data set is not big enough for the corpus and model training. I expected an improvement in the model performance after trained in big dataset size, especially the Bert or deep learning model."
   ]
  }
 ],
 "metadata": {
  "kernelspec": {
   "display_name": "Python 3",
   "language": "python",
   "name": "python3"
  },
  "language_info": {
   "codemirror_mode": {
    "name": "ipython",
    "version": 3
   },
   "file_extension": ".py",
   "mimetype": "text/x-python",
   "name": "python",
   "nbconvert_exporter": "python",
   "pygments_lexer": "ipython3",
   "version": "3.8.5"
  }
 },
 "nbformat": 4,
 "nbformat_minor": 5
}
