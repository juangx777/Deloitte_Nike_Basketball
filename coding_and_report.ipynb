{
 "cells": [
  {
   "cell_type": "markdown",
   "id": "1c245af9",
   "metadata": {},
   "source": [
    "# Import packages and dataset"
   ]
  },
  {
   "cell_type": "code",
   "execution_count": 47,
   "id": "011b97df",
   "metadata": {},
   "outputs": [],
   "source": [
    "## Data manipulation\n",
    "import pandas as pd\n",
    "import numpy as np\n",
    "import pyrsm as rsm\n",
    "import os\n",
    "import glob\n",
    "import re\n",
    "import warnings\n",
    "warnings.filterwarnings(\"ignore\")\n",
    "\n",
    "## Sklearn module\n",
    "from sklearn import preprocessing\n",
    "from sklearn import metrics\n",
    "from sklearn.model_selection import (\n",
    "    GridSearchCV, \n",
    "    cross_val_score, \n",
    "    train_test_split,\n",
    "    ShuffleSplit\n",
    ")\n",
    "from sklearn.ensemble import RandomForestClassifier\n",
    "from sklearn import svm, naive_bayes\n",
    "from sklearn.feature_extraction.text import TfidfTransformer\n",
    "from sklearn.feature_extraction.text import TfidfVectorizer\n",
    "\n",
    "## XGBoost module\n",
    "import xgboost as xgb\n",
    "\n",
    "## Language Processing\n",
    "# NLTK module\n",
    "import nltk\n",
    "from nltk.tokenize import word_tokenize as wt\n",
    "from nltk.tokenize import sent_tokenize as st\n",
    "from nltk.stem import PorterStemmer \n",
    "from nltk.corpus import stopwords\n",
    "# Jieba module\n",
    "import jieba\n",
    "\n",
    "\n",
    "## Graphing\n",
    "import matplotlib.pyplot as plt\n",
    "import matplotlib.font_manager\n",
    "import seaborn as sns\n",
    "# increase plot resolution and set font\n",
    "matplotlib.font_manager.fontManager.addfont('STHeitiSC-Medium-02.ttf')\n",
    "%matplotlib inline\n",
    "plt.rcParams[\"figure.dpi\"] = 130\n",
    "plt.rcParams['font.family'] = ['Heiti SC']\n",
    "plt.rcParams['axes.unicode_minus'] = False"
   ]
  },
  {
   "cell_type": "code",
   "execution_count": 2,
   "id": "9cec0462",
   "metadata": {},
   "outputs": [
    {
     "data": {
      "text/html": [
       "<div>\n",
       "<style scoped>\n",
       "    .dataframe tbody tr th:only-of-type {\n",
       "        vertical-align: middle;\n",
       "    }\n",
       "\n",
       "    .dataframe tbody tr th {\n",
       "        vertical-align: top;\n",
       "    }\n",
       "\n",
       "    .dataframe thead th {\n",
       "        text-align: right;\n",
       "    }\n",
       "</style>\n",
       "<table border=\"1\" class=\"dataframe\">\n",
       "  <thead>\n",
       "    <tr style=\"text-align: right;\">\n",
       "      <th></th>\n",
       "      <th>0</th>\n",
       "      <th>1</th>\n",
       "      <th>2</th>\n",
       "      <th>3</th>\n",
       "      <th>4</th>\n",
       "    </tr>\n",
       "  </thead>\n",
       "  <tbody>\n",
       "    <tr>\n",
       "      <th>DOCID</th>\n",
       "      <td>news:05i9^202003224263017(S:435067812)</td>\n",
       "      <td>NaN</td>\n",
       "      <td>news:05i9^202003224263017(S:435067812)</td>\n",
       "      <td>NaN</td>\n",
       "      <td>NaN</td>\n",
       "    </tr>\n",
       "    <tr>\n",
       "      <th>PUBTYPE</th>\n",
       "      <td>app</td>\n",
       "      <td>NaN</td>\n",
       "      <td>app</td>\n",
       "      <td>NaN</td>\n",
       "      <td>NaN</td>\n",
       "    </tr>\n",
       "    <tr>\n",
       "      <th>SOURCE</th>\n",
       "      <td>看点快报 APP</td>\n",
       "      <td>NaN</td>\n",
       "      <td>看点快报 APP</td>\n",
       "      <td>NaN</td>\n",
       "      <td>NaN</td>\n",
       "    </tr>\n",
       "    <tr>\n",
       "      <th>PUBLISHDATE</th>\n",
       "      <td>21/3/2020 16:00:00</td>\n",
       "      <td>NaN</td>\n",
       "      <td>21/3/2020 16:00:00</td>\n",
       "      <td>NaN</td>\n",
       "      <td>NaN</td>\n",
       "    </tr>\n",
       "    <tr>\n",
       "      <th>AUTHOR</th>\n",
       "      <td>科比系列</td>\n",
       "      <td>NaN</td>\n",
       "      <td>科比系列</td>\n",
       "      <td>NaN</td>\n",
       "      <td>NaN</td>\n",
       "    </tr>\n",
       "    <tr>\n",
       "      <th>SECTION</th>\n",
       "      <td>天天快报</td>\n",
       "      <td>NaN</td>\n",
       "      <td>天天快报</td>\n",
       "      <td>NaN</td>\n",
       "      <td>NaN</td>\n",
       "    </tr>\n",
       "    <tr>\n",
       "      <th>WORDCOUNT</th>\n",
       "      <td>193.0</td>\n",
       "      <td>NaN</td>\n",
       "      <td>193.0</td>\n",
       "      <td>NaN</td>\n",
       "      <td>NaN</td>\n",
       "    </tr>\n",
       "    <tr>\n",
       "      <th>HEADLINE</th>\n",
       "      <td>NIKE LEBRON 17 \"COMMAND FORCE\" 实物首度曝光</td>\n",
       "      <td>NaN</td>\n",
       "      <td>NIKE LEBRON 17 \"COMMAND FORCE\" 实物首度曝光</td>\n",
       "      <td>NaN</td>\n",
       "      <td>NaN</td>\n",
       "    </tr>\n",
       "    <tr>\n",
       "      <th>SENTENCE</th>\n",
       "      <td>'LeBron 系列再度致敬 Nike 旗下经典鞋款我们可以经常看到 Nike 在近年的 L...</td>\n",
       "      <td>NaN</td>\n",
       "      <td>'据悉，这双Nike LeBron 17 \"Command Force\"将会在今年晚些时候...</td>\n",
       "      <td>NaN</td>\n",
       "      <td>NaN</td>\n",
       "    </tr>\n",
       "    <tr>\n",
       "      <th>RELEVANT</th>\n",
       "      <td>1.0</td>\n",
       "      <td>NaN</td>\n",
       "      <td>1.0</td>\n",
       "      <td>NaN</td>\n",
       "      <td>NaN</td>\n",
       "    </tr>\n",
       "    <tr>\n",
       "      <th>INDICATORWORD</th>\n",
       "      <td>LeBron</td>\n",
       "      <td>NaN</td>\n",
       "      <td>LeBron</td>\n",
       "      <td>NaN</td>\n",
       "      <td>NaN</td>\n",
       "    </tr>\n",
       "  </tbody>\n",
       "</table>\n",
       "</div>"
      ],
      "text/plain": [
       "                                                               0    1  \\\n",
       "DOCID                     news:05i9^202003224263017(S:435067812)  NaN   \n",
       "PUBTYPE                                                      app  NaN   \n",
       "SOURCE                                                  看点快报 APP  NaN   \n",
       "PUBLISHDATE                                   21/3/2020 16:00:00  NaN   \n",
       "AUTHOR                                                      科比系列  NaN   \n",
       "SECTION                                                     天天快报  NaN   \n",
       "WORDCOUNT                                                  193.0  NaN   \n",
       "HEADLINE                   NIKE LEBRON 17 \"COMMAND FORCE\" 实物首度曝光  NaN   \n",
       "SENTENCE       'LeBron 系列再度致敬 Nike 旗下经典鞋款我们可以经常看到 Nike 在近年的 L...  NaN   \n",
       "RELEVANT                                                     1.0  NaN   \n",
       "INDICATORWORD                                             LeBron  NaN   \n",
       "\n",
       "                                                               2    3    4  \n",
       "DOCID                     news:05i9^202003224263017(S:435067812)  NaN  NaN  \n",
       "PUBTYPE                                                      app  NaN  NaN  \n",
       "SOURCE                                                  看点快报 APP  NaN  NaN  \n",
       "PUBLISHDATE                                   21/3/2020 16:00:00  NaN  NaN  \n",
       "AUTHOR                                                      科比系列  NaN  NaN  \n",
       "SECTION                                                     天天快报  NaN  NaN  \n",
       "WORDCOUNT                                                  193.0  NaN  NaN  \n",
       "HEADLINE                   NIKE LEBRON 17 \"COMMAND FORCE\" 实物首度曝光  NaN  NaN  \n",
       "SENTENCE        '据悉，这双Nike LeBron 17 \"Command Force\"将会在今年晚些时候...  NaN  NaN  \n",
       "RELEVANT                                                     1.0  NaN  NaN  \n",
       "INDICATORWORD                                             LeBron  NaN  NaN  "
      ]
     },
     "execution_count": 2,
     "metadata": {},
     "output_type": "execute_result"
    }
   ],
   "source": [
    "df = pd.read_excel('nike_basketball.xlsx', sheet_name = 0)\n",
    "df.head(5).transpose()"
   ]
  },
  {
   "cell_type": "code",
   "execution_count": 3,
   "id": "b5430cb2",
   "metadata": {},
   "outputs": [
    {
     "data": {
      "text/html": [
       "<div>\n",
       "<style scoped>\n",
       "    .dataframe tbody tr th:only-of-type {\n",
       "        vertical-align: middle;\n",
       "    }\n",
       "\n",
       "    .dataframe tbody tr th {\n",
       "        vertical-align: top;\n",
       "    }\n",
       "\n",
       "    .dataframe thead th {\n",
       "        text-align: right;\n",
       "    }\n",
       "</style>\n",
       "<table border=\"1\" class=\"dataframe\">\n",
       "  <thead>\n",
       "    <tr style=\"text-align: right;\">\n",
       "      <th></th>\n",
       "      <th>4137</th>\n",
       "      <th>4138</th>\n",
       "      <th>4139</th>\n",
       "      <th>4140</th>\n",
       "      <th>4141</th>\n",
       "    </tr>\n",
       "  </thead>\n",
       "  <tbody>\n",
       "    <tr>\n",
       "      <th>DOCID</th>\n",
       "      <td>NaN</td>\n",
       "      <td>NaN</td>\n",
       "      <td>NaN</td>\n",
       "      <td>news:173l^202004174720689(S:435082859)</td>\n",
       "      <td>news:173l^202004174720689(S:435082859)</td>\n",
       "    </tr>\n",
       "    <tr>\n",
       "      <th>PUBTYPE</th>\n",
       "      <td>NaN</td>\n",
       "      <td>NaN</td>\n",
       "      <td>NaN</td>\n",
       "      <td>app</td>\n",
       "      <td>app</td>\n",
       "    </tr>\n",
       "    <tr>\n",
       "      <th>SOURCE</th>\n",
       "      <td>NaN</td>\n",
       "      <td>NaN</td>\n",
       "      <td>NaN</td>\n",
       "      <td>看点快报 APP</td>\n",
       "      <td>看点快报 APP</td>\n",
       "    </tr>\n",
       "    <tr>\n",
       "      <th>PUBLISHDATE</th>\n",
       "      <td>NaN</td>\n",
       "      <td>NaN</td>\n",
       "      <td>NaN</td>\n",
       "      <td>16/4/2020 16:00:00</td>\n",
       "      <td>16/4/2020 16:00:00</td>\n",
       "    </tr>\n",
       "    <tr>\n",
       "      <th>AUTHOR</th>\n",
       "      <td>NaN</td>\n",
       "      <td>NaN</td>\n",
       "      <td>NaN</td>\n",
       "      <td>豹造</td>\n",
       "      <td>豹造</td>\n",
       "    </tr>\n",
       "    <tr>\n",
       "      <th>SECTION</th>\n",
       "      <td>NaN</td>\n",
       "      <td>NaN</td>\n",
       "      <td>NaN</td>\n",
       "      <td>看点快报</td>\n",
       "      <td>看点快报</td>\n",
       "    </tr>\n",
       "    <tr>\n",
       "      <th>WORDCOUNT</th>\n",
       "      <td>NaN</td>\n",
       "      <td>NaN</td>\n",
       "      <td>NaN</td>\n",
       "      <td>969.0</td>\n",
       "      <td>969.0</td>\n",
       "    </tr>\n",
       "    <tr>\n",
       "      <th>HEADLINE</th>\n",
       "      <td>NaN</td>\n",
       "      <td>NaN</td>\n",
       "      <td>NaN</td>\n",
       "      <td>今日有嚯 l OW x Nike Dunk实物图曝光 KD13再曝新配色</td>\n",
       "      <td>今日有嚯 l OW x Nike Dunk实物图曝光 KD13再曝新配色</td>\n",
       "    </tr>\n",
       "    <tr>\n",
       "      <th>SENTENCE</th>\n",
       "      <td>NaN</td>\n",
       "      <td>NaN</td>\n",
       "      <td>NaN</td>\n",
       "      <td>'5.KD13再曝新配色刚刚发售不久的Nike KD13以其优良的性能配置、不俗的造型表现...</td>\n",
       "      <td>'近日，有一款全新配色的Nike KD13 EP \"Chill\"上架国内 SNKRS AP...</td>\n",
       "    </tr>\n",
       "    <tr>\n",
       "      <th>RELEVANT</th>\n",
       "      <td>NaN</td>\n",
       "      <td>NaN</td>\n",
       "      <td>NaN</td>\n",
       "      <td>1.0</td>\n",
       "      <td>1.0</td>\n",
       "    </tr>\n",
       "    <tr>\n",
       "      <th>INDICATORWORD</th>\n",
       "      <td>NaN</td>\n",
       "      <td>NaN</td>\n",
       "      <td>NaN</td>\n",
       "      <td>KD</td>\n",
       "      <td>KD</td>\n",
       "    </tr>\n",
       "  </tbody>\n",
       "</table>\n",
       "</div>"
      ],
      "text/plain": [
       "              4137 4138 4139  \\\n",
       "DOCID          NaN  NaN  NaN   \n",
       "PUBTYPE        NaN  NaN  NaN   \n",
       "SOURCE         NaN  NaN  NaN   \n",
       "PUBLISHDATE    NaN  NaN  NaN   \n",
       "AUTHOR         NaN  NaN  NaN   \n",
       "SECTION        NaN  NaN  NaN   \n",
       "WORDCOUNT      NaN  NaN  NaN   \n",
       "HEADLINE       NaN  NaN  NaN   \n",
       "SENTENCE       NaN  NaN  NaN   \n",
       "RELEVANT       NaN  NaN  NaN   \n",
       "INDICATORWORD  NaN  NaN  NaN   \n",
       "\n",
       "                                                            4140  \\\n",
       "DOCID                     news:173l^202004174720689(S:435082859)   \n",
       "PUBTYPE                                                      app   \n",
       "SOURCE                                                  看点快报 APP   \n",
       "PUBLISHDATE                                   16/4/2020 16:00:00   \n",
       "AUTHOR                                                        豹造   \n",
       "SECTION                                                     看点快报   \n",
       "WORDCOUNT                                                  969.0   \n",
       "HEADLINE                    今日有嚯 l OW x Nike Dunk实物图曝光 KD13再曝新配色   \n",
       "SENTENCE        '5.KD13再曝新配色刚刚发售不久的Nike KD13以其优良的性能配置、不俗的造型表现...   \n",
       "RELEVANT                                                     1.0   \n",
       "INDICATORWORD                                                 KD   \n",
       "\n",
       "                                                            4141  \n",
       "DOCID                     news:173l^202004174720689(S:435082859)  \n",
       "PUBTYPE                                                      app  \n",
       "SOURCE                                                  看点快报 APP  \n",
       "PUBLISHDATE                                   16/4/2020 16:00:00  \n",
       "AUTHOR                                                        豹造  \n",
       "SECTION                                                     看点快报  \n",
       "WORDCOUNT                                                  969.0  \n",
       "HEADLINE                    今日有嚯 l OW x Nike Dunk实物图曝光 KD13再曝新配色  \n",
       "SENTENCE        '近日，有一款全新配色的Nike KD13 EP \"Chill\"上架国内 SNKRS AP...  \n",
       "RELEVANT                                                     1.0  \n",
       "INDICATORWORD                                                 KD  "
      ]
     },
     "execution_count": 3,
     "metadata": {},
     "output_type": "execute_result"
    }
   ],
   "source": [
    "df.tail(5).transpose()"
   ]
  },
  {
   "cell_type": "markdown",
   "id": "135d2cf8",
   "metadata": {},
   "source": [
    "# EDA"
   ]
  },
  {
   "cell_type": "code",
   "execution_count": 4,
   "id": "1cae12f3",
   "metadata": {},
   "outputs": [
    {
     "name": "stdout",
     "output_type": "stream",
     "text": [
      "<class 'pandas.core.frame.DataFrame'>\n",
      "RangeIndex: 4142 entries, 0 to 4141\n",
      "Data columns (total 11 columns):\n",
      " #   Column         Non-Null Count  Dtype  \n",
      "---  ------         --------------  -----  \n",
      " 0   DOCID          1087 non-null   object \n",
      " 1   PUBTYPE        1087 non-null   object \n",
      " 2   SOURCE         1087 non-null   object \n",
      " 3   PUBLISHDATE    1087 non-null   object \n",
      " 4   AUTHOR         1022 non-null   object \n",
      " 5   SECTION        1070 non-null   object \n",
      " 6   WORDCOUNT      1087 non-null   float64\n",
      " 7   HEADLINE       1087 non-null   object \n",
      " 8   SENTENCE       1087 non-null   object \n",
      " 9   RELEVANT       1087 non-null   float64\n",
      " 10  INDICATORWORD  658 non-null    object \n",
      "dtypes: float64(2), object(9)\n",
      "memory usage: 356.1+ KB\n"
     ]
    }
   ],
   "source": [
    "## take a look of the whole data set's information\n",
    "df.info()"
   ]
  },
  {
   "cell_type": "markdown",
   "id": "b321004c",
   "metadata": {},
   "source": [
    "##### We can see the data set has missing values, and some column's datatype is not correct. Before heading into the EDA, we need to filter some useless rows, fill N/A value, and change some column's data type"
   ]
  },
  {
   "cell_type": "code",
   "execution_count": 5,
   "id": "bdc6f234",
   "metadata": {},
   "outputs": [
    {
     "name": "stdout",
     "output_type": "stream",
     "text": [
      "<class 'pandas.core.frame.DataFrame'>\n",
      "Int64Index: 1087 entries, 0 to 4141\n",
      "Data columns (total 11 columns):\n",
      " #   Column         Non-Null Count  Dtype         \n",
      "---  ------         --------------  -----         \n",
      " 0   DOCID          1087 non-null   object        \n",
      " 1   PUBTYPE        1087 non-null   object        \n",
      " 2   SOURCE         1087 non-null   object        \n",
      " 3   PUBLISHDATE    1087 non-null   datetime64[ns]\n",
      " 4   AUTHOR         1087 non-null   object        \n",
      " 5   SECTION        1087 non-null   object        \n",
      " 6   WORDCOUNT      1087 non-null   float64       \n",
      " 7   HEADLINE       1087 non-null   object        \n",
      " 8   SENTENCE       1087 non-null   object        \n",
      " 9   RELEVANT       1087 non-null   object        \n",
      " 10  INDICATORWORD  1087 non-null   object        \n",
      "dtypes: datetime64[ns](1), float64(1), object(9)\n",
      "memory usage: 101.9+ KB\n"
     ]
    }
   ],
   "source": [
    "## Filter rows with DOCID is NaN\n",
    "df_clean = df[df.DOCID.notnull()]\n",
    "\n",
    "## Fill NaN for each Column\n",
    "df_clean.loc[:, 'AUTHOR'] = df_clean.loc[:, 'AUTHOR'].fillna('Missing Author')\n",
    "df_clean.loc[:, 'SECTION'] = df_clean.loc[:, 'SECTION'].fillna('Missing Section')\n",
    "df_clean.loc[:, 'INDICATORWORD'] = df_clean.loc[:, 'INDICATORWORD'].fillna('Missing Indicator')\n",
    "\n",
    "## Define column to correct data type\n",
    "df_clean['PUBLISHDATE'] = pd.to_datetime(df_clean['PUBLISHDATE'])\n",
    "df_clean['PUBTYPE'] = df_clean['PUBTYPE'].astype(str)\n",
    "df_clean['RELEVANT'] = df_clean['RELEVANT'].astype(str)\n",
    "\n",
    "## Chcek data set's information again\n",
    "df_clean.info()"
   ]
  },
  {
   "cell_type": "code",
   "execution_count": 6,
   "id": "dac2f22a",
   "metadata": {},
   "outputs": [
    {
     "data": {
      "text/html": [
       "<div>\n",
       "<style scoped>\n",
       "    .dataframe tbody tr th:only-of-type {\n",
       "        vertical-align: middle;\n",
       "    }\n",
       "\n",
       "    .dataframe tbody tr th {\n",
       "        vertical-align: top;\n",
       "    }\n",
       "\n",
       "    .dataframe thead th {\n",
       "        text-align: right;\n",
       "    }\n",
       "</style>\n",
       "<table border=\"1\" class=\"dataframe\">\n",
       "  <thead>\n",
       "    <tr style=\"text-align: right;\">\n",
       "      <th></th>\n",
       "      <th>count</th>\n",
       "      <th>unique</th>\n",
       "      <th>top</th>\n",
       "      <th>freq</th>\n",
       "    </tr>\n",
       "  </thead>\n",
       "  <tbody>\n",
       "    <tr>\n",
       "      <th>DOCID</th>\n",
       "      <td>1087</td>\n",
       "      <td>257</td>\n",
       "      <td>news:040g^201902255786312(S:435019146)</td>\n",
       "      <td>30</td>\n",
       "    </tr>\n",
       "    <tr>\n",
       "      <th>PUBTYPE</th>\n",
       "      <td>1087</td>\n",
       "      <td>1</td>\n",
       "      <td>app</td>\n",
       "      <td>1087</td>\n",
       "    </tr>\n",
       "    <tr>\n",
       "      <th>SOURCE</th>\n",
       "      <td>1087</td>\n",
       "      <td>17</td>\n",
       "      <td>看点快报 APP</td>\n",
       "      <td>304</td>\n",
       "    </tr>\n",
       "    <tr>\n",
       "      <th>AUTHOR</th>\n",
       "      <td>1087</td>\n",
       "      <td>162</td>\n",
       "      <td>Missing Author</td>\n",
       "      <td>65</td>\n",
       "    </tr>\n",
       "    <tr>\n",
       "      <th>SECTION</th>\n",
       "      <td>1087</td>\n",
       "      <td>108</td>\n",
       "      <td>看点快报</td>\n",
       "      <td>147</td>\n",
       "    </tr>\n",
       "    <tr>\n",
       "      <th>HEADLINE</th>\n",
       "      <td>1087</td>\n",
       "      <td>255</td>\n",
       "      <td>耐克一天蒸发13亿美元NBA准状元一脚球鞋对半裂开</td>\n",
       "      <td>47</td>\n",
       "    </tr>\n",
       "    <tr>\n",
       "      <th>SENTENCE</th>\n",
       "      <td>1087</td>\n",
       "      <td>1051</td>\n",
       "      <td>Air Jordan</td>\n",
       "      <td>7</td>\n",
       "    </tr>\n",
       "    <tr>\n",
       "      <th>RELEVANT</th>\n",
       "      <td>1087</td>\n",
       "      <td>2</td>\n",
       "      <td>1.0</td>\n",
       "      <td>669</td>\n",
       "    </tr>\n",
       "    <tr>\n",
       "      <th>INDICATORWORD</th>\n",
       "      <td>1087</td>\n",
       "      <td>30</td>\n",
       "      <td>Missing Indicator</td>\n",
       "      <td>429</td>\n",
       "    </tr>\n",
       "  </tbody>\n",
       "</table>\n",
       "</div>"
      ],
      "text/plain": [
       "              count unique                                     top  freq\n",
       "DOCID          1087    257  news:040g^201902255786312(S:435019146)    30\n",
       "PUBTYPE        1087      1                                     app  1087\n",
       "SOURCE         1087     17                                看点快报 APP   304\n",
       "AUTHOR         1087    162                          Missing Author    65\n",
       "SECTION        1087    108                                    看点快报   147\n",
       "HEADLINE       1087    255               耐克一天蒸发13亿美元NBA准状元一脚球鞋对半裂开    47\n",
       "SENTENCE       1087   1051                              Air Jordan     7\n",
       "RELEVANT       1087      2                                     1.0   669\n",
       "INDICATORWORD  1087     30                       Missing Indicator   429"
      ]
     },
     "execution_count": 6,
     "metadata": {},
     "output_type": "execute_result"
    }
   ],
   "source": [
    "## Check data set's basic statistics\n",
    "df_clean.describe(include=object).transpose()"
   ]
  },
  {
   "cell_type": "markdown",
   "id": "097e839a",
   "metadata": {},
   "source": [
    "##### From the basic statistical information, we can see only one publish type and 257 different articles. The most frequent showing app is 看点快报 APP, and it has a frequency of 17 times. <br/><br/> Besides that, we can see the unique value between DOCID and HEADLINE variables is not equal. Then, we assume there is probably something wrong with the data collection, or there are some duplicated rows. "
   ]
  },
  {
   "cell_type": "code",
   "execution_count": 7,
   "id": "c1ec6ff9",
   "metadata": {},
   "outputs": [
    {
     "data": {
      "text/html": [
       "<div>\n",
       "<style scoped>\n",
       "    .dataframe tbody tr th:only-of-type {\n",
       "        vertical-align: middle;\n",
       "    }\n",
       "\n",
       "    .dataframe tbody tr th {\n",
       "        vertical-align: top;\n",
       "    }\n",
       "\n",
       "    .dataframe thead th {\n",
       "        text-align: right;\n",
       "    }\n",
       "</style>\n",
       "<table border=\"1\" class=\"dataframe\">\n",
       "  <thead>\n",
       "    <tr style=\"text-align: right;\">\n",
       "      <th></th>\n",
       "      <th>DOCID</th>\n",
       "      <th>HEADLINE</th>\n",
       "    </tr>\n",
       "  </thead>\n",
       "  <tbody>\n",
       "    <tr>\n",
       "      <th>41</th>\n",
       "      <td>news:055e^202005134815830(S:435083722)</td>\n",
       "      <td>Nike Air Force 1添了点绿</td>\n",
       "    </tr>\n",
       "    <tr>\n",
       "      <th>217</th>\n",
       "      <td>news:258l^201902255565029(S:435019146)</td>\n",
       "      <td>耐克一天蒸发13亿美元NBA准状元一脚球鞋对半裂开</td>\n",
       "    </tr>\n",
       "  </tbody>\n",
       "</table>\n",
       "</div>"
      ],
      "text/plain": [
       "                                      DOCID                   HEADLINE\n",
       "41   news:055e^202005134815830(S:435083722)       Nike Air Force 1添了点绿\n",
       "217  news:258l^201902255565029(S:435019146)  耐克一天蒸发13亿美元NBA准状元一脚球鞋对半裂开"
      ]
     },
     "execution_count": 7,
     "metadata": {},
     "output_type": "execute_result"
    }
   ],
   "source": [
    "## Find DOCID and HEADLINE combination and duplicated content\n",
    "dup_row = df_clean.groupby(['DOCID', 'HEADLINE']).count().reset_index()[['DOCID', 'HEADLINE']]\n",
    "dup_row[dup_row.duplicated('HEADLINE')] "
   ]
  },
  {
   "cell_type": "code",
   "execution_count": 8,
   "id": "b0060b29",
   "metadata": {},
   "outputs": [
    {
     "data": {
      "text/html": [
       "<div>\n",
       "<style scoped>\n",
       "    .dataframe tbody tr th:only-of-type {\n",
       "        vertical-align: middle;\n",
       "    }\n",
       "\n",
       "    .dataframe tbody tr th {\n",
       "        vertical-align: top;\n",
       "    }\n",
       "\n",
       "    .dataframe thead th {\n",
       "        text-align: right;\n",
       "    }\n",
       "</style>\n",
       "<table border=\"1\" class=\"dataframe\">\n",
       "  <thead>\n",
       "    <tr style=\"text-align: right;\">\n",
       "      <th></th>\n",
       "      <th>0</th>\n",
       "      <th>1</th>\n",
       "    </tr>\n",
       "  </thead>\n",
       "  <tbody>\n",
       "    <tr>\n",
       "      <th>DOCID</th>\n",
       "      <td>news:053c^202005134355755(S:435083722)</td>\n",
       "      <td>news:055e^202005134815830(S:435083722)</td>\n",
       "    </tr>\n",
       "    <tr>\n",
       "      <th>HEADLINE</th>\n",
       "      <td>Nike Air Force 1添了点绿</td>\n",
       "      <td>Nike Air Force 1添了点绿</td>\n",
       "    </tr>\n",
       "    <tr>\n",
       "      <th>PUBTYPE</th>\n",
       "      <td>app</td>\n",
       "      <td>app</td>\n",
       "    </tr>\n",
       "    <tr>\n",
       "      <th>SOURCE</th>\n",
       "      <td>凤凰新闻 APP</td>\n",
       "      <td>看点快报 APP</td>\n",
       "    </tr>\n",
       "    <tr>\n",
       "      <th>PUBLISHDATE</th>\n",
       "      <td>2020-12-05 16:00:00</td>\n",
       "      <td>2020-12-05 16:00:00</td>\n",
       "    </tr>\n",
       "    <tr>\n",
       "      <th>AUTHOR</th>\n",
       "      <td>传说中的大波浪</td>\n",
       "      <td>型男养成记</td>\n",
       "    </tr>\n",
       "    <tr>\n",
       "      <th>SECTION</th>\n",
       "      <td>凤凰新闻</td>\n",
       "      <td>看点快报</td>\n",
       "    </tr>\n",
       "    <tr>\n",
       "      <th>WORDCOUNT</th>\n",
       "      <td>307.0</td>\n",
       "      <td>339.0</td>\n",
       "    </tr>\n",
       "    <tr>\n",
       "      <th>SENTENCE</th>\n",
       "      <td>'不用多说，穿着白色的AF1走在大街上总会让人多瞩目一眼，价格相比普通的运动鞋还是稍显贵了...</td>\n",
       "      <td>'不用多说，穿着白色的AF1走在大街上总会让人多瞩目一眼，价格相比普通的运动鞋还是稍显贵了...</td>\n",
       "    </tr>\n",
       "    <tr>\n",
       "      <th>RELEVANT</th>\n",
       "      <td>1.0</td>\n",
       "      <td>1.0</td>\n",
       "    </tr>\n",
       "    <tr>\n",
       "      <th>INDICATORWORD</th>\n",
       "      <td>AJ</td>\n",
       "      <td>AJ</td>\n",
       "    </tr>\n",
       "  </tbody>\n",
       "</table>\n",
       "</div>"
      ],
      "text/plain": [
       "                                                               0  \\\n",
       "DOCID                     news:053c^202005134355755(S:435083722)   \n",
       "HEADLINE                                    Nike Air Force 1添了点绿   \n",
       "PUBTYPE                                                      app   \n",
       "SOURCE                                                  凤凰新闻 APP   \n",
       "PUBLISHDATE                                  2020-12-05 16:00:00   \n",
       "AUTHOR                                                   传说中的大波浪   \n",
       "SECTION                                                     凤凰新闻   \n",
       "WORDCOUNT                                                  307.0   \n",
       "SENTENCE        '不用多说，穿着白色的AF1走在大街上总会让人多瞩目一眼，价格相比普通的运动鞋还是稍显贵了...   \n",
       "RELEVANT                                                     1.0   \n",
       "INDICATORWORD                                                 AJ   \n",
       "\n",
       "                                                               1  \n",
       "DOCID                     news:055e^202005134815830(S:435083722)  \n",
       "HEADLINE                                    Nike Air Force 1添了点绿  \n",
       "PUBTYPE                                                      app  \n",
       "SOURCE                                                  看点快报 APP  \n",
       "PUBLISHDATE                                  2020-12-05 16:00:00  \n",
       "AUTHOR                                                     型男养成记  \n",
       "SECTION                                                     看点快报  \n",
       "WORDCOUNT                                                  339.0  \n",
       "SENTENCE        '不用多说，穿着白色的AF1走在大街上总会让人多瞩目一眼，价格相比普通的运动鞋还是稍显贵了...  \n",
       "RELEVANT                                                     1.0  \n",
       "INDICATORWORD                                                 AJ  "
      ]
     },
     "execution_count": 8,
     "metadata": {},
     "output_type": "execute_result"
    }
   ],
   "source": [
    "## Find duplicated headline one\n",
    "dup_row_1 = dup_row.query(\"HEADLINE == 'Nike Air Force 1添了点绿'\").merge(\n",
    "    df_clean, \n",
    "    on = ['DOCID', 'HEADLINE'],\n",
    "    how = 'inner'\n",
    ")\n",
    "\n",
    "## we can see they are same article posted on a different platform\n",
    "dup_row_1.transpose()"
   ]
  },
  {
   "cell_type": "code",
   "execution_count": 9,
   "id": "fef5240b",
   "metadata": {},
   "outputs": [
    {
     "data": {
      "text/html": [
       "<div>\n",
       "<style scoped>\n",
       "    .dataframe tbody tr th:only-of-type {\n",
       "        vertical-align: middle;\n",
       "    }\n",
       "\n",
       "    .dataframe tbody tr th {\n",
       "        vertical-align: top;\n",
       "    }\n",
       "\n",
       "    .dataframe thead th {\n",
       "        text-align: right;\n",
       "    }\n",
       "</style>\n",
       "<table border=\"1\" class=\"dataframe\">\n",
       "  <thead>\n",
       "    <tr style=\"text-align: right;\">\n",
       "      <th></th>\n",
       "      <th>0</th>\n",
       "      <th>46</th>\n",
       "    </tr>\n",
       "  </thead>\n",
       "  <tbody>\n",
       "    <tr>\n",
       "      <th>DOCID</th>\n",
       "      <td>news:040g^201902255786312(S:435019146)</td>\n",
       "      <td>news:258l^201902255565029(S:435019146)</td>\n",
       "    </tr>\n",
       "    <tr>\n",
       "      <th>HEADLINE</th>\n",
       "      <td>耐克一天蒸发13亿美元NBA准状元一脚球鞋对半裂开</td>\n",
       "      <td>耐克一天蒸发13亿美元NBA准状元一脚球鞋对半裂开</td>\n",
       "    </tr>\n",
       "    <tr>\n",
       "      <th>PUBTYPE</th>\n",
       "      <td>app</td>\n",
       "      <td>app</td>\n",
       "    </tr>\n",
       "    <tr>\n",
       "      <th>SOURCE</th>\n",
       "      <td>新浪财经 APP</td>\n",
       "      <td>新浪财经 APP</td>\n",
       "    </tr>\n",
       "    <tr>\n",
       "      <th>PUBLISHDATE</th>\n",
       "      <td>2019-02-24 16:00:00</td>\n",
       "      <td>2019-02-24 16:00:00</td>\n",
       "    </tr>\n",
       "    <tr>\n",
       "      <th>AUTHOR</th>\n",
       "      <td>鲍一凡</td>\n",
       "      <td>鲍一凡</td>\n",
       "    </tr>\n",
       "    <tr>\n",
       "      <th>SECTION</th>\n",
       "      <td>新浪财经-产经</td>\n",
       "      <td>新浪财经-产经</td>\n",
       "    </tr>\n",
       "    <tr>\n",
       "      <th>WORDCOUNT</th>\n",
       "      <td>1477.0</td>\n",
       "      <td>1477.0</td>\n",
       "    </tr>\n",
       "    <tr>\n",
       "      <th>SENTENCE</th>\n",
       "      <td>'耐克尴尬了'</td>\n",
       "      <td>'cre=tianyi&amp;mod=finappt&amp;loc=5&amp;r=25&amp;rfunc=27&amp;t...</td>\n",
       "    </tr>\n",
       "    <tr>\n",
       "      <th>RELEVANT</th>\n",
       "      <td>0.0</td>\n",
       "      <td>0.0</td>\n",
       "    </tr>\n",
       "    <tr>\n",
       "      <th>INDICATORWORD</th>\n",
       "      <td>Missing Indicator</td>\n",
       "      <td>Missing Indicator</td>\n",
       "    </tr>\n",
       "  </tbody>\n",
       "</table>\n",
       "</div>"
      ],
      "text/plain": [
       "                                                   0   \\\n",
       "DOCID          news:040g^201902255786312(S:435019146)   \n",
       "HEADLINE                    耐克一天蒸发13亿美元NBA准状元一脚球鞋对半裂开   \n",
       "PUBTYPE                                           app   \n",
       "SOURCE                                       新浪财经 APP   \n",
       "PUBLISHDATE                       2019-02-24 16:00:00   \n",
       "AUTHOR                                            鲍一凡   \n",
       "SECTION                                       新浪财经-产经   \n",
       "WORDCOUNT                                      1477.0   \n",
       "SENTENCE                                      '耐克尴尬了'   \n",
       "RELEVANT                                          0.0   \n",
       "INDICATORWORD                       Missing Indicator   \n",
       "\n",
       "                                                              46  \n",
       "DOCID                     news:258l^201902255565029(S:435019146)  \n",
       "HEADLINE                               耐克一天蒸发13亿美元NBA准状元一脚球鞋对半裂开  \n",
       "PUBTYPE                                                      app  \n",
       "SOURCE                                                  新浪财经 APP  \n",
       "PUBLISHDATE                                  2019-02-24 16:00:00  \n",
       "AUTHOR                                                       鲍一凡  \n",
       "SECTION                                                  新浪财经-产经  \n",
       "WORDCOUNT                                                 1477.0  \n",
       "SENTENCE        'cre=tianyi&mod=finappt&loc=5&r=25&rfunc=27&t...  \n",
       "RELEVANT                                                     0.0  \n",
       "INDICATORWORD                                  Missing Indicator  "
      ]
     },
     "execution_count": 9,
     "metadata": {},
     "output_type": "execute_result"
    }
   ],
   "source": [
    "## Find headline two\n",
    "dup_row_2 = dup_row.query(\"HEADLINE == '耐克一天蒸发13亿美元NBA准状元一脚球鞋对半裂开'\").merge(\n",
    "    df_clean, \n",
    "    on = ['DOCID', 'HEADLINE'], \n",
    "    how = 'inner'\n",
    ")\n",
    "\n",
    "## We can see they are the same article on the same platform, and there could be something wrong during the data collection\n",
    "dup_row_2.iloc[[0, -1]].transpose()"
   ]
  },
  {
   "cell_type": "code",
   "execution_count": 10,
   "id": "7e7130d2",
   "metadata": {},
   "outputs": [
    {
     "data": {
      "text/html": [
       "<div>\n",
       "<style scoped>\n",
       "    .dataframe tbody tr th:only-of-type {\n",
       "        vertical-align: middle;\n",
       "    }\n",
       "\n",
       "    .dataframe tbody tr th {\n",
       "        vertical-align: top;\n",
       "    }\n",
       "\n",
       "    .dataframe thead th {\n",
       "        text-align: right;\n",
       "    }\n",
       "</style>\n",
       "<table border=\"1\" class=\"dataframe\">\n",
       "  <thead>\n",
       "    <tr style=\"text-align: right;\">\n",
       "      <th>col_0</th>\n",
       "      <th>Percentage</th>\n",
       "    </tr>\n",
       "    <tr>\n",
       "      <th>DOCID</th>\n",
       "      <th></th>\n",
       "    </tr>\n",
       "  </thead>\n",
       "  <tbody>\n",
       "    <tr>\n",
       "      <th>news:040g^201902255786312(S:435019146)</th>\n",
       "      <td>63.8%</td>\n",
       "    </tr>\n",
       "    <tr>\n",
       "      <th>news:258l^201902255565029(S:435019146)</th>\n",
       "      <td>36.2%</td>\n",
       "    </tr>\n",
       "  </tbody>\n",
       "</table>\n",
       "</div>"
      ],
      "text/plain": [
       "col_0                                  Percentage\n",
       "DOCID                                            \n",
       "news:040g^201902255786312(S:435019146)      63.8%\n",
       "news:258l^201902255565029(S:435019146)      36.2%"
      ]
     },
     "execution_count": 10,
     "metadata": {},
     "output_type": "execute_result"
    }
   ],
   "source": [
    "## We can see the two different DOCID's percentage\n",
    "pd.crosstab(\n",
    "    index=dup_row_2[\"DOCID\"], \n",
    "    columns=\"Percentage\",\n",
    "    normalize = 'columns'\n",
    ").apply(rsm.format_nr, dec = 1, perc = True)"
   ]
  },
  {
   "cell_type": "code",
   "execution_count": 11,
   "id": "f3452880",
   "metadata": {},
   "outputs": [],
   "source": [
    "## Then, we change the DOCID to the one with higer percentage\n",
    "df_clean.loc[df_clean['DOCID'] == 'news:258l^201902255565029(S:435019146)', 'DOCID'] = \"news:040g^201902255786312(S:435019146)\""
   ]
  },
  {
   "cell_type": "markdown",
   "id": "051d5cf2",
   "metadata": {},
   "source": [
    "##### After exploring the dataset's basic statistical information, we want to use graphs to show each variable's property further. <br/> <br/> However, each entry on the data set is a sentence split from a different article. We need to aggregate and sum them together by DOCID before we drawing graphs."
   ]
  },
  {
   "cell_type": "code",
   "execution_count": 12,
   "id": "2c430f28",
   "metadata": {},
   "outputs": [
    {
     "data": {
      "text/html": [
       "<div>\n",
       "<style scoped>\n",
       "    .dataframe tbody tr th:only-of-type {\n",
       "        vertical-align: middle;\n",
       "    }\n",
       "\n",
       "    .dataframe tbody tr th {\n",
       "        vertical-align: top;\n",
       "    }\n",
       "\n",
       "    .dataframe thead th {\n",
       "        text-align: right;\n",
       "    }\n",
       "</style>\n",
       "<table border=\"1\" class=\"dataframe\">\n",
       "  <thead>\n",
       "    <tr style=\"text-align: right;\">\n",
       "      <th></th>\n",
       "      <th>DOCID</th>\n",
       "      <th>SOURCE</th>\n",
       "      <th>PUBLISHDATE</th>\n",
       "      <th>AUTHOR</th>\n",
       "      <th>SECTION</th>\n",
       "    </tr>\n",
       "  </thead>\n",
       "  <tbody>\n",
       "    <tr>\n",
       "      <th>0</th>\n",
       "      <td>news:0309^201801213072720(S:434955694)</td>\n",
       "      <td>一点资讯 APP</td>\n",
       "      <td>2018-01-20 16:00:00</td>\n",
       "      <td>Missing Author</td>\n",
       "      <td>一点资讯-时尚</td>\n",
       "    </tr>\n",
       "    <tr>\n",
       "      <th>1</th>\n",
       "      <td>news:031k^202005230936315(S:435083988)</td>\n",
       "      <td>看点快报 APP</td>\n",
       "      <td>2020-05-22 16:00:00</td>\n",
       "      <td>潮流私搭</td>\n",
       "      <td>腾讯网</td>\n",
       "    </tr>\n",
       "    <tr>\n",
       "      <th>2</th>\n",
       "      <td>news:0386^201907202560085(S:435048943)</td>\n",
       "      <td>百度 APP</td>\n",
       "      <td>2019-07-19 16:00:00</td>\n",
       "      <td>潮流叫兽罗全对</td>\n",
       "      <td>潮流叫兽罗全对</td>\n",
       "    </tr>\n",
       "    <tr>\n",
       "      <th>3</th>\n",
       "      <td>news:03ae^202002254211150(S:435055137)</td>\n",
       "      <td>腾讯新闻 APP</td>\n",
       "      <td>2020-02-24 16:00:00</td>\n",
       "      <td>Supreme情报网</td>\n",
       "      <td>腾讯网</td>\n",
       "    </tr>\n",
       "    <tr>\n",
       "      <th>4</th>\n",
       "      <td>news:03g3^202008283935275(S:435089434)</td>\n",
       "      <td>看点快报 APP</td>\n",
       "      <td>2020-08-27 16:00:00</td>\n",
       "      <td>斗牛APP</td>\n",
       "      <td>斗牛APP</td>\n",
       "    </tr>\n",
       "    <tr>\n",
       "      <th>...</th>\n",
       "      <td>...</td>\n",
       "      <td>...</td>\n",
       "      <td>...</td>\n",
       "      <td>...</td>\n",
       "      <td>...</td>\n",
       "    </tr>\n",
       "    <tr>\n",
       "      <th>251</th>\n",
       "      <td>news:279h^201901176258293(S:435004673)</td>\n",
       "      <td>UC头条 APP</td>\n",
       "      <td>2019-01-16 16:00:00</td>\n",
       "      <td>zaker</td>\n",
       "      <td>UC头条-体育</td>\n",
       "    </tr>\n",
       "    <tr>\n",
       "      <th>252</th>\n",
       "      <td>news:27bl^202008291565524(S:435077796)</td>\n",
       "      <td>看点快报 APP</td>\n",
       "      <td>2020-08-28 16:00:00</td>\n",
       "      <td>洋芋侃鞋</td>\n",
       "      <td>洋芋侃鞋</td>\n",
       "    </tr>\n",
       "    <tr>\n",
       "      <th>253</th>\n",
       "      <td>news:2864^202005163730364(S:435096769)</td>\n",
       "      <td>看点快报 APP</td>\n",
       "      <td>2020-05-15 16:00:00</td>\n",
       "      <td>孖伍</td>\n",
       "      <td>看点快报</td>\n",
       "    </tr>\n",
       "    <tr>\n",
       "      <th>254</th>\n",
       "      <td>news:287d^202011047383739(S:435113070)</td>\n",
       "      <td>今日头条 APP</td>\n",
       "      <td>2020-03-11 16:00:00</td>\n",
       "      <td>DUNKHOME</td>\n",
       "      <td>欧文7 creator</td>\n",
       "    </tr>\n",
       "    <tr>\n",
       "      <th>255</th>\n",
       "      <td>news:2a21^202005141169644(S:435083722)</td>\n",
       "      <td>看点快报 APP</td>\n",
       "      <td>2020-05-13 16:00:00</td>\n",
       "      <td>茶余饭后话篮球</td>\n",
       "      <td>腾讯网</td>\n",
       "    </tr>\n",
       "  </tbody>\n",
       "</table>\n",
       "<p>256 rows × 5 columns</p>\n",
       "</div>"
      ],
      "text/plain": [
       "                                      DOCID    SOURCE         PUBLISHDATE  \\\n",
       "0    news:0309^201801213072720(S:434955694)  一点资讯 APP 2018-01-20 16:00:00   \n",
       "1    news:031k^202005230936315(S:435083988)  看点快报 APP 2020-05-22 16:00:00   \n",
       "2    news:0386^201907202560085(S:435048943)    百度 APP 2019-07-19 16:00:00   \n",
       "3    news:03ae^202002254211150(S:435055137)  腾讯新闻 APP 2020-02-24 16:00:00   \n",
       "4    news:03g3^202008283935275(S:435089434)  看点快报 APP 2020-08-27 16:00:00   \n",
       "..                                      ...       ...                 ...   \n",
       "251  news:279h^201901176258293(S:435004673)  UC头条 APP 2019-01-16 16:00:00   \n",
       "252  news:27bl^202008291565524(S:435077796)  看点快报 APP 2020-08-28 16:00:00   \n",
       "253  news:2864^202005163730364(S:435096769)  看点快报 APP 2020-05-15 16:00:00   \n",
       "254  news:287d^202011047383739(S:435113070)  今日头条 APP 2020-03-11 16:00:00   \n",
       "255  news:2a21^202005141169644(S:435083722)  看点快报 APP 2020-05-13 16:00:00   \n",
       "\n",
       "             AUTHOR      SECTION  \n",
       "0    Missing Author      一点资讯-时尚  \n",
       "1              潮流私搭          腾讯网  \n",
       "2           潮流叫兽罗全对      潮流叫兽罗全对  \n",
       "3        Supreme情报网          腾讯网  \n",
       "4             斗牛APP        斗牛APP  \n",
       "..              ...          ...  \n",
       "251           zaker      UC头条-体育  \n",
       "252            洋芋侃鞋         洋芋侃鞋  \n",
       "253              孖伍         看点快报  \n",
       "254        DUNKHOME  欧文7 creator  \n",
       "255         茶余饭后话篮球          腾讯网  \n",
       "\n",
       "[256 rows x 5 columns]"
      ]
     },
     "execution_count": 12,
     "metadata": {},
     "output_type": "execute_result"
    }
   ],
   "source": [
    "## Collecting varaibles that we want to explory\n",
    "var = [\n",
    "    \"DOCID\", \n",
    "    \"SOURCE\", \n",
    "    \"PUBLISHDATE\",\n",
    "    \"AUTHOR\", \n",
    "    \"SECTION\"   \n",
    "]\n",
    "\n",
    "## Aggregate them together\n",
    "df_EDA = df_clean.groupby(var).count().reset_index().iloc[:, :5]\n",
    "df_EDA"
   ]
  },
  {
   "cell_type": "markdown",
   "id": "f1dfd242",
   "metadata": {},
   "source": [
    "##### SOURCE Variable"
   ]
  },
  {
   "cell_type": "code",
   "execution_count": 13,
   "id": "b2a0f12a",
   "metadata": {},
   "outputs": [
    {
     "data": {
      "image/png": "[encoded data removed]",
      "text/plain": [
       "<Figure size 780x520 with 1 Axes>"
      ]
     },
     "metadata": {
      "needs_background": "light"
     },
     "output_type": "display_data"
    }
   ],
   "source": [
    "plot = sns.countplot(\n",
    "    y = \"SOURCE\", \n",
    "    data = df_EDA,\n",
    "    order = df_EDA['SOURCE'].value_counts().index\n",
    ")\n",
    "\n",
    "# add percentage\n",
    "total = len(df_EDA['SOURCE'])\n",
    "for p in plot.patches:\n",
    "        percentage = '{:.1f}%'.format(100 * p.get_width()/total)\n",
    "        x = p.get_x() + p.get_width() + 0.5\n",
    "        y = p.get_y() + p.get_height() - 0.3\n",
    "        plot.annotate(percentage, (x, y), fontsize = 7)\n",
    "\n",
    "# remove right spines from graph\n",
    "sns.despine()\n",
    "plt.show()"
   ]
  },
  {
   "cell_type": "markdown",
   "id": "9f0441b3",
   "metadata": {},
   "source": [
    "##### PUBLISHDATE Variable "
   ]
  },
  {
   "cell_type": "code",
   "execution_count": 14,
   "id": "7cafc351",
   "metadata": {},
   "outputs": [
    {
     "data": {
      "image/png": "[encoded data removed]",
      "text/plain": [
       "<Figure size 780x520 with 1 Axes>"
      ]
     },
     "metadata": {
      "needs_background": "light"
     },
     "output_type": "display_data"
    }
   ],
   "source": [
    "df_EDA.groupby(\n",
    "    [\n",
    "        df_EDA[\"PUBLISHDATE\"].dt.year, \n",
    "        df_EDA[\"PUBLISHDATE\"].dt.month\n",
    "    ]\n",
    ")[['PUBLISHDATE']].count().plot(kind=\"bar\")\n",
    "\n",
    "plt.ylabel('Count')\n",
    "plt.xlabel('Year and Month') \n",
    "plt.legend().set_visible(False)"
   ]
  },
  {
   "cell_type": "markdown",
   "id": "aa11e834",
   "metadata": {},
   "source": [
    "##### AUTHOR Variable"
   ]
  },
  {
   "cell_type": "code",
   "execution_count": 15,
   "id": "baf94aea",
   "metadata": {},
   "outputs": [
    {
     "data": {
      "image/png": "[encoded data removed]",
      "text/plain": [
       "<Figure size 780x520 with 1 Axes>"
      ]
     },
     "metadata": {
      "needs_background": "light"
     },
     "output_type": "display_data"
    }
   ],
   "source": [
    "df_EDA.query(\n",
    "    \"AUTHOR != 'Missing Author'\"\n",
    ")[\"AUTHOR\"].value_counts()[:23].sort_values().plot(kind='barh')\n",
    "\n",
    "plt.xlabel('Count')\n",
    "plt.ylabel('AUTHOR') \n",
    "plt.show()"
   ]
  },
  {
   "cell_type": "markdown",
   "id": "1c4c2273",
   "metadata": {},
   "source": [
    "##### SECTION"
   ]
  },
  {
   "cell_type": "code",
   "execution_count": 16,
   "id": "ac3c97aa",
   "metadata": {},
   "outputs": [
    {
     "data": {
      "image/png": "[encoded data removed]",
      "text/plain": [
       "<Figure size 780x520 with 1 Axes>"
      ]
     },
     "metadata": {
      "needs_background": "light"
     },
     "output_type": "display_data"
    }
   ],
   "source": [
    "plot = df_EDA.query(\n",
    "    \"SECTION != 'Missing Section'\"\n",
    ")[\"SECTION\"].value_counts()[:23].sort_values().plot(kind='barh')\n",
    "\n",
    "# add percentage\n",
    "total = len(df_EDA['SECTION'])\n",
    "for p in plot.patches:\n",
    "        percentage = '{:.1f}%'.format(100 * p.get_width()/total)\n",
    "        x = p.get_x() + p.get_width() + 0.5\n",
    "        y = p.get_y() + p.get_height() - 0.5\n",
    "        plot.annotate(percentage, (x, y), fontsize = 7)\n",
    "\n",
    "sns.despine()\n",
    "plt.xlabel('Count')\n",
    "plt.ylabel('SECTION') \n",
    "plt.show()"
   ]
  },
  {
   "cell_type": "markdown",
   "id": "6a53a37f",
   "metadata": {},
   "source": [
    "##### RELEVANT"
   ]
  },
  {
   "cell_type": "code",
   "execution_count": 17,
   "id": "0998f8a1",
   "metadata": {},
   "outputs": [
    {
     "data": {
      "image/png": "[encoded data removed]",
      "text/plain": [
       "<Figure size 780x520 with 1 Axes>"
      ]
     },
     "metadata": {
      "needs_background": "light"
     },
     "output_type": "display_data"
    }
   ],
   "source": [
    "plot = sns.countplot(\n",
    "    x = \"RELEVANT\", \n",
    "    data = df_clean,\n",
    "    order = df_clean['RELEVANT'].value_counts().index,\n",
    "    dodge = True\n",
    ")\n",
    "\n",
    "# add percentage\n",
    "total = len(df_clean['RELEVANT'])\n",
    "for p in plot.patches:\n",
    "        percentage = '{:.1f}%'.format(100 * p.get_height()/total)\n",
    "        x = p.get_x() + p.get_width() - 0.5\n",
    "        y = p.get_y() + p.get_height() + 4\n",
    "        plot.annotate(percentage, (x, y), fontsize = 9)\n",
    "\n",
    "sns.despine()\n",
    "plt.show()"
   ]
  },
  {
   "cell_type": "code",
   "execution_count": null,
   "id": "3b26e89b",
   "metadata": {},
   "outputs": [],
   "source": []
  },
  {
   "cell_type": "markdown",
   "id": "8c10bd35",
   "metadata": {},
   "source": [
    "# Build Models"
   ]
  },
  {
   "cell_type": "markdown",
   "id": "0a97d919",
   "metadata": {},
   "source": [
    "### Split Datasets and define variables"
   ]
  },
  {
   "cell_type": "markdown",
   "id": "76b318cd",
   "metadata": {},
   "source": [
    "##### Since the size of our data set is not so big, splitting a part of the data set as validation data set would not helpful for the model performance. Thus, I will choose using cross-validation and grid search instead of using a validation datasets during training the model and hyper-parameter tuning. <br/><br/> However, I still will split the datasets into training, testing, and validation to fulfill the requirements."
   ]
  },
  {
   "cell_type": "markdown",
   "id": "6c44a7e3",
   "metadata": {},
   "source": [
    "1. ##### Only Testing and Training "
   ]
  },
  {
   "cell_type": "code",
   "execution_count": 18,
   "id": "8580290b",
   "metadata": {},
   "outputs": [],
   "source": [
    "## Define explanatory variable, response variable, and ID variable\n",
    "evar = ['SENTENCE', 'INDICATORWORD']\n",
    "rvar = 'RELEVANT'\n",
    "idvar = 'DOCID'\n",
    "\n",
    "## Copy X and y from df_clean and use it for model training\n",
    "df_clean['RELEVANT'] = df_clean['RELEVANT'].astype(float)\n",
    "df_clean['RELEVANT'] = df_clean['RELEVANT'].astype(int)\n",
    "X = df_clean[evar].copy()\n",
    "y = df_clean[rvar]\n",
    "\n",
    "## Using ShuffleSplit to help us split the dataset\n",
    "ssplit = ShuffleSplit(n_splits=5, test_size=0.3, random_state=77)\n",
    "for train_index, test_index in ssplit.split(X):\n",
    "    pass\n",
    "\n",
    "## Distinguish training and testing\n",
    "X[\"training\"] = 0\n",
    "X.iloc[train_index, X.columns == \"training\"] = 1"
   ]
  },
  {
   "cell_type": "markdown",
   "id": "fc5f77e2",
   "metadata": {},
   "source": [
    "2. ##### Testing, Training, and Validation"
   ]
  },
  {
   "cell_type": "code",
   "execution_count": 19,
   "id": "709588de",
   "metadata": {},
   "outputs": [],
   "source": [
    "## Split data set into training, testing, and Validation\n",
    "X_train, X_test, y_train, y_test = train_test_split(\n",
    "    X, \n",
    "    y, \n",
    "    test_size=0.3, \n",
    "    random_state=42, \n",
    "    shuffle = True\n",
    ")\n",
    "\n",
    "X_test, X_val, y_test, y_val = train_test_split(\n",
    "    X_test, \n",
    "    y_test, \n",
    "    test_size=0.5,\n",
    "    random_state=42, \n",
    "    shuffle = True\n",
    ")"
   ]
  },
  {
   "cell_type": "code",
   "execution_count": 20,
   "id": "76b03502",
   "metadata": {},
   "outputs": [
    {
     "name": "stdout",
     "output_type": "stream",
     "text": [
      "Data Set Size Without Validation \n",
      "Training: 760\n",
      "Testing: 327\n",
      "\n",
      "------------------------------------------------------\n",
      "Data Set Size With Validation\n",
      "Training: 760 \n",
      "Testing: 163\n",
      "Validation: 164\n",
      "\n"
     ]
    }
   ],
   "source": [
    "## Check the data set size after splitting\n",
    "print(\n",
    "f\"\"\"Data Set Size Without Validation \n",
    "Training: {X[X.training == 1].shape[0]}\n",
    "Testing: {X[X.training == 0].shape[0]}\n",
    "\"\"\"\n",
    ")\n",
    "\n",
    "print(\"------------------------------------------------------\")\n",
    "\n",
    "print(\n",
    "f\"\"\"Data Set Size With Validation\n",
    "Training: {X_train.shape[0]} \n",
    "Testing: {X_test.shape[0]}\n",
    "Validation: {X_val.shape[0]}\n",
    "\"\"\"\n",
    ")"
   ]
  },
  {
   "cell_type": "markdown",
   "id": "93d62606",
   "metadata": {},
   "source": [
    "### Build tokenizer for SENTENCE variable"
   ]
  },
  {
   "cell_type": "code",
   "execution_count": 21,
   "id": "2ed1f436",
   "metadata": {},
   "outputs": [],
   "source": [
    "## Load chinese stop words file\n",
    "# set path to data and grab file names\n",
    "path = \"stopwords-master/\"\n",
    "all_files = glob.glob(os.path.join(path, \"*.txt\"))\n",
    "\n",
    "# read in each file and create chinese stop words list\n",
    "stop_ch = pd.concat([pd.read_csv(f, header = None) for f in all_files], ignore_index=True)\n",
    "stop_ch = stop_ch.values.tolist()\n",
    "# add some extra stop words\n",
    "stop_ch_list = ['客服', '添加', '扫码', '扫', '满勿加']\n",
    "stop_ch.extend(stop_ch_list)\n",
    "\n",
    "\n",
    "## set english stop words and stemming \n",
    "stop_en = set(stopwords.words('english'))\n",
    "ps = PorterStemmer()\n",
    "\n",
    "## set special chracters need to remove\n",
    "removetable = str.maketrans('', '', '\\-=~!@#%^&*()_+\\[\\]{};\\'\\\\:\"|<,./<>?（）：¥')"
   ]
  },
  {
   "cell_type": "code",
   "execution_count": 22,
   "id": "9245a7d1",
   "metadata": {},
   "outputs": [],
   "source": [
    "## write function to preprocess sentence \n",
    "def pre_pro(doc, stemming = True, need_sent = False):\n",
    "   \n",
    "    sentences = st(doc) #get sentence at first if there is a paragraph \n",
    "    tokens_1 = []\n",
    "    tokens_2 = []\n",
    "    \n",
    "    ## Process English characters  \n",
    "    for sent in sentences:\n",
    "        words = wt(sent) #get words for each sentence\n",
    "        if stemming:\n",
    "            words = [ps.stem(word) for word in words]\n",
    "        if need_sent:\n",
    "            tokens.append(words)\n",
    "        else:\n",
    "            tokens_1 += [w.lower() for w in words if w not in stop_en]\n",
    "    \n",
    "    ## Process Chinese charcters\n",
    "    for ele in tokens_1:\n",
    "        tokens_2 += jieba.lcut(ele)\n",
    "        tokens_2_rem = [s.translate(removetable) for s in tokens_2]\n",
    "        tokens_2_pro = [w for w in tokens_2_rem if w not in stop_ch]\n",
    "    \n",
    "    return tokens_2_pro"
   ]
  },
  {
   "cell_type": "markdown",
   "id": "6353a84e",
   "metadata": {},
   "source": [
    "### Using TF-IDF method and tokenizer to represent Text before build model"
   ]
  },
  {
   "cell_type": "code",
   "execution_count": 23,
   "id": "2a20194e",
   "metadata": {},
   "outputs": [
    {
     "name": "stderr",
     "output_type": "stream",
     "text": [
      "Building prefix dict from the default dictionary ...\n",
      "Dumping model to file cache /tmp/jieba.cache\n",
      "Loading model cost 0.941 seconds.\n",
      "Prefix dict has been built successfully.\n"
     ]
    }
   ],
   "source": [
    "## Vectorize our document with TF-IDF value\n",
    "tfidf = TfidfVectorizer(\n",
    "    strip_accents=None,\n",
    "    lowercase=True,\n",
    "    preprocessor=None, \n",
    "    tokenizer=pre_pro,\n",
    "    use_idf=True,\n",
    "    norm='l2',\n",
    "    smooth_idf=True\n",
    ")\n",
    "\n",
    "X_tf = tfidf.fit_transform(X['SENTENCE'])"
   ]
  },
  {
   "cell_type": "markdown",
   "id": "cbf625b9",
   "metadata": {},
   "source": [
    "### Creating evaluation date set to compare model performance"
   ]
  },
  {
   "cell_type": "code",
   "execution_count": 24,
   "id": "c040b9da",
   "metadata": {},
   "outputs": [],
   "source": [
    "## Create an evaluation date set used to compare model performance in the end\n",
    "training = X[\"training\"]\n",
    "eval_dat = df_clean.copy()\n",
    "eval_dat[\"training\"] = training\n",
    "eval_dat = eval_dat[[idvar, rvar, \"training\"]]"
   ]
  },
  {
   "cell_type": "markdown",
   "id": "877d2006",
   "metadata": {},
   "source": [
    "### Next, we are going to use the TF-IDF vector to train our three different models. And we will use the AUC as the criterion to choose the best hyperparameters during the grid search process. In the end, we will gather all models together and compare them with different metrics."
   ]
  },
  {
   "cell_type": "markdown",
   "id": "81b6b925",
   "metadata": {},
   "source": [
    "##### Model 1: Random Forest Model"
   ]
  },
  {
   "cell_type": "code",
   "execution_count": 25,
   "id": "7d411497",
   "metadata": {},
   "outputs": [
    {
     "name": "stdout",
     "output_type": "stream",
     "text": [
      "Fitting 5 folds for each of 112 candidates, totalling 560 fits\n"
     ]
    }
   ],
   "source": [
    "## define hyperparameters and metrics used for grid search\n",
    "clf_rf = RandomForestClassifier()\n",
    "param_grid_rf = {\n",
    "    \"n_estimators\": list(range(100, 800, 50)),\n",
    "    \"max_features\": range(2, 10)\n",
    "}\n",
    "scoring = {\"AUC\": \"roc_auc\"}\n",
    "\n",
    "## apply grid search\n",
    "clf_cv_rf = GridSearchCV(\n",
    "    clf_rf, \n",
    "    param_grid_rf, \n",
    "    scoring=scoring, \n",
    "    cv=5, \n",
    "    n_jobs=-1, \n",
    "    refit=\"AUC\", \n",
    "    verbose=5\n",
    ").fit(X_tf[training == 1], y[training == 1])"
   ]
  },
  {
   "cell_type": "code",
   "execution_count": 26,
   "id": "2482fcd3",
   "metadata": {},
   "outputs": [
    {
     "name": "stdout",
     "output_type": "stream",
     "text": [
      "Best AUC Socre: 0.88\n",
      "---------------------------------------------------------------------\n",
      "Best Hyperparamters: {'max_features': 8, 'n_estimators': 650}\n"
     ]
    }
   ],
   "source": [
    "## Check the best AUC score and hyperparameters at grid search\n",
    "print(\"Best AUC Socre:\", clf_cv_rf.best_score_.round(2))\n",
    "print(\"---------------------------------------------------------------------\")\n",
    "print(\"Best Hyperparamters:\",clf_cv_rf.best_params_)"
   ]
  },
  {
   "cell_type": "code",
   "execution_count": 27,
   "id": "0edd08f6",
   "metadata": {},
   "outputs": [],
   "source": [
    "## Use best hyperparameters found on grid search to build our Random Forest Model\n",
    "clf_rf = RandomForestClassifier(\n",
    "    n_estimators=clf_cv_rf.best_params_[\"n_estimators\"],\n",
    "    max_features=clf_cv_rf.best_params_[\"max_features\"],\n",
    "    oob_score=True,\n",
    "    random_state=1234,\n",
    ").fit(X_tf[training == 1], y[training == 1])"
   ]
  },
  {
   "cell_type": "code",
   "execution_count": 28,
   "id": "75986c95",
   "metadata": {},
   "outputs": [],
   "source": [
    "# using the oob predictions for the training sample\n",
    "eval_dat[\"y_rf\"] = 0  # set some initial value\n",
    "eval_dat.loc[training == 1, \"y_rf\"] = clf_rf.oob_decision_function_[:, 1]\n",
    "eval_dat.loc[training == 0, \"y_rf\"] = clf_rf.predict_proba(X_tf[training == 0])[:, 1]"
   ]
  },
  {
   "cell_type": "code",
   "execution_count": 29,
   "id": "04ef4338",
   "metadata": {},
   "outputs": [
    {
     "data": {
      "image/png": "[encoded data removed]",
      "text/plain": [
       "<Figure size 780x520 with 1 Axes>"
      ]
     },
     "metadata": {
      "needs_background": "light"
     },
     "output_type": "display_data"
    }
   ],
   "source": [
    "## Make prediction\n",
    "pred_rf = clf_rf.predict(X_tf[training == 0])\n",
    "\n",
    "## Build Confusion Marix heat map\n",
    "classes = np.unique(y)\n",
    "cm = metrics.confusion_matrix(y[training == 0], pred_rf)\n",
    "fig, ax = plt.subplots()\n",
    "sns.heatmap(cm, annot=True, fmt='d', ax=ax, cmap=plt.cm.Blues, \n",
    "            cbar=False)\n",
    "ax.set(xlabel=\"Pred\", ylabel=\"True\", xticklabels=classes, \n",
    "       yticklabels=classes, title=\"Confusion matrix\")\n",
    "plt.yticks(rotation=0)\n",
    "plt.show()"
   ]
  },
  {
   "cell_type": "markdown",
   "id": "22654297",
   "metadata": {},
   "source": [
    "##### Model 2: SVM Model"
   ]
  },
  {
   "cell_type": "code",
   "execution_count": 30,
   "id": "ee2cbf66",
   "metadata": {},
   "outputs": [
    {
     "name": "stdout",
     "output_type": "stream",
     "text": [
      "Fitting 5 folds for each of 140 candidates, totalling 700 fits\n"
     ]
    }
   ],
   "source": [
    "## define hyperparameters and metrics used for grid search\n",
    "SVM = svm.SVC(probability=True)\n",
    "param_grid_svm = {\n",
    "    'C': [0.1, 1, 10, 100, 1000], \n",
    "    'gamma': [1, 0.1, 0.01, 0.001, 0.0001, 'scale', 'auto'],\n",
    "    'kernel': ['linear', 'sigmoid', 'gaussian', 'rbf']\n",
    "}\n",
    "\n",
    "## apply grid search\n",
    "clf_cv_svm = GridSearchCV(\n",
    "    SVM, \n",
    "    param_grid_svm, \n",
    "    scoring=scoring,\n",
    "    cv=5, \n",
    "    n_jobs=-1, \n",
    "    refit=\"AUC\", \n",
    "    verbose=5\n",
    ").fit(X_tf[training == 1], y[training == 1])"
   ]
  },
  {
   "cell_type": "code",
   "execution_count": 31,
   "id": "4832b773",
   "metadata": {},
   "outputs": [
    {
     "name": "stdout",
     "output_type": "stream",
     "text": [
      "Best AUC Socre: 0.9\n",
      "---------------------------------------------------------------------\n",
      "Best Hyperparamters: {'C': 10, 'gamma': 0.1, 'kernel': 'rbf'}\n"
     ]
    }
   ],
   "source": [
    "## Check the best AUC score and hyperparameters at grid search\n",
    "print(\"Best AUC Socre:\", clf_cv_svm.best_score_.round(2))\n",
    "print(\"---------------------------------------------------------------------\")\n",
    "print(\"Best Hyperparamters:\",clf_cv_svm.best_params_)"
   ]
  },
  {
   "cell_type": "code",
   "execution_count": 32,
   "id": "b1721cc0",
   "metadata": {},
   "outputs": [],
   "source": [
    "## Make prediction on probablities\n",
    "eval_dat[\"y_svm\"] = 0  # set some initial value\n",
    "eval_dat[\"y_svm\"] = clf_cv_svm.predict_proba(X_tf)[:, 1]"
   ]
  },
  {
   "cell_type": "code",
   "execution_count": 33,
   "id": "3452041b",
   "metadata": {},
   "outputs": [
    {
     "data": {
      "image/png": "[encoded data removed]",
      "text/plain": [
       "<Figure size 780x520 with 1 Axes>"
      ]
     },
     "metadata": {
      "needs_background": "light"
     },
     "output_type": "display_data"
    }
   ],
   "source": [
    "## Make prediction\n",
    "pred_svm = clf_cv_svm.predict(X_tf[training == 0])\n",
    "\n",
    "## Build Confusion Marix heat map\n",
    "classes = np.unique(y)\n",
    "cm = metrics.confusion_matrix(y[training == 0], pred_svm)\n",
    "fig, ax = plt.subplots()\n",
    "sns.heatmap(cm, annot=True, fmt='d', ax=ax, cmap=plt.cm.Blues, \n",
    "            cbar=False)\n",
    "ax.set(xlabel=\"Pred\", ylabel=\"True\", xticklabels=classes, \n",
    "       yticklabels=classes, title=\"Confusion matrix\")\n",
    "plt.yticks(rotation=0)\n",
    "plt.show()"
   ]
  },
  {
   "cell_type": "markdown",
   "id": "9e381430",
   "metadata": {},
   "source": [
    "##### Model 3: Naive Bayes Model"
   ]
  },
  {
   "cell_type": "code",
   "execution_count": 98,
   "id": "10a37660",
   "metadata": {},
   "outputs": [
    {
     "name": "stdout",
     "output_type": "stream",
     "text": [
      "Fitting 5 folds for each of 4 candidates, totalling 20 fits\n"
     ]
    }
   ],
   "source": [
    "## Define hyperparameters\n",
    "clf_nb = naive_bayes.MultinomialNB()\n",
    "param_grid_nb = {\n",
    "    \"alpha\": [0.0001, 0.001, 0.01, 0.1]\n",
    "}\n",
    "\n",
    "## apply grid search\n",
    "clf_cv_nb = GridSearchCV(\n",
    "    clf_nb, \n",
    "    param_grid_nb,\n",
    "    scoring=scoring,\n",
    "    cv=5, \n",
    "    n_jobs=-1, \n",
    "    refit=\"AUC\", \n",
    "    verbose=5\n",
    ").fit(X_tf[training == 1].toarray(), y[training == 1])"
   ]
  },
  {
   "cell_type": "code",
   "execution_count": 99,
   "id": "5870cfbc",
   "metadata": {},
   "outputs": [
    {
     "name": "stdout",
     "output_type": "stream",
     "text": [
      "Best AUC Socre: 0.81\n",
      "---------------------------------------------------------------------\n",
      "Best Hyperparamters: {'alpha': 0.1}\n"
     ]
    }
   ],
   "source": [
    "## Check the best AUC score and hyperparameters at grid search\n",
    "print(\"Best AUC Socre:\", clf_cv_nb.best_score_.round(2))\n",
    "print(\"---------------------------------------------------------------------\")\n",
    "print(\"Best Hyperparamters:\",clf_cv_nb.best_params_)"
   ]
  },
  {
   "cell_type": "code",
   "execution_count": 100,
   "id": "7cb0d4c3",
   "metadata": {},
   "outputs": [],
   "source": [
    "## Make prediction on probablities\n",
    "eval_dat[\"y_nb\"] = 0  # set some initial value\n",
    "eval_dat[\"y_nb\"] = clf_cv_nb.predict_proba(X_tf.toarray())[:, 1]"
   ]
  },
  {
   "cell_type": "code",
   "execution_count": 101,
   "id": "2f3e111e",
   "metadata": {},
   "outputs": [
    {
     "data": {
      "image/png": "[encoded data removed]",
      "text/plain": [
       "<Figure size 780x520 with 1 Axes>"
      ]
     },
     "metadata": {
      "needs_background": "light"
     },
     "output_type": "display_data"
    }
   ],
   "source": [
    "## Make prediction\n",
    "pred_nb = clf_cv_nb.predict(X_tf[training == 0].toarray())\n",
    "\n",
    "## Build Confusion Marix heat map\n",
    "classes = np.unique(y)\n",
    "cm = metrics.confusion_matrix(y[training == 0], pred_nb)\n",
    "fig, ax = plt.subplots()\n",
    "sns.heatmap(cm, annot=True, fmt='d', ax=ax, cmap=plt.cm.Blues, \n",
    "            cbar=False)\n",
    "ax.set(xlabel=\"Pred\", ylabel=\"True\", xticklabels=classes, \n",
    "       yticklabels=classes, title=\"Confusion matrix\")\n",
    "plt.yticks(rotation=0)\n",
    "plt.show()"
   ]
  },
  {
   "cell_type": "markdown",
   "id": "b6d47ad5",
   "metadata": {},
   "source": [
    "##### Model 4: XGBoost Model"
   ]
  },
  {
   "cell_type": "markdown",
   "id": "b8b2b334",
   "metadata": {},
   "source": [
    "##### From my experience doing binary classification problems, the XGBoost model always has an outstanding performance. Thus, I add an XGBoost model here and will compare performance with other models in the end."
   ]
  },
  {
   "cell_type": "code",
   "execution_count": 74,
   "id": "d4e4219c",
   "metadata": {},
   "outputs": [
    {
     "name": "stdout",
     "output_type": "stream",
     "text": [
      "Fitting 5 folds for each of 18 candidates, totalling 90 fits\n",
      "[00:10:04] WARNING: ../src/learner.cc:1061: Starting in XGBoost 1.3.0, the default evaluation metric used with the objective 'binary:logistic' was changed from 'error' to 'logloss'. Explicitly set eval_metric if you'd like to restore the old behavior.\n"
     ]
    }
   ],
   "source": [
    "clf_xgb = xgb.XGBClassifier(\n",
    "    objective=\"binary:logistic\",\n",
    "    use_label_encoder=False\n",
    ")\n",
    "\n",
    "## Setting hyperparamters and scroing\n",
    "param_grid = {\n",
    "    \"n_estimators\": list(range(100, 300, 100)),\n",
    "    \"max_depth\": list(range(2, 5, 1)),\n",
    "    'learning_rate' : [0.01, 0.1, 1]\n",
    "}\n",
    "\n",
    "## Apply grid search method\n",
    "clf_cv_xgb = GridSearchCV(\n",
    "    estimator = clf_xgb, \n",
    "    param_grid = param_grid, \n",
    "    scoring = scoring, \n",
    "    cv = 5, \n",
    "    n_jobs = -1, \n",
    "    refit = \"AUC\", \n",
    "    verbose=5,\n",
    ").fit(X_tf[training == 1], y[training == 1], verbose = True)"
   ]
  },
  {
   "cell_type": "code",
   "execution_count": 75,
   "id": "a45c364c",
   "metadata": {},
   "outputs": [
    {
     "name": "stdout",
     "output_type": "stream",
     "text": [
      "Best AUC Socre: 0.94\n",
      "---------------------------------------------------------------------\n",
      "Best Hyperparamters: {'learning_rate': 0.1, 'max_depth': 3, 'n_estimators': 100}\n"
     ]
    }
   ],
   "source": [
    "## Check the best AUC score and hyperparameters at grid search\n",
    "print(\"Best AUC Socre:\", clf_cv_xgb.best_score_.round(2))\n",
    "print(\"---------------------------------------------------------------------\")\n",
    "print(\"Best Hyperparamters:\",clf_cv_xgb.best_params_)"
   ]
  },
  {
   "cell_type": "code",
   "execution_count": 83,
   "id": "53759847",
   "metadata": {},
   "outputs": [],
   "source": [
    "# use best parameters to build model\n",
    "clf_xgb = xgb.XGBClassifier(\n",
    "    objective=\"binary:logistic\",\n",
    "    n_estimators=clf_cv_xgb.best_params_[\"n_estimators\"],\n",
    "    max_depth=clf_cv_xgb.best_params_[\"max_depth\"],\n",
    "    learning_rate=clf_cv_xgb.best_params_[\"learning_rate\"],\n",
    "    use_label_encoder=False,\n",
    "    eval_metric=\"auc\",\n",
    "    random_state=1234,\n",
    ").fit(X_tf[training == 1], y[training == 1])"
   ]
  },
  {
   "cell_type": "code",
   "execution_count": 80,
   "id": "af62c0f8",
   "metadata": {},
   "outputs": [],
   "source": [
    "## Make prediction on probablities\n",
    "eval_dat[\"y_xgb\"] = 0  # set some initial value\n",
    "eval_dat[\"y_xgb\"] = clf_xgb.predict_proba(X_tf)[:, 1]"
   ]
  },
  {
   "cell_type": "code",
   "execution_count": 81,
   "id": "28e0c4e9",
   "metadata": {},
   "outputs": [
    {
     "data": {
      "image/png": "[encoded data removed]",
      "text/plain": [
       "<Figure size 780x520 with 1 Axes>"
      ]
     },
     "metadata": {
      "needs_background": "light"
     },
     "output_type": "display_data"
    }
   ],
   "source": [
    "## Make prediction\n",
    "pred_xgb = clf_xgb.predict(X_tf[training == 0])\n",
    "\n",
    "## Build Confusion Marix heat map\n",
    "classes = np.unique(y)\n",
    "cm = metrics.confusion_matrix(y[training == 0], pred_xgb)\n",
    "fig, ax = plt.subplots()\n",
    "sns.heatmap(cm, annot=True, fmt='d', ax=ax, cmap=plt.cm.Blues, \n",
    "            cbar=False)\n",
    "ax.set(xlabel=\"Pred\", ylabel=\"True\", xticklabels=classes, \n",
    "       yticklabels=classes, title=\"Confusion matrix\")\n",
    "plt.yticks(rotation=0)\n",
    "plt.show()"
   ]
  },
  {
   "cell_type": "code",
   "execution_count": 110,
   "id": "468073c0",
   "metadata": {},
   "outputs": [],
   "source": []
  },
  {
   "cell_type": "markdown",
   "id": "068bf3b1",
   "metadata": {},
   "source": [
    "## Compare Model's Performance"
   ]
  },
  {
   "cell_type": "code",
   "execution_count": 113,
   "id": "7dd76336",
   "metadata": {},
   "outputs": [
    {
     "data": {
      "text/html": [
       "<div>\n",
       "<style scoped>\n",
       "    .dataframe tbody tr th:only-of-type {\n",
       "        vertical-align: middle;\n",
       "    }\n",
       "\n",
       "    .dataframe tbody tr th {\n",
       "        vertical-align: top;\n",
       "    }\n",
       "\n",
       "    .dataframe thead th {\n",
       "        text-align: right;\n",
       "    }\n",
       "</style>\n",
       "<table border=\"1\" class=\"dataframe\">\n",
       "  <thead>\n",
       "    <tr style=\"text-align: right;\">\n",
       "      <th></th>\n",
       "      <th>Type</th>\n",
       "      <th>predictor</th>\n",
       "      <th>TP</th>\n",
       "      <th>FP</th>\n",
       "      <th>TN</th>\n",
       "      <th>FN</th>\n",
       "      <th>total</th>\n",
       "      <th>TPR</th>\n",
       "      <th>TNR</th>\n",
       "      <th>precision</th>\n",
       "      <th>Fscore</th>\n",
       "      <th>accuracy</th>\n",
       "      <th>kappa</th>\n",
       "      <th>AUC</th>\n",
       "    </tr>\n",
       "  </thead>\n",
       "  <tbody>\n",
       "    <tr>\n",
       "      <th>0</th>\n",
       "      <td>test</td>\n",
       "      <td>y_xgb</td>\n",
       "      <td>175</td>\n",
       "      <td>10</td>\n",
       "      <td>113</td>\n",
       "      <td>29</td>\n",
       "      <td>327</td>\n",
       "      <td>0.858</td>\n",
       "      <td>0.919</td>\n",
       "      <td>0.946</td>\n",
       "      <td>0.900</td>\n",
       "      <td>0.881</td>\n",
       "      <td>0.753</td>\n",
       "      <td>0.946</td>\n",
       "    </tr>\n",
       "    <tr>\n",
       "      <th>1</th>\n",
       "      <td>test</td>\n",
       "      <td>y_svm</td>\n",
       "      <td>179</td>\n",
       "      <td>22</td>\n",
       "      <td>101</td>\n",
       "      <td>25</td>\n",
       "      <td>327</td>\n",
       "      <td>0.877</td>\n",
       "      <td>0.821</td>\n",
       "      <td>0.891</td>\n",
       "      <td>0.884</td>\n",
       "      <td>0.856</td>\n",
       "      <td>0.695</td>\n",
       "      <td>0.931</td>\n",
       "    </tr>\n",
       "    <tr>\n",
       "      <th>2</th>\n",
       "      <td>test</td>\n",
       "      <td>y_rf</td>\n",
       "      <td>193</td>\n",
       "      <td>47</td>\n",
       "      <td>76</td>\n",
       "      <td>11</td>\n",
       "      <td>327</td>\n",
       "      <td>0.946</td>\n",
       "      <td>0.618</td>\n",
       "      <td>0.804</td>\n",
       "      <td>0.869</td>\n",
       "      <td>0.823</td>\n",
       "      <td>0.599</td>\n",
       "      <td>0.911</td>\n",
       "    </tr>\n",
       "    <tr>\n",
       "      <th>3</th>\n",
       "      <td>test</td>\n",
       "      <td>y_nb</td>\n",
       "      <td>190</td>\n",
       "      <td>53</td>\n",
       "      <td>70</td>\n",
       "      <td>14</td>\n",
       "      <td>327</td>\n",
       "      <td>0.931</td>\n",
       "      <td>0.569</td>\n",
       "      <td>0.782</td>\n",
       "      <td>0.850</td>\n",
       "      <td>0.795</td>\n",
       "      <td>0.534</td>\n",
       "      <td>0.888</td>\n",
       "    </tr>\n",
       "  </tbody>\n",
       "</table>\n",
       "</div>"
      ],
      "text/plain": [
       "   Type predictor   TP  FP   TN  FN  total    TPR    TNR  precision  Fscore  \\\n",
       "0  test     y_xgb  175  10  113  29    327  0.858  0.919      0.946   0.900   \n",
       "1  test     y_svm  179  22  101  25    327  0.877  0.821      0.891   0.884   \n",
       "2  test      y_rf  193  47   76  11    327  0.946  0.618      0.804   0.869   \n",
       "3  test      y_nb  190  53   70  14    327  0.931  0.569      0.782   0.850   \n",
       "\n",
       "   accuracy  kappa    AUC  \n",
       "0     0.881  0.753  0.946  \n",
       "1     0.856  0.695  0.931  \n",
       "2     0.823  0.599  0.911  \n",
       "3     0.795  0.534  0.888  "
      ]
     },
     "execution_count": 113,
     "metadata": {},
     "output_type": "execute_result"
    }
   ],
   "source": [
    "## collect model names that we want to make comparision\n",
    "model_name = [\n",
    "    \"y_svm\",\n",
    "    \"y_rf\",\n",
    "    \"y_nb\",\n",
    "    \"y_xgb\"\n",
    "]\n",
    "\n",
    "## build dictionary to collect data\n",
    "dct = {\n",
    "    \"training\": eval_dat[eval_dat.training == 1],\n",
    "    \"test\": eval_dat[eval_dat.training == 0],\n",
    "}\n",
    "\n",
    "rsm.evalbin(\n",
    "    df=dct, \n",
    "    rvar=rvar, \n",
    "    lev=1, \n",
    "    pred=model_name\n",
    ")\\\n",
    ".drop(['profit', 'index', 'ROME', 'contact'], axis = 1)\\\n",
    ".query(\"Type == 'test'\")\\\n",
    ".sort_values(by=\"AUC\", ascending=False)\\\n",
    ".reset_index(drop=True)"
   ]
  },
  {
   "cell_type": "markdown",
   "id": "9e8b27e3",
   "metadata": {},
   "source": [
    "### Appendix"
   ]
  },
  {
   "cell_type": "markdown",
   "id": "f32caa82",
   "metadata": {},
   "source": [
    "##### Bert Model"
   ]
  },
  {
   "cell_type": "code",
   "execution_count": null,
   "id": "ad1eb743",
   "metadata": {},
   "outputs": [],
   "source": [
    "from torch import nn, optim\n",
    "from torch.utils.data import (\n",
    "    Dataset, \n",
    "    DataLoader, \n",
    "    RandomSampler, \n",
    "    SequentialSampler\n",
    ")\n",
    "\n",
    "import transformers\n",
    "from transformers import (\n",
    "    BertTokenizer, \n",
    "    BertModel,\n",
    "    AdamW,\n",
    "    BertConfig\n",
    ")\n",
    "\n",
    "## Specify GPU\n",
    "device = torch.device(\"cuda\")"
   ]
  },
  {
   "cell_type": "code",
   "execution_count": null,
   "id": "ce5ed4c1",
   "metadata": {},
   "outputs": [],
   "source": [
    "## Import pretrained model\n",
    "tokenizer = BertTokenizer.from_pretrained(\"hfl/chinese-roberta-wwm-ext\")\n",
    "model = BertModel.from_pretrained(\"hfl/chinese-roberta-wwm-ext\")\n",
    "\n",
    "## Get length of all messages in the train data set\n",
    "seq_len = [len(i.split()) for i in X.query(\"training == 1\")[\"SENTENCE\"]]\n",
    "pd.Series(seq_len).hist(bins = 20)\n",
    "plt.show()"
   ]
  },
  {
   "cell_type": "code",
   "execution_count": null,
   "id": "33760218",
   "metadata": {},
   "outputs": [],
   "source": [
    "max_seq_len = 20\n",
    "\n",
    "# tokenize and encode sequences in the training set\n",
    "tokens_train = tokenizer.batch_encode_plus(\n",
    "    X_train['SENTENCE'],\n",
    "    max_length = max_seq_len,\n",
    "    pad_to_max_length=True,\n",
    "    truncation=True,\n",
    "    return_token_type_ids=False\n",
    ")\n",
    "\n",
    "# tokenize and encode sequences in the validation set\n",
    "tokens_val = tokenizer.batch_encode_plus(\n",
    "    X_val['SENTENCE'],\n",
    "    max_length = max_seq_len,\n",
    "    pad_to_max_length=True,\n",
    "    truncation=True,\n",
    "    return_token_type_ids=False\n",
    ")\n",
    "\n",
    "# tokenize and encode sequences in the test set\n",
    "tokens_test = tokenizer.batch_encode_plus(\n",
    "    X_test['SENTENCE'],\n",
    "    max_length = max_seq_len,\n",
    "    pad_to_max_length=True,\n",
    "    truncation=True,\n",
    "    return_token_type_ids=False\n",
    ")"
   ]
  },
  {
   "cell_type": "code",
   "execution_count": null,
   "id": "27f964ee",
   "metadata": {},
   "outputs": [],
   "source": [
    "# for train set\n",
    "train_seq = torch.tensor(tokens_train['input_ids'])\n",
    "train_mask = torch.tensor(tokens_train['attention_mask'])\n",
    "train_y = torch.tensor(y_train.tolist())\n",
    "\n",
    "# for validation set\n",
    "val_seq = torch.tensor(tokens_val['input_ids'])\n",
    "val_mask = torch.tensor(tokens_val['attention_mask'])\n",
    "val_y = torch.tensor(y_val.tolist())\n",
    "\n",
    "# for test set\n",
    "test_seq = torch.tensor(tokens_test['input_ids'])\n",
    "test_mask = torch.tensor(tokens_test['attention_mask'])\n",
    "test_y = torch.tensor(y_test.tolist())"
   ]
  },
  {
   "cell_type": "code",
   "execution_count": null,
   "id": "6100616c",
   "metadata": {},
   "outputs": [],
   "source": [
    "stop_words_1 = pd.read_excel('nike_basketball.xlsx', sheet_name = 2, header = None)\n",
    "stop_words_1 = stop_words_1[0].unique().tolist()"
   ]
  },
  {
   "cell_type": "code",
   "execution_count": null,
   "id": "356a5df7",
   "metadata": {},
   "outputs": [],
   "source": [
    "stop_en = set(stopwords.words('english'))\n",
    "ps = PorterStemmer() \n",
    "removetable = str.maketrans('', '', '\\-=~!@#$¥%^&*()_+\\[\\]{};\\'\\\\:\"|<,./<>?（）：`')\n",
    "tokens_1 = []\n",
    "tokens_2 = []\n",
    "\n",
    "for sent in df_clean['SENTENCE'][:3]:\n",
    "    words = wt(sent) #get words for each sentence\n",
    "    #words = [ps.stem(word) for word in words]\n",
    "    tokens_1 += [w.lower() for w in words if w not in stop_en]\n",
    "for ele in tokens_1:\n",
    "    tokens_2 += jieba.lcut(ele)\n",
    "    tokens_2_rem = [s.translate(removetable) for s in tokens_2]\n",
    "    tokens_2_pro = [w for w in tokens_2_rem if w not in stop_ch]\n",
    "print(tokens_2_pro)"
   ]
  }
 ],
 "metadata": {
  "kernelspec": {
   "display_name": "Python 3",
   "language": "python",
   "name": "python3"
  },
  "language_info": {
   "codemirror_mode": {
    "name": "ipython",
    "version": 3
   },
   "file_extension": ".py",
   "mimetype": "text/x-python",
   "name": "python",
   "nbconvert_exporter": "python",
   "pygments_lexer": "ipython3",
   "version": "3.8.5"
  }
 },
 "nbformat": 4,
 "nbformat_minor": 5
}
