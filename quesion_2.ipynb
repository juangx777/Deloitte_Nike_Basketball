{
 "cells": [
  {
   "cell_type": "markdown",
   "id": "b61d3742",
   "metadata": {},
   "source": [
    "# Import packages and dataset"
   ]
  },
  {
   "cell_type": "code",
   "execution_count": 1,
   "id": "b65565c3",
   "metadata": {},
   "outputs": [],
   "source": [
    "## Data manipulation\n",
    "import pandas as pd\n",
    "import numpy as np\n",
    "import pyrsm as rsm\n",
    "import os\n",
    "import glob\n",
    "import re\n",
    "import warnings\n",
    "warnings.filterwarnings(\"ignore\")\n",
    "\n",
    "## Sklearn module\n",
    "from sklearn import preprocessing\n",
    "from sklearn import metrics\n",
    "from sklearn.model_selection import (\n",
    "    GridSearchCV, \n",
    "    cross_val_score, \n",
    "    train_test_split,\n",
    "    ShuffleSplit\n",
    ")\n",
    "from sklearn.ensemble import RandomForestClassifier\n",
    "from sklearn import svm\n",
    "from sklearn.feature_extraction.text import TfidfTransformer\n",
    "from sklearn.feature_extraction.text import TfidfVectorizer\n",
    "\n",
    "## Language Processing\n",
    "# NLTK module\n",
    "import nltk\n",
    "from nltk.tokenize import word_tokenize as wt\n",
    "from nltk.tokenize import sent_tokenize as st\n",
    "from nltk.stem import PorterStemmer \n",
    "from nltk.corpus import stopwords\n",
    "# Jieba module\n",
    "import jieba\n",
    "\n",
    "\n",
    "## Graphing\n",
    "import matplotlib.pyplot as plt\n",
    "import matplotlib.font_manager\n",
    "import seaborn as sns\n",
    "# increase plot resolution and set font\n",
    "matplotlib.font_manager.fontManager.addfont('STHeitiSC-Medium-02.ttf')\n",
    "%matplotlib inline\n",
    "plt.rcParams[\"figure.dpi\"] = 130\n",
    "plt.rcParams['font.family'] = ['Heiti SC']\n",
    "plt.rcParams['axes.unicode_minus'] = False"
   ]
  },
  {
   "cell_type": "code",
   "execution_count": 2,
   "id": "cad6d8b8",
   "metadata": {},
   "outputs": [
    {
     "data": {
      "text/html": [
       "<div>\n",
       "<style scoped>\n",
       "    .dataframe tbody tr th:only-of-type {\n",
       "        vertical-align: middle;\n",
       "    }\n",
       "\n",
       "    .dataframe tbody tr th {\n",
       "        vertical-align: top;\n",
       "    }\n",
       "\n",
       "    .dataframe thead th {\n",
       "        text-align: right;\n",
       "    }\n",
       "</style>\n",
       "<table border=\"1\" class=\"dataframe\">\n",
       "  <thead>\n",
       "    <tr style=\"text-align: right;\">\n",
       "      <th></th>\n",
       "      <th>0</th>\n",
       "      <th>1</th>\n",
       "      <th>2</th>\n",
       "      <th>3</th>\n",
       "      <th>4</th>\n",
       "    </tr>\n",
       "  </thead>\n",
       "  <tbody>\n",
       "    <tr>\n",
       "      <th>DOCID</th>\n",
       "      <td>news:05i9^202003224263017(S:435067812)</td>\n",
       "      <td>NaN</td>\n",
       "      <td>news:05i9^202003224263017(S:435067812)</td>\n",
       "      <td>NaN</td>\n",
       "      <td>NaN</td>\n",
       "    </tr>\n",
       "    <tr>\n",
       "      <th>PUBTYPE</th>\n",
       "      <td>app</td>\n",
       "      <td>NaN</td>\n",
       "      <td>app</td>\n",
       "      <td>NaN</td>\n",
       "      <td>NaN</td>\n",
       "    </tr>\n",
       "    <tr>\n",
       "      <th>SOURCE</th>\n",
       "      <td>看点快报 APP</td>\n",
       "      <td>NaN</td>\n",
       "      <td>看点快报 APP</td>\n",
       "      <td>NaN</td>\n",
       "      <td>NaN</td>\n",
       "    </tr>\n",
       "    <tr>\n",
       "      <th>PUBLISHDATE</th>\n",
       "      <td>21/3/2020 16:00:00</td>\n",
       "      <td>NaN</td>\n",
       "      <td>21/3/2020 16:00:00</td>\n",
       "      <td>NaN</td>\n",
       "      <td>NaN</td>\n",
       "    </tr>\n",
       "    <tr>\n",
       "      <th>AUTHOR</th>\n",
       "      <td>科比系列</td>\n",
       "      <td>NaN</td>\n",
       "      <td>科比系列</td>\n",
       "      <td>NaN</td>\n",
       "      <td>NaN</td>\n",
       "    </tr>\n",
       "    <tr>\n",
       "      <th>SECTION</th>\n",
       "      <td>天天快报</td>\n",
       "      <td>NaN</td>\n",
       "      <td>天天快报</td>\n",
       "      <td>NaN</td>\n",
       "      <td>NaN</td>\n",
       "    </tr>\n",
       "    <tr>\n",
       "      <th>WORDCOUNT</th>\n",
       "      <td>193.0</td>\n",
       "      <td>NaN</td>\n",
       "      <td>193.0</td>\n",
       "      <td>NaN</td>\n",
       "      <td>NaN</td>\n",
       "    </tr>\n",
       "    <tr>\n",
       "      <th>HEADLINE</th>\n",
       "      <td>NIKE LEBRON 17 \"COMMAND FORCE\" 实物首度曝光</td>\n",
       "      <td>NaN</td>\n",
       "      <td>NIKE LEBRON 17 \"COMMAND FORCE\" 实物首度曝光</td>\n",
       "      <td>NaN</td>\n",
       "      <td>NaN</td>\n",
       "    </tr>\n",
       "    <tr>\n",
       "      <th>SENTENCE</th>\n",
       "      <td>'LeBron 系列再度致敬 Nike 旗下经典鞋款我们可以经常看到 Nike 在近年的 L...</td>\n",
       "      <td>NaN</td>\n",
       "      <td>'据悉，这双Nike LeBron 17 \"Command Force\"将会在今年晚些时候...</td>\n",
       "      <td>NaN</td>\n",
       "      <td>NaN</td>\n",
       "    </tr>\n",
       "    <tr>\n",
       "      <th>RELEVANT</th>\n",
       "      <td>1.0</td>\n",
       "      <td>NaN</td>\n",
       "      <td>1.0</td>\n",
       "      <td>NaN</td>\n",
       "      <td>NaN</td>\n",
       "    </tr>\n",
       "    <tr>\n",
       "      <th>INDICATORWORD</th>\n",
       "      <td>LeBron</td>\n",
       "      <td>NaN</td>\n",
       "      <td>LeBron</td>\n",
       "      <td>NaN</td>\n",
       "      <td>NaN</td>\n",
       "    </tr>\n",
       "  </tbody>\n",
       "</table>\n",
       "</div>"
      ],
      "text/plain": [
       "                                                               0    1  \\\n",
       "DOCID                     news:05i9^202003224263017(S:435067812)  NaN   \n",
       "PUBTYPE                                                      app  NaN   \n",
       "SOURCE                                                  看点快报 APP  NaN   \n",
       "PUBLISHDATE                                   21/3/2020 16:00:00  NaN   \n",
       "AUTHOR                                                      科比系列  NaN   \n",
       "SECTION                                                     天天快报  NaN   \n",
       "WORDCOUNT                                                  193.0  NaN   \n",
       "HEADLINE                   NIKE LEBRON 17 \"COMMAND FORCE\" 实物首度曝光  NaN   \n",
       "SENTENCE       'LeBron 系列再度致敬 Nike 旗下经典鞋款我们可以经常看到 Nike 在近年的 L...  NaN   \n",
       "RELEVANT                                                     1.0  NaN   \n",
       "INDICATORWORD                                             LeBron  NaN   \n",
       "\n",
       "                                                               2    3    4  \n",
       "DOCID                     news:05i9^202003224263017(S:435067812)  NaN  NaN  \n",
       "PUBTYPE                                                      app  NaN  NaN  \n",
       "SOURCE                                                  看点快报 APP  NaN  NaN  \n",
       "PUBLISHDATE                                   21/3/2020 16:00:00  NaN  NaN  \n",
       "AUTHOR                                                      科比系列  NaN  NaN  \n",
       "SECTION                                                     天天快报  NaN  NaN  \n",
       "WORDCOUNT                                                  193.0  NaN  NaN  \n",
       "HEADLINE                   NIKE LEBRON 17 \"COMMAND FORCE\" 实物首度曝光  NaN  NaN  \n",
       "SENTENCE        '据悉，这双Nike LeBron 17 \"Command Force\"将会在今年晚些时候...  NaN  NaN  \n",
       "RELEVANT                                                     1.0  NaN  NaN  \n",
       "INDICATORWORD                                             LeBron  NaN  NaN  "
      ]
     },
     "execution_count": 2,
     "metadata": {},
     "output_type": "execute_result"
    }
   ],
   "source": [
    "df = pd.read_excel('nike_basketball.xlsx', sheet_name = 0)\n",
    "df.head(5).transpose()"
   ]
  },
  {
   "cell_type": "code",
   "execution_count": null,
   "id": "d471ac21",
   "metadata": {},
   "outputs": [],
   "source": [
    "df.tail(5).transpose()"
   ]
  },
  {
   "cell_type": "markdown",
   "id": "cd1c6ce9",
   "metadata": {},
   "source": [
    "# EDA"
   ]
  },
  {
   "cell_type": "code",
   "execution_count": null,
   "id": "a41326af",
   "metadata": {},
   "outputs": [],
   "source": [
    "## take a look of the whole data set's information\n",
    "df.info()"
   ]
  },
  {
   "cell_type": "markdown",
   "id": "f53646fb",
   "metadata": {},
   "source": [
    "##### We can see the data set has missing values, and some column's datatype is not correct. Before heading into the EDA, we need to filter some useless rows, fill N/A value, and change some column's data type"
   ]
  },
  {
   "cell_type": "code",
   "execution_count": 3,
   "id": "8bdfe746",
   "metadata": {},
   "outputs": [
    {
     "name": "stdout",
     "output_type": "stream",
     "text": [
      "<class 'pandas.core.frame.DataFrame'>\n",
      "Int64Index: 1087 entries, 0 to 4141\n",
      "Data columns (total 11 columns):\n",
      " #   Column         Non-Null Count  Dtype         \n",
      "---  ------         --------------  -----         \n",
      " 0   DOCID          1087 non-null   object        \n",
      " 1   PUBTYPE        1087 non-null   object        \n",
      " 2   SOURCE         1087 non-null   object        \n",
      " 3   PUBLISHDATE    1087 non-null   datetime64[ns]\n",
      " 4   AUTHOR         1087 non-null   object        \n",
      " 5   SECTION        1087 non-null   object        \n",
      " 6   WORDCOUNT      1087 non-null   float64       \n",
      " 7   HEADLINE       1087 non-null   object        \n",
      " 8   SENTENCE       1087 non-null   object        \n",
      " 9   RELEVANT       1087 non-null   object        \n",
      " 10  INDICATORWORD  1087 non-null   object        \n",
      "dtypes: datetime64[ns](1), float64(1), object(9)\n",
      "memory usage: 101.9+ KB\n"
     ]
    }
   ],
   "source": [
    "## Filter rows with DOCID is NaN\n",
    "df_clean = df[df.DOCID.notnull()]\n",
    "\n",
    "## Fill NaN for each Column\n",
    "df_clean.loc[:, 'AUTHOR'] = df_clean.loc[:, 'AUTHOR'].fillna('Missing Author')\n",
    "df_clean.loc[:, 'SECTION'] = df_clean.loc[:, 'SECTION'].fillna('Missing Section')\n",
    "df_clean.loc[:, 'INDICATORWORD'] = df_clean.loc[:, 'INDICATORWORD'].fillna('Missing Indicator')\n",
    "\n",
    "## Define column to correct data type\n",
    "df_clean['PUBLISHDATE'] = pd.to_datetime(df_clean['PUBLISHDATE'])\n",
    "df_clean['PUBTYPE'] = df_clean['PUBTYPE'].astype(str)\n",
    "df_clean['RELEVANT'] = df_clean['RELEVANT'].astype(str)\n",
    "\n",
    "## Chcek data set's information again\n",
    "df_clean.info()"
   ]
  },
  {
   "cell_type": "code",
   "execution_count": null,
   "id": "1b091d25",
   "metadata": {},
   "outputs": [],
   "source": [
    "## Check data set's basic statistics\n",
    "df_clean.describe(include=object).transpose()"
   ]
  },
  {
   "cell_type": "markdown",
   "id": "0b42ebea",
   "metadata": {},
   "source": [
    "##### From the basic statistical information, we can see only one publish type and 257 different articles. The most frequent showing app is 看点快报 APP, and it has a frequency of 17 times. <br/><br/> Besides that, we can see the unique value between DOCID and HEADLINE variables is not equal. Then, we assume there is probably something wrong with the data collection, or there are some duplicated rows. "
   ]
  },
  {
   "cell_type": "code",
   "execution_count": null,
   "id": "f646c572",
   "metadata": {},
   "outputs": [],
   "source": [
    "## Find DOCID and HEADLINE combination and duplicated content\n",
    "dup_row = df_clean.groupby(['DOCID', 'HEADLINE']).count().reset_index()[['DOCID', 'HEADLINE']]\n",
    "dup_row[dup_row.duplicated('HEADLINE')] "
   ]
  },
  {
   "cell_type": "code",
   "execution_count": null,
   "id": "bba145fb",
   "metadata": {},
   "outputs": [],
   "source": [
    "## Find duplicated headline one\n",
    "dup_row_1 = dup_row.query(\"HEADLINE == 'Nike Air Force 1添了点绿'\").merge(\n",
    "    df_clean, \n",
    "    on = ['DOCID', 'HEADLINE'],\n",
    "    how = 'inner'\n",
    ")\n",
    "\n",
    "## we can see they are same article posted on a different platform\n",
    "dup_row_1.transpose()"
   ]
  },
  {
   "cell_type": "code",
   "execution_count": null,
   "id": "06a07e64",
   "metadata": {},
   "outputs": [],
   "source": [
    "## Find headline two\n",
    "dup_row_2 = dup_row.query(\"HEADLINE == '耐克一天蒸发13亿美元NBA准状元一脚球鞋对半裂开'\").merge(\n",
    "    df_clean, \n",
    "    on = ['DOCID', 'HEADLINE'], \n",
    "    how = 'inner'\n",
    ")\n",
    "\n",
    "## We can see they are the same article on the same platform, and there could be something wrong during the data collection\n",
    "dup_row_2.iloc[[0, -1]].transpose()"
   ]
  },
  {
   "cell_type": "code",
   "execution_count": null,
   "id": "426e2531",
   "metadata": {},
   "outputs": [],
   "source": [
    "## We can see the two different DOCID's percentage\n",
    "pd.crosstab(\n",
    "    index=dup_row_2[\"DOCID\"], \n",
    "    columns=\"Percentage\",\n",
    "    normalize = 'columns'\n",
    ").apply(rsm.format_nr, dec = 1, perc = True)"
   ]
  },
  {
   "cell_type": "code",
   "execution_count": 4,
   "id": "6f0a574c",
   "metadata": {},
   "outputs": [],
   "source": [
    "## Then, we change the DOCID to the one with higer percentage\n",
    "df_clean.loc[df_clean['DOCID'] == 'news:258l^201902255565029(S:435019146)', 'DOCID'] = \"news:040g^201902255786312(S:435019146)\""
   ]
  },
  {
   "cell_type": "markdown",
   "id": "3f4a5e0c",
   "metadata": {},
   "source": [
    "##### After exploring the dataset's basic statistical information, we want to use graphs to show each variable's property further. <br/> <br/> However, each entry on the data set is a sentence split from a different article. We need to aggregate and sum them together by DOCID before we drawing graphs."
   ]
  },
  {
   "cell_type": "code",
   "execution_count": null,
   "id": "77444fba",
   "metadata": {},
   "outputs": [],
   "source": [
    "## Collecting varaibles that we want to explory\n",
    "var = [\n",
    "    \"DOCID\", \n",
    "    \"SOURCE\", \n",
    "    \"PUBLISHDATE\",\n",
    "    \"AUTHOR\", \n",
    "    \"SECTION\"   \n",
    "]\n",
    "\n",
    "## Aggregate them together\n",
    "df_EDA = df_clean.groupby(var).count().reset_index().iloc[:, :5]\n",
    "df_EDA"
   ]
  },
  {
   "cell_type": "markdown",
   "id": "69db8397",
   "metadata": {},
   "source": [
    "##### SOURCE Variable"
   ]
  },
  {
   "cell_type": "code",
   "execution_count": null,
   "id": "4615843d",
   "metadata": {},
   "outputs": [],
   "source": [
    "plot = sns.countplot(\n",
    "    y = \"SOURCE\", \n",
    "    data = df_EDA,\n",
    "    order = df_EDA['SOURCE'].value_counts().index\n",
    ")\n",
    "\n",
    "# add percentage\n",
    "total = len(df_EDA['SOURCE'])\n",
    "for p in plot.patches:\n",
    "        percentage = '{:.1f}%'.format(100 * p.get_width()/total)\n",
    "        x = p.get_x() + p.get_width() + 0.5\n",
    "        y = p.get_y() + p.get_height() - 0.3\n",
    "        plot.annotate(percentage, (x, y), fontsize = 7)\n",
    "\n",
    "# remove right spines from graph\n",
    "sns.despine()\n",
    "plt.show()"
   ]
  },
  {
   "cell_type": "markdown",
   "id": "a82dd8bd",
   "metadata": {},
   "source": [
    "##### PUBLISHDATE Variable "
   ]
  },
  {
   "cell_type": "code",
   "execution_count": null,
   "id": "d626354f",
   "metadata": {},
   "outputs": [],
   "source": [
    "df_EDA.groupby(\n",
    "    [\n",
    "        df_EDA[\"PUBLISHDATE\"].dt.year, \n",
    "        df_EDA[\"PUBLISHDATE\"].dt.month\n",
    "    ]\n",
    ")[['PUBLISHDATE']].count().plot(kind=\"bar\")\n",
    "\n",
    "plt.ylabel('Count')\n",
    "plt.xlabel('Year and Month') \n",
    "plt.legend().set_visible(False)"
   ]
  },
  {
   "cell_type": "markdown",
   "id": "a60e01c7",
   "metadata": {},
   "source": [
    "##### AUTHOR Variable"
   ]
  },
  {
   "cell_type": "code",
   "execution_count": null,
   "id": "f4b7d69f",
   "metadata": {},
   "outputs": [],
   "source": [
    "df_EDA.query(\n",
    "    \"AUTHOR != 'Missing Author'\"\n",
    ")[\"AUTHOR\"].value_counts()[:23].sort_values().plot(kind='barh')\n",
    "\n",
    "plt.xlabel('Count')\n",
    "plt.ylabel('AUTHOR') \n",
    "plt.show()"
   ]
  },
  {
   "cell_type": "markdown",
   "id": "bb126967",
   "metadata": {},
   "source": [
    "##### SECTION"
   ]
  },
  {
   "cell_type": "code",
   "execution_count": null,
   "id": "b29e6b4b",
   "metadata": {},
   "outputs": [],
   "source": [
    "plot = df_EDA.query(\n",
    "    \"SECTION != 'Missing Section'\"\n",
    ")[\"SECTION\"].value_counts()[:23].sort_values().plot(kind='barh')\n",
    "\n",
    "# add percentage\n",
    "total = len(df_EDA['SECTION'])\n",
    "for p in plot.patches:\n",
    "        percentage = '{:.1f}%'.format(100 * p.get_width()/total)\n",
    "        x = p.get_x() + p.get_width() + 0.5\n",
    "        y = p.get_y() + p.get_height() - 0.5\n",
    "        plot.annotate(percentage, (x, y), fontsize = 7)\n",
    "\n",
    "sns.despine()\n",
    "plt.xlabel('Count')\n",
    "plt.ylabel('SECTION') \n",
    "plt.show()"
   ]
  },
  {
   "cell_type": "markdown",
   "id": "ba53f66b",
   "metadata": {},
   "source": [
    "##### RELEVANT"
   ]
  },
  {
   "cell_type": "code",
   "execution_count": null,
   "id": "2db40925",
   "metadata": {},
   "outputs": [],
   "source": [
    "plot = sns.countplot(\n",
    "    x = \"RELEVANT\", \n",
    "    data = df_clean,\n",
    "    order = df_clean['RELEVANT'].value_counts().index,\n",
    "    dodge = True\n",
    ")\n",
    "\n",
    "# add percentage\n",
    "total = len(df_clean['RELEVANT'])\n",
    "for p in plot.patches:\n",
    "        percentage = '{:.1f}%'.format(100 * p.get_height()/total)\n",
    "        x = p.get_x() + p.get_width() - 0.5\n",
    "        y = p.get_y() + p.get_height() + 4\n",
    "        plot.annotate(percentage, (x, y), fontsize = 9)\n",
    "\n",
    "sns.despine()\n",
    "plt.show()"
   ]
  },
  {
   "cell_type": "code",
   "execution_count": null,
   "id": "604faf9d",
   "metadata": {},
   "outputs": [],
   "source": []
  },
  {
   "cell_type": "markdown",
   "id": "9b4e9222",
   "metadata": {},
   "source": [
    "# Build Models"
   ]
  },
  {
   "cell_type": "markdown",
   "id": "d3b8ed2a",
   "metadata": {},
   "source": [
    "### Split Datasets and define variables"
   ]
  },
  {
   "cell_type": "markdown",
   "id": "6d06884e",
   "metadata": {},
   "source": [
    "##### Since the size of our data set is not so big, splitting a part of the data set as validation data set would not helpful for the model performance. Thus, I will choose using cross-validation and grid search instead of using a validation datasets during training the model and hyper-parameter tuning. <br/><br/> However, I still will split the datasets into training, testing, and validation to fulfill the requirements."
   ]
  },
  {
   "cell_type": "markdown",
   "id": "a24f8a1a",
   "metadata": {},
   "source": [
    "1. ##### Only Testing and Training "
   ]
  },
  {
   "cell_type": "code",
   "execution_count": 5,
   "id": "93f753d3",
   "metadata": {},
   "outputs": [],
   "source": [
    "## Define explanatory variable, response variable, and ID variable\n",
    "evar = ['SENTENCE', 'INDICATORWORD']\n",
    "rvar = 'RELEVANT'\n",
    "idvar = 'DOCID'\n",
    "\n",
    "## Copy X and y from df_clean and use it for model training\n",
    "df_clean['RELEVANT'] = df_clean['RELEVANT'].astype(float)\n",
    "df_clean['RELEVANT'] = df_clean['RELEVANT'].astype(int)\n",
    "X = df_clean[evar].copy()\n",
    "y = df_clean[rvar]\n",
    "\n",
    "## Using ShuffleSplit to help us split the dataset\n",
    "ssplit = ShuffleSplit(n_splits=5, test_size=0.3, random_state=77)\n",
    "for train_index, test_index in ssplit.split(X):\n",
    "    pass\n",
    "\n",
    "## Distinguish training and testing\n",
    "X[\"training\"] = 0\n",
    "X.iloc[train_index, X.columns == \"training\"] = 1"
   ]
  },
  {
   "cell_type": "markdown",
   "id": "8512852e",
   "metadata": {},
   "source": [
    "2. ##### Testing, Training, and Validation"
   ]
  },
  {
   "cell_type": "code",
   "execution_count": 6,
   "id": "ee8ce77c",
   "metadata": {},
   "outputs": [],
   "source": [
    "## Split data set into training, testing, and Validation\n",
    "X_train, X_test, y_train, y_test = train_test_split(\n",
    "    X, \n",
    "    y, \n",
    "    test_size=0.3, \n",
    "    random_state=42, \n",
    "    shuffle = True\n",
    ")\n",
    "\n",
    "X_test, X_val, y_test, y_val = train_test_split(\n",
    "    X_test, \n",
    "    y_test, \n",
    "    test_size=0.5,\n",
    "    random_state=42, \n",
    "    shuffle = True\n",
    ")"
   ]
  },
  {
   "cell_type": "code",
   "execution_count": 7,
   "id": "19c5bccf",
   "metadata": {},
   "outputs": [
    {
     "name": "stdout",
     "output_type": "stream",
     "text": [
      "Data Set Size Without Validation \n",
      "Training: 760\n",
      "Testing: 327\n",
      "\n",
      "------------------------------------------------------\n",
      "Data Set Size With Validation\n",
      "Training: 760 \n",
      "Testing: 163\n",
      "Validation: 164\n",
      "\n"
     ]
    }
   ],
   "source": [
    "## Check the data set size after splitting\n",
    "print(\n",
    "f\"\"\"Data Set Size Without Validation \n",
    "Training: {X[X.training == 1].shape[0]}\n",
    "Testing: {X[X.training == 0].shape[0]}\n",
    "\"\"\"\n",
    ")\n",
    "\n",
    "print(\"------------------------------------------------------\")\n",
    "\n",
    "print(\n",
    "f\"\"\"Data Set Size With Validation\n",
    "Training: {X_train.shape[0]} \n",
    "Testing: {X_test.shape[0]}\n",
    "Validation: {X_val.shape[0]}\n",
    "\"\"\"\n",
    ")"
   ]
  },
  {
   "cell_type": "markdown",
   "id": "a0158f0a",
   "metadata": {},
   "source": [
    "### Build tokenizer for SENTENCE variable"
   ]
  },
  {
   "cell_type": "code",
   "execution_count": 8,
   "id": "ff8d7208",
   "metadata": {},
   "outputs": [],
   "source": [
    "## Load chinese stop words file\n",
    "# set path to data and grab file names\n",
    "path = \"stopwords-master/\"\n",
    "all_files = glob.glob(os.path.join(path, \"*.txt\"))\n",
    "\n",
    "# read in each file and create chinese stop words list\n",
    "stop_ch = pd.concat([pd.read_csv(f, header = None) for f in all_files], ignore_index=True)\n",
    "stop_ch = stop_ch.values.tolist()\n",
    "# add some extra stop words\n",
    "stop_ch_list = ['客服', '添加', '扫码', '扫', '满勿加']\n",
    "stop_ch.extend(stop_ch_list)\n",
    "\n",
    "\n",
    "## set english stop words and stemming \n",
    "stop_en = set(stopwords.words('english'))\n",
    "ps = PorterStemmer()\n",
    "\n",
    "## set special chracters need to remove\n",
    "removetable = str.maketrans('', '', '\\-=~!@#$%^&*()_+\\[\\]{};\\'\\\\:\"|<,./<>?（）：`')"
   ]
  },
  {
   "cell_type": "code",
   "execution_count": 9,
   "id": "2bfaa5bb",
   "metadata": {},
   "outputs": [],
   "source": [
    "## write function to preprocess sentence \n",
    "def pre_pro(doc, stemming = True, need_sent = False):\n",
    "   \n",
    "    sentences = st(doc) #get sentence at first if there is a paragraph \n",
    "    tokens_1 = []\n",
    "    tokens_2 = []\n",
    "    \n",
    "    ## Process English characters  \n",
    "    for sent in sentences:\n",
    "        words = wt(sent) #get words for each sentence\n",
    "        if stemming:\n",
    "            words = [ps.stem(word) for word in words]\n",
    "        if need_sent:\n",
    "            tokens.append(words)\n",
    "        else:\n",
    "            tokens_1 += [w.lower() for w in words if w not in stop_en]\n",
    "    \n",
    "    ## Process Chinese charcters\n",
    "    for ele in tokens_1:\n",
    "        tokens_2 += jieba.lcut(ele)\n",
    "        tokens_2_rem = [s.translate(removetable) for s in tokens_2]\n",
    "        tokens_2_pro = [w for w in tokens_2_rem if w not in stop_ch]\n",
    "    \n",
    "    return tokens_2_pro"
   ]
  },
  {
   "cell_type": "markdown",
   "id": "a801c348",
   "metadata": {},
   "source": [
    "### Using TF-IDF method and tokenizer to represent Text before build model"
   ]
  },
  {
   "cell_type": "code",
   "execution_count": 10,
   "id": "ab9912e4",
   "metadata": {},
   "outputs": [
    {
     "name": "stderr",
     "output_type": "stream",
     "text": [
      "Building prefix dict from the default dictionary ...\n",
      "Dumping model to file cache /tmp/jieba.cache\n",
      "Loading model cost 0.975 seconds.\n",
      "Prefix dict has been built successfully.\n"
     ]
    }
   ],
   "source": [
    "## Vectorize our document with TF-IDF value\n",
    "tfidf = TfidfVectorizer(\n",
    "    strip_accents=None,\n",
    "    lowercase=True,\n",
    "    preprocessor=None, \n",
    "    tokenizer=pre_pro,\n",
    "    use_idf=True,\n",
    "    norm='l2',\n",
    "    smooth_idf=True\n",
    ")\n",
    "\n",
    "X_tf = tfidf.fit_transform(X['SENTENCE'])"
   ]
  },
  {
   "cell_type": "markdown",
   "id": "0f308bc1",
   "metadata": {},
   "source": [
    "### Creating evaluation date set to compare model performance"
   ]
  },
  {
   "cell_type": "code",
   "execution_count": 11,
   "id": "3454493c",
   "metadata": {},
   "outputs": [],
   "source": [
    "## Create an evaluation date set used to compare model performance in the end\n",
    "training = X[\"training\"]\n",
    "eval_dat = df_clean.copy()\n",
    "eval_dat[\"training\"] = training\n",
    "eval_dat = eval_dat[[idvar, rvar, \"training\"]]"
   ]
  },
  {
   "cell_type": "markdown",
   "id": "cf520b2a",
   "metadata": {},
   "source": [
    "##### Model 1: Random Forest"
   ]
  },
  {
   "cell_type": "code",
   "execution_count": 13,
   "id": "3ec7306d",
   "metadata": {},
   "outputs": [
    {
     "name": "stdout",
     "output_type": "stream",
     "text": [
      "Fitting 5 folds for each of 96 candidates, totalling 480 fits\n"
     ]
    }
   ],
   "source": [
    "## define hyperparameters and metrics used for grid search\n",
    "clf = RandomForestClassifier()\n",
    "param_grid = {\n",
    "    \"n_estimators\": list(range(100, 800, 50)),\n",
    "    \"max_features\": range(2, 10)\n",
    "}\n",
    "scoring = {\"AUC\": \"roc_auc\"}\n",
    "\n",
    "## apply grid search\n",
    "clf_cv = GridSearchCV(\n",
    "    clf, \n",
    "    param_grid, \n",
    "    scoring=scoring, \n",
    "    cv=5, \n",
    "    n_jobs=-1, \n",
    "    refit=\"AUC\", \n",
    "    verbose=5\n",
    ").fit(X_tf[training == 1], y[training == 1])"
   ]
  },
  {
   "cell_type": "code",
   "execution_count": 22,
   "id": "b7b5b0d1",
   "metadata": {},
   "outputs": [
    {
     "name": "stdout",
     "output_type": "stream",
     "text": [
      "Best AUC Socre: 0.88\n",
      "---------------------------------------------------------------------\n",
      "Best Hyperparamters: {'max_features': 9, 'n_estimators': 400}\n"
     ]
    }
   ],
   "source": [
    "## Check the best AUC score and hyperparameters at grid search\n",
    "print(\"Best AUC Socre:\", clf_cv.best_score_.round(2))\n",
    "print(\"---------------------------------------------------------------------\")\n",
    "print(\"Best Hyperparamters:\",clf_cv.best_params_)"
   ]
  },
  {
   "cell_type": "code",
   "execution_count": 23,
   "id": "80e9f407",
   "metadata": {},
   "outputs": [],
   "source": [
    "## Use best hyperparameters found on grid search to build our Random Forest Model\n",
    "clf = RandomForestClassifier(\n",
    "    n_estimators=clf_cv.best_params_[\"n_estimators\"],\n",
    "    max_features=clf_cv.best_params_[\"max_features\"],\n",
    "    oob_score=True,\n",
    "    random_state=1234,\n",
    ").fit(X_tf[training == 1], y[training == 1])"
   ]
  },
  {
   "cell_type": "code",
   "execution_count": 24,
   "id": "6222e4e6",
   "metadata": {},
   "outputs": [],
   "source": [
    "# using the oob predictions for the training sample (avoid overfitting on the traing data set)\n",
    "eval_dat[\"y_rf\"] = 0  # set some initial value\n",
    "eval_dat.loc[training == 1, \"y_rf\"] = clf.oob_decision_function_[:, 1]\n",
    "eval_dat.loc[training == 0, \"y_rf\"] = clf.predict_proba(X_tf[training == 0])[:, 1]"
   ]
  },
  {
   "cell_type": "code",
   "execution_count": 25,
   "id": "30bdf962",
   "metadata": {},
   "outputs": [
    {
     "data": {
      "image/png": "[encoded data removed]",
      "text/plain": [
       "<Figure size 780x520 with 1 Axes>"
      ]
     },
     "metadata": {
      "needs_background": "light"
     },
     "output_type": "display_data"
    }
   ],
   "source": [
    "## Make prediction\n",
    "pred_rf = clf.predict(X_tf[training == 0])\n",
    "\n",
    "## Build Confusion Marix heat map\n",
    "classes = np.unique(y)\n",
    "cm = metrics.confusion_matrix(y[training == 0], pred_rf)\n",
    "fig, ax = plt.subplots()\n",
    "sns.heatmap(cm, annot=True, fmt='d', ax=ax, cmap=plt.cm.Blues, \n",
    "            cbar=False)\n",
    "ax.set(xlabel=\"Pred\", ylabel=\"True\", xticklabels=classes, \n",
    "       yticklabels=classes, title=\"Confusion matrix\")\n",
    "plt.yticks(rotation=0)\n",
    "plt.show()"
   ]
  },
  {
   "cell_type": "markdown",
   "id": "45854b7c",
   "metadata": {},
   "source": [
    "##### Model 2: SVM Model"
   ]
  },
  {
   "cell_type": "code",
   "execution_count": 57,
   "id": "784f59a6",
   "metadata": {},
   "outputs": [
    {
     "name": "stdout",
     "output_type": "stream",
     "text": [
      "Fitting 5 folds for each of 140 candidates, totalling 700 fits\n"
     ]
    }
   ],
   "source": [
    "## define hyperparameters and metrics used for grid search\n",
    "SVM = svm.SVC(probability=True)\n",
    "param_grid = {\n",
    "    'C': [0.1, 1, 10, 100, 1000], \n",
    "    'gamma': [1, 0.1, 0.01, 0.001, 0.0001, 'scale', 'auto'],\n",
    "    'kernel': ['linear', 'sigmoid', 'gaussian', 'rbf']\n",
    "}\n",
    "\n",
    "## apply grid search\n",
    "clf_cv = GridSearchCV(\n",
    "    SVM, \n",
    "    param_grid, \n",
    "    cv=5, \n",
    "    n_jobs=-1, \n",
    "    refit=True, \n",
    "    verbose=5\n",
    ").fit(X_tf[training == 1], y[training == 1])"
   ]
  },
  {
   "cell_type": "code",
   "execution_count": 58,
   "id": "df559bd0",
   "metadata": {},
   "outputs": [
    {
     "name": "stdout",
     "output_type": "stream",
     "text": [
      "Best AUC Socre: 0.83\n",
      "---------------------------------------------------------------------\n",
      "Best Hyperparamters: {'C': 10, 'gamma': 0.1, 'kernel': 'rbf'}\n"
     ]
    }
   ],
   "source": [
    "## Check the best AUC score and hyperparameters at grid search\n",
    "print(\"Best AUC Socre:\", clf_cv.best_score_.round(2))\n",
    "print(\"---------------------------------------------------------------------\")\n",
    "print(\"Best Hyperparamters:\",clf_cv.best_params_)"
   ]
  },
  {
   "cell_type": "code",
   "execution_count": 59,
   "id": "9e99ff82",
   "metadata": {},
   "outputs": [],
   "source": [
    "## Make prediction on probablities\n",
    "eval_dat[\"y_svm\"] = 0  # set some initial value\n",
    "eval_dat[\"y_svm\"] = clf_cv.predict_proba(X_tf)[:, 1]"
   ]
  },
  {
   "cell_type": "code",
   "execution_count": 60,
   "id": "1cac743c",
   "metadata": {},
   "outputs": [
    {
     "data": {
      "image/png": "[encoded data removed]",
      "text/plain": [
       "<Figure size 780x520 with 1 Axes>"
      ]
     },
     "metadata": {
      "needs_background": "light"
     },
     "output_type": "display_data"
    }
   ],
   "source": [
    "## Make prediction\n",
    "pred_svm = clf_cv.predict(X_tf[training == 0])\n",
    "\n",
    "## Build Confusion Marix heat map\n",
    "classes = np.unique(y)\n",
    "cm = metrics.confusion_matrix(y[training == 0], pred_svm)\n",
    "fig, ax = plt.subplots()\n",
    "sns.heatmap(cm, annot=True, fmt='d', ax=ax, cmap=plt.cm.Blues, \n",
    "            cbar=False)\n",
    "ax.set(xlabel=\"Pred\", ylabel=\"True\", xticklabels=classes, \n",
    "       yticklabels=classes, title=\"Confusion matrix\")\n",
    "plt.yticks(rotation=0)\n",
    "plt.show()"
   ]
  },
  {
   "cell_type": "markdown",
   "id": "8fcaed5e",
   "metadata": {},
   "source": [
    "##### Model 3: Bert"
   ]
  },
  {
   "cell_type": "code",
   "execution_count": null,
   "id": "9f867a77",
   "metadata": {},
   "outputs": [],
   "source": []
  },
  {
   "cell_type": "code",
   "execution_count": null,
   "id": "eeecd111",
   "metadata": {},
   "outputs": [],
   "source": [
    "# verify GPU availability\n",
    "import tensorflow as tf\n",
    "\n",
    "device_name = tf.test.gpu_device_name()\n",
    "if device_name != '/device:GPU:0':\n",
    "  raise SystemError('GPU device not found')\n",
    "print('Found GPU at: {}'.format(device_name))"
   ]
  },
  {
   "cell_type": "code",
   "execution_count": null,
   "id": "ae857d81",
   "metadata": {},
   "outputs": [],
   "source": []
  },
  {
   "cell_type": "code",
   "execution_count": null,
   "id": "8e32b675",
   "metadata": {},
   "outputs": [],
   "source": []
  },
  {
   "cell_type": "code",
   "execution_count": null,
   "id": "72431f4f",
   "metadata": {},
   "outputs": [],
   "source": []
  },
  {
   "cell_type": "code",
   "execution_count": null,
   "id": "60cec45d",
   "metadata": {},
   "outputs": [],
   "source": []
  },
  {
   "cell_type": "markdown",
   "id": "7cc1e523",
   "metadata": {},
   "source": [
    "## Compare Model's Performance"
   ]
  },
  {
   "cell_type": "code",
   "execution_count": 61,
   "id": "7ae1ba84",
   "metadata": {},
   "outputs": [
    {
     "data": {
      "text/html": [
       "<div>\n",
       "<style scoped>\n",
       "    .dataframe tbody tr th:only-of-type {\n",
       "        vertical-align: middle;\n",
       "    }\n",
       "\n",
       "    .dataframe tbody tr th {\n",
       "        vertical-align: top;\n",
       "    }\n",
       "\n",
       "    .dataframe thead th {\n",
       "        text-align: right;\n",
       "    }\n",
       "</style>\n",
       "<table border=\"1\" class=\"dataframe\">\n",
       "  <thead>\n",
       "    <tr style=\"text-align: right;\">\n",
       "      <th></th>\n",
       "      <th>Type</th>\n",
       "      <th>predictor</th>\n",
       "      <th>TP</th>\n",
       "      <th>FP</th>\n",
       "      <th>TN</th>\n",
       "      <th>FN</th>\n",
       "      <th>total</th>\n",
       "      <th>TPR</th>\n",
       "      <th>TNR</th>\n",
       "      <th>precision</th>\n",
       "      <th>Fscore</th>\n",
       "      <th>accuracy</th>\n",
       "      <th>kappa</th>\n",
       "      <th>AUC</th>\n",
       "    </tr>\n",
       "  </thead>\n",
       "  <tbody>\n",
       "    <tr>\n",
       "      <th>0</th>\n",
       "      <td>test</td>\n",
       "      <td>y_svm</td>\n",
       "      <td>179</td>\n",
       "      <td>21</td>\n",
       "      <td>102</td>\n",
       "      <td>25</td>\n",
       "      <td>327</td>\n",
       "      <td>0.877</td>\n",
       "      <td>0.829</td>\n",
       "      <td>0.895</td>\n",
       "      <td>0.886</td>\n",
       "      <td>0.859</td>\n",
       "      <td>0.702</td>\n",
       "      <td>0.931</td>\n",
       "    </tr>\n",
       "    <tr>\n",
       "      <th>1</th>\n",
       "      <td>test</td>\n",
       "      <td>y_rf</td>\n",
       "      <td>189</td>\n",
       "      <td>43</td>\n",
       "      <td>80</td>\n",
       "      <td>15</td>\n",
       "      <td>327</td>\n",
       "      <td>0.926</td>\n",
       "      <td>0.650</td>\n",
       "      <td>0.815</td>\n",
       "      <td>0.867</td>\n",
       "      <td>0.823</td>\n",
       "      <td>0.604</td>\n",
       "      <td>0.910</td>\n",
       "    </tr>\n",
       "  </tbody>\n",
       "</table>\n",
       "</div>"
      ],
      "text/plain": [
       "   Type predictor   TP  FP   TN  FN  total    TPR    TNR  precision  Fscore  \\\n",
       "0  test     y_svm  179  21  102  25    327  0.877  0.829      0.895   0.886   \n",
       "1  test      y_rf  189  43   80  15    327  0.926  0.650      0.815   0.867   \n",
       "\n",
       "   accuracy  kappa    AUC  \n",
       "0     0.859  0.702  0.931  \n",
       "1     0.823  0.604  0.910  "
      ]
     },
     "execution_count": 61,
     "metadata": {},
     "output_type": "execute_result"
    }
   ],
   "source": [
    "## collect model names that we want to make comparision\n",
    "model_name = [\n",
    "    \"y_svm\",\n",
    "    \"y_rf\"\n",
    "]\n",
    "\n",
    "## build dictionary to collect data\n",
    "dct = {\n",
    "    \"training\": eval_dat[eval_dat.training == 1],\n",
    "    \"test\": eval_dat[eval_dat.training == 0],\n",
    "}\n",
    "\n",
    "rsm.evalbin(\n",
    "    df=dct, \n",
    "    rvar=rvar, \n",
    "    lev=1, \n",
    "    pred=model_name\n",
    ")\\\n",
    ".drop(['profit', 'index', 'ROME', 'contact'], axis = 1)\\\n",
    ".query(\"Type == 'test'\")\\\n",
    ".sort_values(by=\"AUC\", ascending=False)\\\n",
    ".reset_index(drop=True)"
   ]
  },
  {
   "cell_type": "markdown",
   "id": "dd1430ec",
   "metadata": {},
   "source": [
    "### Appendix"
   ]
  },
  {
   "cell_type": "code",
   "execution_count": null,
   "id": "902ec496",
   "metadata": {},
   "outputs": [],
   "source": [
    "stop_words_1 = pd.read_excel('nike_basketball.xlsx', sheet_name = 2, header = None)\n",
    "stop_words_1 = stop_words_1[0].unique().tolist()"
   ]
  },
  {
   "cell_type": "code",
   "execution_count": null,
   "id": "76d3d82b",
   "metadata": {},
   "outputs": [],
   "source": [
    "stop_en = set(stopwords.words('english'))\n",
    "ps = PorterStemmer() \n",
    "removetable = str.maketrans('', '', '\\-=~!@#$¥%^&*()_+\\[\\]{};\\'\\\\:\"|<,./<>?（）：`')\n",
    "tokens_1 = []\n",
    "tokens_2 = []\n",
    "\n",
    "for sent in df_clean['SENTENCE'][:3]:\n",
    "    words = wt(sent) #get words for each sentence\n",
    "    #words = [ps.stem(word) for word in words]\n",
    "    tokens_1 += [w.lower() for w in words if w not in stop_en]\n",
    "for ele in tokens_1:\n",
    "    tokens_2 += jieba.lcut(ele)\n",
    "    tokens_2_rem = [s.translate(removetable) for s in tokens_2]\n",
    "    tokens_2_pro = [w for w in tokens_2_rem if w not in stop_ch]\n",
    "print(tokens_2_pro)"
   ]
  },
  {
   "cell_type": "code",
   "execution_count": null,
   "id": "ad226212",
   "metadata": {},
   "outputs": [],
   "source": [
    "## Split data set before building model\n",
    "X_train, X_test, y_train, y_test = train_test_split(\n",
    "    bag_of_words, \n",
    "    df_clean['RELEVANT'], \n",
    "    test_size=0.3, \n",
    "    random_state=42, \n",
    "    shuffle = True\n",
    ")\n",
    "\n",
    "X_test, X_val, y_test, y_val = train_test_split(\n",
    "    X_test, \n",
    "    y_test, \n",
    "    test_size=0.5,\n",
    "    random_state=42, \n",
    "    shuffle = True\n",
    ")"
   ]
  },
  {
   "cell_type": "code",
   "execution_count": null,
   "id": "8cadf9ef",
   "metadata": {},
   "outputs": [],
   "source": [
    "X.iloc[train_index_val, X.columns == \"training_val\"] = 1\n",
    "X.iloc[test_index_val, X.columns == \"training_val\"] = 2"
   ]
  }
 ],
 "metadata": {
  "kernelspec": {
   "display_name": "Python 3",
   "language": "python",
   "name": "python3"
  },
  "language_info": {
   "codemirror_mode": {
    "name": "ipython",
    "version": 3
   },
   "file_extension": ".py",
   "mimetype": "text/x-python",
   "name": "python",
   "nbconvert_exporter": "python",
   "pygments_lexer": "ipython3",
   "version": "3.8.5"
  }
 },
 "nbformat": 4,
 "nbformat_minor": 5
}
